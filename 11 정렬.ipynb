{
 "cells": [
  {
   "cell_type": "markdown",
   "id": "dc37ffec",
   "metadata": {},
   "source": [
    "# 2750 수 정렬하기\n",
    "- `문제` N개의 수가 주어졌을 때, 이를 오름차순으로 정렬하는 프로그램을 작성하시오.\n",
    "\n",
    "\n",
    "- `입력` 첫째 줄에 수의 개수 N(1 ≤ N ≤ 1,000)이 주어진다. 둘째 줄부터 N개의 줄에는 수 주어진다. 이 수는 절댓값이 1,000보다 작거나 같은 정수이다. 수는 중복되지 않는다.\n",
    "    - ex) 5 `\\n` 5 `\\n` 2 `\\n` 3 `\\n` 4 `\\n` 1\n",
    "\n",
    "\n",
    "- `출력`\n",
    "    - ex) 1 `\\n` 2 `\\n` 3 `\\n` 4 `\\n` 5"
   ]
  },
  {
   "cell_type": "code",
   "execution_count": 6,
   "id": "2cdc2ee4",
   "metadata": {
    "ExecuteTime": {
     "end_time": "2022-04-27T06:04:56.963725Z",
     "start_time": "2022-04-27T06:04:51.859296Z"
    }
   },
   "outputs": [
    {
     "name": "stdout",
     "output_type": "stream",
     "text": [
      "5\n",
      "5\n",
      "2\n",
      "3\n",
      "4\n",
      "1\n",
      "1\n",
      "2\n",
      "3\n",
      "4\n",
      "5\n"
     ]
    }
   ],
   "source": [
    "# SOL 1) (108 ms)\n",
    "\n",
    "N = int(input())\n",
    "lst = sorted([int(input()) for _ in range(N)])\n",
    "\n",
    "for i in lst:\n",
    "    print(i)"
   ]
  },
  {
   "cell_type": "code",
   "execution_count": 27,
   "id": "72b88668",
   "metadata": {
    "ExecuteTime": {
     "end_time": "2022-04-27T08:23:01.569325Z",
     "start_time": "2022-04-27T08:22:51.298174Z"
    }
   },
   "outputs": [
    {
     "name": "stdout",
     "output_type": "stream",
     "text": [
      "5\n",
      "1\n",
      "3\n",
      "2\n",
      "5\n",
      "4\n",
      "1\n",
      "2\n",
      "3\n",
      "4\n",
      "5\n"
     ]
    }
   ],
   "source": [
    "# SOL 2-1) 엄밀하게 따지면 버블 정렬 아닌 듯.. 브루트 포스에 가까워 보임 (364 ms)\n",
    "\n",
    "N = int(input())\n",
    "lst = [int(input()) for _ in range(N)]\n",
    "\n",
    "for i in range(len(lst)): \n",
    "    for j in range(len(lst)): \n",
    "#         print(f'(i, j)=({i},{j})')\n",
    "        if lst[i] < lst[j] : \n",
    "            lst[i], lst[j] = lst[j], lst[i]\n",
    "            \n",
    "for n in lst: \n",
    "    print(n)"
   ]
  },
  {
   "cell_type": "code",
   "execution_count": 26,
   "id": "ca60d1b6",
   "metadata": {
    "ExecuteTime": {
     "end_time": "2022-04-27T08:21:29.337102Z",
     "start_time": "2022-04-27T08:21:25.607040Z"
    }
   },
   "outputs": [
    {
     "name": "stdout",
     "output_type": "stream",
     "text": [
      "5\n",
      "1\n",
      "3\n",
      "2\n",
      "5\n",
      "4\n",
      "1\n",
      "2\n",
      "3\n",
      "4\n",
      "5\n"
     ]
    }
   ],
   "source": [
    "# SOL 2-2) 버블 정렬 (280 ms)\n",
    "# https://roseline124.github.io/algorithm/2019/04/02/Altorithm-baekjoon-2750.html \n",
    "\n",
    "N = int(input())\n",
    "lst = [int(input()) for _ in range(N)]\n",
    "\n",
    "for i in range(len(lst) - 1, 0, -1):\n",
    "    for j in range(i):\n",
    "#         print(f'j={j}') \n",
    "        if lst[j] > lst[j + 1]:\n",
    "            lst[j], lst[j + 1] = lst[j + 1], lst[j]\n",
    "\n",
    "for n in lst : \n",
    "    print(n)    "
   ]
  },
  {
   "cell_type": "code",
   "execution_count": 28,
   "id": "025730a1",
   "metadata": {
    "ExecuteTime": {
     "end_time": "2022-04-27T08:25:01.329542Z",
     "start_time": "2022-04-27T08:24:57.466230Z"
    }
   },
   "outputs": [
    {
     "name": "stdout",
     "output_type": "stream",
     "text": [
      "5\n",
      "1\n",
      "3\n",
      "2\n",
      "5\n",
      "4\n",
      "1\n",
      "2\n",
      "3\n",
      "4\n",
      "5\n"
     ]
    }
   ],
   "source": [
    "# SOL 2-3) 버블 정렬 (292 ms)\n",
    "\n",
    "N = int(input())\n",
    "lst = [int(input()) for _ in range(N)]\n",
    "\n",
    "unsorted_until_index = len(lst) - 1\n",
    "sorted = False\n",
    "\n",
    "while not sorted:\n",
    "    sorted = True\n",
    "    for i in range(unsorted_until_index):\n",
    "#         print(f'i={i}')\n",
    "        if lst[i] > lst[i+1]:\n",
    "            lst[i], lst[i+1] = lst[i+1], lst[i]\n",
    "            sorted = False\n",
    "    unsorted_until_index -= 1\n",
    "\n",
    "for i in lst:\n",
    "    print(i)"
   ]
  },
  {
   "cell_type": "code",
   "execution_count": 11,
   "id": "69b0bbd4",
   "metadata": {
    "ExecuteTime": {
     "end_time": "2022-04-27T07:22:13.419514Z",
     "start_time": "2022-04-27T07:22:10.564854Z"
    }
   },
   "outputs": [
    {
     "name": "stdout",
     "output_type": "stream",
     "text": [
      "5\n",
      "5\n",
      "2\n",
      "3\n",
      "1\n",
      "4\n",
      "1\n",
      "2\n",
      "3\n",
      "4\n",
      "5\n"
     ]
    }
   ],
   "source": [
    "# SOL 3-1) 삽입 정렬 (300 ms)\n",
    "\n",
    "N = int(input())\n",
    "lst = [int(input()) for _ in range(N)]\n",
    "\n",
    "for i in range(1, len(lst)) :\n",
    "    while (i > 0) & (lst[i] < lst[i-1]) :\n",
    "        lst[i], lst[i-1] = lst[i-1], lst[i]\n",
    "        \n",
    "        i -= 1\n",
    "        \n",
    "for n in lst : \n",
    "    print(n)"
   ]
  },
  {
   "cell_type": "code",
   "execution_count": 2,
   "id": "c30a140a",
   "metadata": {
    "ExecuteTime": {
     "end_time": "2022-04-28T09:43:14.151199Z",
     "start_time": "2022-04-28T09:43:09.890590Z"
    }
   },
   "outputs": [
    {
     "name": "stdout",
     "output_type": "stream",
     "text": [
      "5\n",
      "1\n",
      "3\n",
      "2\n",
      "4\n",
      "5\n",
      "1\n",
      "2\n",
      "3\n",
      "4\n",
      "5\n"
     ]
    }
   ],
   "source": [
    "# SOL 3-2) 삽입 정렬 (248 ms)\n",
    "\n",
    "N = int(input())\n",
    "lst = [int(input()) for _ in range(N)]\n",
    "\n",
    "for index in range(1, len(lst)):\n",
    "    temp_value = lst[index]\n",
    "    position = index-1\n",
    "    \n",
    "    while position >= 0:\n",
    "        if lst[position] > temp_value:\n",
    "            lst[position+1] = lst[position]\n",
    "            position -= 1\n",
    "        else:\n",
    "            break\n",
    "    lst[position+1] = temp_value\n",
    "    \n",
    "for n in lst : \n",
    "    print(n)"
   ]
  },
  {
   "cell_type": "markdown",
   "id": "c902a99e",
   "metadata": {},
   "source": [
    "# 2751 수 정렬하기 2\n",
    "- `문제` N개의 수가 주어졌을 때, 이를 오름차순으로 정렬하는 프로그램을 작성하시오.\n",
    "\n",
    "\n",
    "- `입력` 첫째 줄에 수의 개수 N(1 ≤ N ≤ 1,000,000)이 주어진다. 둘째 줄부터 N개의 줄에는 수가 주어진다. 이 수는 절댓값이 1,000,000보다 작거나 같은 정수이다. 수는 중복되지 않는다.\n",
    "    - ex) 5 `\\n` 5 `\\n` 4 `\\n` 3 `\\n` 2 `\\n` 1\n",
    "\n",
    "\n",
    "- `출력`\n",
    "    - ex) 1 `\\n` 2 `\\n` 3 `\\n` 4 `\\n` 5 "
   ]
  },
  {
   "cell_type": "code",
   "execution_count": null,
   "id": "1832bb81",
   "metadata": {},
   "outputs": [],
   "source": [
    "# TRY 1) 시간 초과... 이럴 줄 알았다.. 수정해보자!\n",
    "\n",
    "N = int(input())\n",
    "lst = sorted([int(input()) for _ in range(N)])\n",
    "for i in lst:\n",
    "    print(i)"
   ]
  },
  {
   "cell_type": "code",
   "execution_count": null,
   "id": "aebae530",
   "metadata": {},
   "outputs": [],
   "source": []
  },
  {
   "cell_type": "markdown",
   "id": "13f9f45b",
   "metadata": {},
   "source": [
    "# 10989 수 정렬하기 3\n",
    "- `문제` N개의 수가 주어졌을 때, 이를 오름차순으로 정렬하는 프로그램을 작성하시오.\n",
    "\n",
    "\n",
    "- `입력` 첫째 줄에 수의 개수 N(1 ≤ N ≤ 10,000,000)이 주어진다. 둘째 줄부터 N개의 줄에는 수가 주어진다. 이 수는 10,000보다 작거나 같은 자연수이다.\n",
    "    - ex) 10 `\\n` 5 `\\n` 2 `\\n` 3 `\\n` 1 `\\n` 4 `\\n` 2 `\\n` 3 `\\n` 5 `\\n` 1 `\\n` 7\n",
    "\n",
    "\n",
    "- `출력` 첫째 줄부터 N개의 줄에 오름차순으로 정렬한 결과를 한 줄에 하나씩 출력한다.\n",
    "    - ex) 1 `\\n` 1 `\\n` 2 `\\n` 2 `\\n` 3 `\\n` 3 `\\n` 4 `\\n` 5 `\\n` 5 `\\n` 7"
   ]
  },
  {
   "cell_type": "code",
   "execution_count": null,
   "id": "eab9b3b0",
   "metadata": {},
   "outputs": [],
   "source": []
  },
  {
   "cell_type": "markdown",
   "id": "2f0ec808",
   "metadata": {},
   "source": [
    "# 2108 통계학\n",
    "- `문제` 수를 처리하는 것은 통계학에서 상당히 중요한 일이다. 통계학에서 N개의 수를 대표하는 기본 통계값에는 다음과 같은 것들이 있다. 단, N은 홀수라고 가정하자. N개의 수가 주어졌을 때, 네 가지 기본 통계값을 구하는 프로그램을 작성하시오.\n",
    "    - 산술평균 : N개의 수들의 합을 N으로 나눈 값\n",
    "    - 중앙값 : N개의 수들을 증가하는 순서로 나열했을 경우 그 중앙에 위치하는 값\n",
    "    - 최빈값 : N개의 수들 중 가장 많이 나타나는 값\n",
    "    - 범위 : N개의 수들 중 최댓값과 최솟값의 차이\n",
    "    \n",
    "    \n",
    "- `입력` 첫째 줄에 수의 개수 N(1 ≤ N ≤ 500,000)이 주어진다. 단, N은 홀수이다. 그 다음 N개의 줄에는 정수들이 주어진다. 입력되는 정수의 절댓값은 4,000을 넘지 않는다.\n",
    "    - ex)\n",
    "        - 5 `\\n` 1 `\\n` 3 `\\n` 8 `\\n` -2 `\\n` 2\n",
    "        - 1 `\\n` 4000\n",
    "        - 5 `\\n` -1 `\\n` -2 `\\n` -3 `\\n` -1 `\\n` -2\n",
    "    \n",
    "    \n",
    "- `출력` 첫째 줄에는 산술평균을 출력한다. 소수점 이하 첫째 자리에서 반올림한 값을 출력한다. 둘째 줄에는 중앙값을 출력한다. 셋째 줄에는 최빈값을 출력한다. 여러 개 있을 때에는 최빈값 중 두 번째로 작은 값을 출력한다. 넷째 줄에는 범위를 출력한다.\n",
    "    - ex) \n",
    "        - 2 `\\n` 2 `\\n` 1 `\\n` 10\n",
    "        - 4000 `\\n` 4000 `\\n` 4000 `\\n` 0\n",
    "        - -2 `\\n` -2 `\\n` -1 `\\n` 2"
   ]
  },
  {
   "cell_type": "code",
   "execution_count": null,
   "id": "c157f35b",
   "metadata": {},
   "outputs": [],
   "source": []
  },
  {
   "cell_type": "markdown",
   "id": "fb0ce0a9",
   "metadata": {},
   "source": [
    "# 1427 소트인사이드\n",
    "- `문제` 배열을 정렬하는 것은 쉽다. 수가 주어지면, 그 수의 각 자리수를 내림차순으로 정렬해보자.\n",
    "\n",
    "\n",
    "- `입력` 첫째 줄에 정렬하려고 하는 수 N이 주어진다. N은 1,000,000,000보다 작거나 같은 자연수이다.\n",
    "    - ex) 2143 / 999998999 / 61423 / 500613009\n",
    "\n",
    "\n",
    "- `출력` 첫째 줄에 자리수를 내림차순으로 정렬한 수를 출력한다.\n",
    "    - ex) 4321 / 999999998 / 64321 / 965310000"
   ]
  },
  {
   "cell_type": "code",
   "execution_count": null,
   "id": "73af72a7",
   "metadata": {},
   "outputs": [],
   "source": []
  },
  {
   "cell_type": "markdown",
   "id": "f8aa0f0e",
   "metadata": {},
   "source": [
    "# 11650 좌표 정렬하기\n",
    "- `문제` 2차원 평면 위의 점 N개가 주어진다. 좌표를 x좌표가 증가하는 순으로, x좌표가 같으면 y좌표가 증가하는 순서로 정렬한 다음 출력하는 프로그램을 작성하시오.\n",
    "\n",
    "\n",
    "- `입력` 첫째 줄에 점의 개수 N (1 ≤ N ≤ 100,000)이 주어진다. 둘째 줄부터 N개의 줄에는 i번점의 위치 xi와 yi가 주어진다. (-100,000 ≤ xi, yi ≤ 100,000) 좌표는 항상 정수이고, 위치가 같은 두 점은 없다.\n",
    "    - ex) 5 `\\n` 3 4 `\\n` 1 1 `\\n` 1 -1 `\\n` 2 2 `\\n` 3 3\n",
    "\n",
    "\n",
    "- `출력` 첫째 줄부터 N개의 줄에 점을 정렬한 결과를 출력한다.\n",
    "    - ex) 1 -1 `\\n` 1 1 `\\n` 2 2 `\\n` 3 3 `\\n` 3 4"
   ]
  },
  {
   "cell_type": "code",
   "execution_count": null,
   "id": "998d939b",
   "metadata": {},
   "outputs": [],
   "source": []
  },
  {
   "cell_type": "markdown",
   "id": "488c5770",
   "metadata": {},
   "source": [
    "# 11651 좌표 정렬하기 2\n",
    "- `문제` 2차원 평면 위의 점 N개가 주어진다. 좌표를 y좌표가 증가하는 순으로, y좌표가 같으면 x좌표가 증가하는 순서로 정렬한 다음 출력하는 프로그램을 작성하시오.\n",
    "\n",
    "\n",
    "- `입력` 첫째 줄에 점의 개수 N (1 ≤ N ≤ 100,000)이 주어진다. 둘째 줄부터 N개의 줄에는 i번점의 위치 xi와 yi가 주어진다. (-100,000 ≤ xi, yi ≤ 100,000) 좌표는 항상 정수이고, 위치가 같은 두 점은 없다.\n",
    "    - ex) 5 `\\n` 0 4 `\\n` 1 2 `\\n` 1 -1 `\\n` 2 2 `\\n` 3 3\n",
    "\n",
    "\n",
    "- `출력` 첫째 줄부터 N개의 줄에 점을 정렬한 결과를 출력한다.\n",
    "    - ex) 1 -1 `\\n` 1 2 `\\n` 2 2 `\\n` 3 3 `\\n` 0 4"
   ]
  },
  {
   "cell_type": "code",
   "execution_count": null,
   "id": "23e64849",
   "metadata": {},
   "outputs": [],
   "source": []
  },
  {
   "cell_type": "markdown",
   "id": "32cba397",
   "metadata": {},
   "source": [
    "# 1181 단어 정렬\n",
    "- `문제` 알파벳 소문자로 이루어진 N개의 단어가 들어오면 아래와 같은 조건에 따라 정렬하는 프로그램을 작성하시오. 1. 길이가 짧은 것부터 2. 길이가 같으면 사전 순으로\n",
    "\n",
    "\n",
    "- `입력` 첫째 줄에 단어의 개수 N이 주어진다. (1 ≤ N ≤ 20,000) 둘째 줄부터 N개의 줄에 걸쳐 알파벳 소문자로 이루어진 단어가 한 줄에 하나씩 주어진다. 주어지는 문자열의 길이는 50을 넘지 않는다.\n",
    "    - ex) 13 `\\n` but `\\n` i `\\n` wont `\\n` hesitate `\\n` no `\\n` more `\\n` no `\\n` more `\\n` it `\\n` cannot `\\n` wait `\\n` im `\\n` yours\n",
    "\n",
    "\n",
    "- `출력` 조건에 따라 정렬하여 단어들을 출력한다. 단, 같은 단어가 여러 번 입력된 경우에는 한 번씩만 출력한다.\n",
    "    - ex) i `\\n` im `\\n` it `\\n` no `\\n` but `\\n` more `\\n` wait `\\n` wont `\\n` yours `\\n` cannot `\\n` hesitate"
   ]
  },
  {
   "cell_type": "code",
   "execution_count": null,
   "id": "d4162cf0",
   "metadata": {},
   "outputs": [],
   "source": []
  },
  {
   "cell_type": "markdown",
   "id": "540f928b",
   "metadata": {},
   "source": [
    "# 10814 나이순 정렬\n",
    "- `문제` 온라인 저지에 가입한 사람들의 나이와 이름이 가입한 순서대로 주어진다. 이때, 회원들을 나이가 증가하는 순으로, 나이가 같으면 먼저 가입한 사람이 앞에 오는 순서로 정렬하는 프로그램을 작성하시오.\n",
    "\n",
    "\n",
    "- `입력` 첫째 줄에 온라인 저지 회원의 수 N이 주어진다. (1 ≤ N ≤ 100,000) 둘째 줄부터 N개의 줄에는 각 회원의 나이와 이름이 공백으로 구분되어 주어진다. 나이는 1보다 크거나 같으며, 200보다 작거나 같은 정수이고, 이름은 알파벳 대소문자로 이루어져 있고, 길이가 100보다 작거나 같은 문자열이다. 입력은 가입한 순서로 주어진다.\n",
    "    - ex) 3 `\\n` 21 Junkyu `\\n` 21 Dohyun `\\n` 20 Sunyoung\n",
    "    \n",
    "    \n",
    "- `출력` 첫째 줄부터 총 N개의 줄에 걸쳐 온라인 저지 회원을 나이 순, 나이가 같으면 가입한 순으로 한 줄에 한 명씩 나이와 이름을 공백으로 구분해 출력한다.\n",
    "    - ex) 20 Sunyoung `\\n` 21 Junkyu `\\n` 21 Dohyun"
   ]
  },
  {
   "cell_type": "code",
   "execution_count": null,
   "id": "03bcc019",
   "metadata": {},
   "outputs": [],
   "source": []
  },
  {
   "cell_type": "markdown",
   "id": "d5348f66",
   "metadata": {},
   "source": [
    "# 18870 좌표 압축 \n",
    "- `문제` 수직선 위에 N개의 좌표 X1, X2, ..., XN이 있다. 이 좌표에 좌표 압축을 적용하려고 한다. Xi를 좌표 압축한 결과 X'i의 값은 Xi > Xj를 만족하는 서로 다른 좌표의 개수와 같아야 한다. X1, X2, ..., XN에 좌표 압축을 적용한 결과 X'1, X'2, ..., X'N를 출력해보자.\n",
    "\n",
    "\n",
    "- `입력` 첫째 줄에 N이 주어진다. 둘째 줄에는 공백 한 칸으로 구분된 X1, X2, ..., XN이 주어진다.\n",
    "    - ex) \n",
    "        - 5 `\\n` 2 4 -10 4 -9\n",
    "        - 6 `\\n` 1000 999 1000 999 1000 999\n",
    "\n",
    "\n",
    "- `출력` 첫째 줄에 X'1, X'2, ..., X'N을 공백 한 칸으로 구분해서 출력한다.\n",
    "    - ex)\n",
    "        - 2 3 0 3 1\n",
    "        - 1 0 1 0 1 0\n",
    "    \n",
    "\n",
    "- `제한` \n",
    "    - 1 ≤ N ≤ 1,000,000\n",
    "    - -10^9 ≤ Xi ≤ 10^9"
   ]
  },
  {
   "cell_type": "code",
   "execution_count": null,
   "id": "c8b4c58f",
   "metadata": {},
   "outputs": [],
   "source": []
  }
 ],
 "metadata": {
  "kernelspec": {
   "display_name": "Python 3 (ipykernel)",
   "language": "python",
   "name": "python3"
  },
  "language_info": {
   "codemirror_mode": {
    "name": "ipython",
    "version": 3
   },
   "file_extension": ".py",
   "mimetype": "text/x-python",
   "name": "python",
   "nbconvert_exporter": "python",
   "pygments_lexer": "ipython3",
   "version": "3.9.7"
  },
  "toc": {
   "base_numbering": 1,
   "nav_menu": {},
   "number_sections": true,
   "sideBar": true,
   "skip_h1_title": false,
   "title_cell": "Table of Contents",
   "title_sidebar": "Contents",
   "toc_cell": false,
   "toc_position": {},
   "toc_section_display": true,
   "toc_window_display": false
  }
 },
 "nbformat": 4,
 "nbformat_minor": 5
}
