{
 "cells": [
  {
   "cell_type": "markdown",
   "id": "dc37ffec",
   "metadata": {},
   "source": [
    "# [2750 수 정렬하기](https://www.acmicpc.net/problem/2750)\n",
    "- `문제` N개의 수가 주어졌을 때, 이를 오름차순으로 정렬하는 프로그램을 작성하시오.\n",
    "\n",
    "\n",
    "- `입력` 첫째 줄에 수의 개수 N(1 ≤ N ≤ 1,000)이 주어진다. 둘째 줄부터 N개의 줄에는 수 주어진다. 이 수는 절댓값이 1,000보다 작거나 같은 정수이다. 수는 중복되지 않는다.\n",
    "    - ex) 5 `\\n` 5 `\\n` 2 `\\n` 3 `\\n` 4 `\\n` 1\n",
    "\n",
    "\n",
    "- `출력`\n",
    "    - ex) 1 `\\n` 2 `\\n` 3 `\\n` 4 `\\n` 5"
   ]
  },
  {
   "cell_type": "code",
   "execution_count": 6,
   "id": "2cdc2ee4",
   "metadata": {
    "ExecuteTime": {
     "end_time": "2022-04-27T06:04:56.963725Z",
     "start_time": "2022-04-27T06:04:51.859296Z"
    }
   },
   "outputs": [
    {
     "name": "stdout",
     "output_type": "stream",
     "text": [
      "5\n",
      "5\n",
      "2\n",
      "3\n",
      "4\n",
      "1\n",
      "1\n",
      "2\n",
      "3\n",
      "4\n",
      "5\n"
     ]
    }
   ],
   "source": [
    "# SOL 1) (108 ms)\n",
    "\n",
    "N = int(input())\n",
    "lst = sorted([int(input()) for _ in range(N)])\n",
    "\n",
    "for i in lst:\n",
    "    print(i)"
   ]
  },
  {
   "cell_type": "code",
   "execution_count": 27,
   "id": "72b88668",
   "metadata": {
    "ExecuteTime": {
     "end_time": "2022-04-27T08:23:01.569325Z",
     "start_time": "2022-04-27T08:22:51.298174Z"
    }
   },
   "outputs": [
    {
     "name": "stdout",
     "output_type": "stream",
     "text": [
      "5\n",
      "1\n",
      "3\n",
      "2\n",
      "5\n",
      "4\n",
      "1\n",
      "2\n",
      "3\n",
      "4\n",
      "5\n"
     ]
    }
   ],
   "source": [
    "# SOL 2-1) 엄밀하게 따지면 버블 정렬 아닌 듯.. 브루트 포스에 가까워 보임 (364 ms)\n",
    "\n",
    "N = int(input())\n",
    "lst = [int(input()) for _ in range(N)]\n",
    "\n",
    "for i in range(len(lst)): \n",
    "    for j in range(len(lst)): \n",
    "#         print(f'(i, j)=({i},{j})')\n",
    "        if lst[i] < lst[j] : \n",
    "            lst[i], lst[j] = lst[j], lst[i]\n",
    "            \n",
    "for n in lst: \n",
    "    print(n)"
   ]
  },
  {
   "cell_type": "code",
   "execution_count": 26,
   "id": "ca60d1b6",
   "metadata": {
    "ExecuteTime": {
     "end_time": "2022-04-27T08:21:29.337102Z",
     "start_time": "2022-04-27T08:21:25.607040Z"
    }
   },
   "outputs": [
    {
     "name": "stdout",
     "output_type": "stream",
     "text": [
      "5\n",
      "1\n",
      "3\n",
      "2\n",
      "5\n",
      "4\n",
      "1\n",
      "2\n",
      "3\n",
      "4\n",
      "5\n"
     ]
    }
   ],
   "source": [
    "# SOL 2-2) 버블 정렬 (280 ms)\n",
    "# https://roseline124.github.io/algorithm/2019/04/02/Altorithm-baekjoon-2750.html \n",
    "\n",
    "N = int(input())\n",
    "lst = [int(input()) for _ in range(N)]\n",
    "\n",
    "for i in range(len(lst) - 1, 0, -1):\n",
    "    for j in range(i):\n",
    "#         print(f'j={j}') \n",
    "        if lst[j] > lst[j + 1]:\n",
    "            lst[j], lst[j + 1] = lst[j + 1], lst[j]\n",
    "\n",
    "for n in lst : \n",
    "    print(n)    "
   ]
  },
  {
   "cell_type": "code",
   "execution_count": 28,
   "id": "025730a1",
   "metadata": {
    "ExecuteTime": {
     "end_time": "2022-04-27T08:25:01.329542Z",
     "start_time": "2022-04-27T08:24:57.466230Z"
    }
   },
   "outputs": [
    {
     "name": "stdout",
     "output_type": "stream",
     "text": [
      "5\n",
      "1\n",
      "3\n",
      "2\n",
      "5\n",
      "4\n",
      "1\n",
      "2\n",
      "3\n",
      "4\n",
      "5\n"
     ]
    }
   ],
   "source": [
    "# SOL 2-3) 버블 정렬 (292 ms)\n",
    "\n",
    "N = int(input())\n",
    "lst = [int(input()) for _ in range(N)]\n",
    "\n",
    "unsorted_until_index = len(lst) - 1\n",
    "sorted = False\n",
    "\n",
    "while not sorted:\n",
    "    sorted = True\n",
    "    for i in range(unsorted_until_index):\n",
    "#         print(f'i={i}')\n",
    "        if lst[i] > lst[i+1]:\n",
    "            lst[i], lst[i+1] = lst[i+1], lst[i]\n",
    "            sorted = False\n",
    "    unsorted_until_index -= 1\n",
    "\n",
    "for i in lst:\n",
    "    print(i)"
   ]
  },
  {
   "cell_type": "code",
   "execution_count": 11,
   "id": "69b0bbd4",
   "metadata": {
    "ExecuteTime": {
     "end_time": "2022-04-27T07:22:13.419514Z",
     "start_time": "2022-04-27T07:22:10.564854Z"
    }
   },
   "outputs": [
    {
     "name": "stdout",
     "output_type": "stream",
     "text": [
      "5\n",
      "5\n",
      "2\n",
      "3\n",
      "1\n",
      "4\n",
      "1\n",
      "2\n",
      "3\n",
      "4\n",
      "5\n"
     ]
    }
   ],
   "source": [
    "# SOL 3-1) 삽입 정렬 (300 ms)\n",
    "\n",
    "N = int(input())\n",
    "lst = [int(input()) for _ in range(N)]\n",
    "\n",
    "for i in range(1, len(lst)) :\n",
    "    while (i > 0) & (lst[i] < lst[i-1]) :\n",
    "        lst[i], lst[i-1] = lst[i-1], lst[i]\n",
    "        \n",
    "        i -= 1\n",
    "        \n",
    "for n in lst : \n",
    "    print(n)"
   ]
  },
  {
   "cell_type": "code",
   "execution_count": 2,
   "id": "c30a140a",
   "metadata": {
    "ExecuteTime": {
     "end_time": "2022-04-28T09:43:14.151199Z",
     "start_time": "2022-04-28T09:43:09.890590Z"
    }
   },
   "outputs": [
    {
     "name": "stdout",
     "output_type": "stream",
     "text": [
      "5\n",
      "1\n",
      "3\n",
      "2\n",
      "4\n",
      "5\n",
      "1\n",
      "2\n",
      "3\n",
      "4\n",
      "5\n"
     ]
    }
   ],
   "source": [
    "# SOL 3-2) 삽입 정렬 (248 ms)\n",
    "\n",
    "N = int(input())\n",
    "lst = [int(input()) for _ in range(N)]\n",
    "\n",
    "for index in range(1, len(lst)):\n",
    "    temp_value = lst[index]\n",
    "    position = index-1\n",
    "    \n",
    "    while position >= 0:\n",
    "        if lst[position] > temp_value:\n",
    "            lst[position+1] = lst[position]\n",
    "            position -= 1\n",
    "        else:\n",
    "            break\n",
    "    lst[position+1] = temp_value\n",
    "    \n",
    "for n in lst : \n",
    "    print(n)"
   ]
  },
  {
   "cell_type": "markdown",
   "id": "c902a99e",
   "metadata": {},
   "source": [
    "# [2751 수 정렬하기 2](https://www.acmicpc.net/problem/2751)\n",
    "- `문제` N개의 수가 주어졌을 때, 이를 오름차순으로 정렬하는 프로그램을 작성하시오.\n",
    "\n",
    "\n",
    "- `입력` 첫째 줄에 수의 개수 N(1 ≤ N ≤ 1,000,000)이 주어진다. 둘째 줄부터 N개의 줄에는 수가 주어진다. 이 수는 절댓값이 1,000,000보다 작거나 같은 정수이다. 수는 중복되지 않는다.\n",
    "    - ex) 5 `\\n` 5 `\\n` 4 `\\n` 3 `\\n` 2 `\\n` 1\n",
    "\n",
    "\n",
    "- `출력`\n",
    "    - ex) 1 `\\n` 2 `\\n` 3 `\\n` 4 `\\n` 5 "
   ]
  },
  {
   "cell_type": "markdown",
   "id": "23c1df91",
   "metadata": {},
   "source": [
    "## TRY"
   ]
  },
  {
   "cell_type": "code",
   "execution_count": 13,
   "id": "1cfdc71e",
   "metadata": {
    "ExecuteTime": {
     "end_time": "2022-05-03T09:15:17.084238Z",
     "start_time": "2022-05-03T09:15:15.211592Z"
    }
   },
   "outputs": [
    {
     "name": "stdout",
     "output_type": "stream",
     "text": [
      "3\n",
      "2\n",
      "1\n",
      "3\n",
      "1\n",
      "2\n",
      "3\n"
     ]
    }
   ],
   "source": [
    "# TRY 1) 퀵 정렬\n",
    "# --- input() : 시간 초과\n",
    "# --- import sys / sys.stdin.readline() : 시간 초과\n",
    "# --- pypy3 사용 : 런타임 에러\n",
    "\n",
    "import sys\n",
    "\n",
    "N = int(sys.stdin.readline())\n",
    "lst = [int(sys.stdin.readline()) for _ in range(N)]\n",
    "    \n",
    "def partition(array, left_pointer, right_pointer):\n",
    "    pivot_index = right_pointer\n",
    "    pivot = array[pivot_index]\n",
    "    right_pointer -= 1 \n",
    "\n",
    "    while True:\n",
    "        while array[left_pointer] < pivot:\n",
    "            left_pointer += 1\n",
    "        while array[right_pointer] > pivot:\n",
    "            right_pointer -= 1\n",
    "        if left_pointer >= right_pointer:\n",
    "            break\n",
    "        else:\n",
    "            array[left_pointer], array[right_pointer] = array[right_pointer], array[left_pointer]\n",
    "            left_pointer += 1\n",
    "\n",
    "    array[left_pointer], array[pivot_index] = array[pivot_index], array[left_pointer]\n",
    "    return left_pointer\n",
    "\n",
    "def quicksort(array, left_index, right_index):\n",
    "    if right_index - left_index <= 0:\n",
    "        return\n",
    "    pivot_index = partition(array, left_index, right_index)\n",
    "    quicksort(array, left_index, pivot_index-1)\n",
    "    quicksort(array, pivot_index+1, right_index)\n",
    "    \n",
    "    return array\n",
    "\n",
    "for i in quicksort(lst, 0, len(lst)-1):\n",
    "    print(i)"
   ]
  },
  {
   "cell_type": "code",
   "execution_count": 5,
   "id": "7408d226",
   "metadata": {
    "ExecuteTime": {
     "end_time": "2022-05-04T02:05:40.840895Z",
     "start_time": "2022-05-04T02:05:32.201583Z"
    }
   },
   "outputs": [
    {
     "name": "stdout",
     "output_type": "stream",
     "text": [
      "6\n",
      "2\n",
      "20\n",
      "3\n",
      "41\n",
      "1\n",
      "100\n",
      "1\n",
      "2\n",
      "3\n",
      "20\n",
      "41\n",
      "100\n"
     ]
    }
   ],
   "source": [
    "# TRY 2) 퀵 정렬 - 정리 ver.\n",
    "\n",
    "N = int(input())\n",
    "lst = [int(input()) for _ in range(N)]\n",
    "\n",
    "def quicksort(array, start, end):\n",
    "    if end - start <= 0:\n",
    "        return\n",
    "    pivot_idx = end\n",
    "    pivot = array[pivot_idx]\n",
    "    left = start\n",
    "    right = end - 1\n",
    "    \n",
    "    while True:\n",
    "        while array[left] < pivot:\n",
    "            left += 1\n",
    "        while array[right] > pivot:\n",
    "            right -= 1\n",
    "        if left >= right:\n",
    "            break\n",
    "        else:\n",
    "            array[left], array[right] = array[right], array[left]\n",
    "            left += 1\n",
    "    \n",
    "    array[left], array[pivot_idx] = array[pivot_idx], array[left]\n",
    "    pivot_idx = left\n",
    "    \n",
    "    quicksort(array, start, pivot_idx-1)\n",
    "    quicksort(array, pivot_idx+1, end)\n",
    "    \n",
    "    return array\n",
    "\n",
    "for i in quicksort(lst, 0, len(lst)-1):\n",
    "    print(i)"
   ]
  },
  {
   "cell_type": "markdown",
   "id": "64c00464",
   "metadata": {},
   "source": [
    "## SOL"
   ]
  },
  {
   "cell_type": "code",
   "execution_count": 12,
   "id": "1832bb81",
   "metadata": {
    "ExecuteTime": {
     "end_time": "2022-05-03T09:15:10.739736Z",
     "start_time": "2022-05-03T09:15:07.774688Z"
    }
   },
   "outputs": [
    {
     "name": "stdout",
     "output_type": "stream",
     "text": [
      "3\n",
      "2\n",
      "1\n",
      "3\n",
      "1\n",
      "2\n",
      "3\n"
     ]
    }
   ],
   "source": [
    "# SOL 1) 파이썬 sorted 함수 사용\n",
    "# --- input() : 시간 초과\n",
    "# --- import sys : 1408 ms\n",
    "# --- import sys + pypy3 : 744 ms\n",
    "\n",
    "import sys\n",
    "\n",
    "N = int(sys.stdin.readline())\n",
    "lst = sorted([int(sys.stdin.readline()) for _ in range(N)])\n",
    "\n",
    "for i in lst:\n",
    "    print(i)"
   ]
  },
  {
   "cell_type": "code",
   "execution_count": 11,
   "id": "728384d2",
   "metadata": {
    "ExecuteTime": {
     "end_time": "2022-05-03T09:14:05.462432Z",
     "start_time": "2022-05-03T09:14:01.846059Z"
    }
   },
   "outputs": [
    {
     "name": "stdout",
     "output_type": "stream",
     "text": [
      "5\n",
      "3\n",
      "1\n",
      "2\n",
      "4\n",
      "5\n",
      "1\n",
      "2\n",
      "3\n",
      "4\n",
      "5\n"
     ]
    }
   ],
   "source": [
    "# SOL 2) 파이썬 sort 함수 사용\n",
    "# --- input() : 시간 초과\n",
    "# --- import sys : 1436 ms\n",
    "# --- import sys + pypy3 : 692 ms\n",
    "\n",
    "import sys\n",
    "\n",
    "N = int(sys.stdin.readline())\n",
    "lst = [int(sys.stdin.readline()) for _ in range(N)]\n",
    "\n",
    "lst.sort()\n",
    "\n",
    "for i in lst:\n",
    "    print(i)"
   ]
  },
  {
   "cell_type": "code",
   "execution_count": 15,
   "id": "1b6edf75",
   "metadata": {
    "ExecuteTime": {
     "end_time": "2022-05-03T09:21:16.742565Z",
     "start_time": "2022-05-03T09:21:14.714089Z"
    }
   },
   "outputs": [
    {
     "name": "stdout",
     "output_type": "stream",
     "text": [
      "3\n",
      "3\n",
      "2\n",
      "1\n",
      "1\n",
      "2\n",
      "3\n"
     ]
    }
   ],
   "source": [
    "# SOL 3) 병합 정렬\n",
    "# --- input() : 시간 초과\n",
    "# --- import sys : 7164 ms\n",
    "# --- import sys + pypy3 : 1136 ms\n",
    "\n",
    "import sys\n",
    "\n",
    "N = int(sys.stdin.readline())\n",
    "lst = [int(sys.stdin.readline()) for _ in range(N)]\n",
    "\n",
    "def merge_sort(array):\n",
    "    if len(array)<=1:\n",
    "        return array\n",
    "    mid = len(array) // 2\n",
    "    left = merge_sort(array[:mid])\n",
    "    right = merge_sort(array[mid:])\n",
    "\n",
    "    i,j,k = 0,0,0\n",
    "\n",
    "    while i < len(left) and j <len(right):\n",
    "        if left[i] < right[j]:\n",
    "            array[k] = left[i]\n",
    "            i += 1\n",
    "        else:\n",
    "            array[k] = right[j]\n",
    "            j += 1\n",
    "        k+=1\n",
    "    \n",
    "    if i==len(left):\n",
    "        while j < len(right):\n",
    "            array[k] = right[j]\n",
    "            j += 1\n",
    "            k += 1\n",
    "    elif j==len(right):\n",
    "        while i < len(left):\n",
    "            array[k] = left[i]\n",
    "            i += 1\n",
    "            k += 1\n",
    "    return array\n",
    "\n",
    "for i in merge_sort(lst):\n",
    "    print(i)"
   ]
  },
  {
   "cell_type": "markdown",
   "id": "13f9f45b",
   "metadata": {},
   "source": [
    "# [10989 수 정렬하기 3](https://www.acmicpc.net/problem/10989)\n",
    "- `문제` N개의 수가 주어졌을 때, 이를 오름차순으로 정렬하는 프로그램을 작성하시오.\n",
    "\n",
    "\n",
    "- `입력` 첫째 줄에 수의 개수 N(1 ≤ N ≤ 10,000,000)이 주어진다. 둘째 줄부터 N개의 줄에는 수가 주어진다. 이 수는 10,000보다 작거나 같은 자연수이다.\n",
    "    - ex) 10 `\\n` 5 `\\n` 2 `\\n` 3 `\\n` 1 `\\n` 4 `\\n` 2 `\\n` 3 `\\n` 5 `\\n` 1 `\\n` 7\n",
    "\n",
    "\n",
    "- `출력` 첫째 줄부터 N개의 줄에 오름차순으로 정렬한 결과를 한 줄에 하나씩 출력한다.\n",
    "    - ex) 1 `\\n` 1 `\\n` 2 `\\n` 2 `\\n` 3 `\\n` 3 `\\n` 4 `\\n` 5 `\\n` 5 `\\n` 7"
   ]
  },
  {
   "cell_type": "markdown",
   "id": "dd75358e",
   "metadata": {},
   "source": [
    "## TRY"
   ]
  },
  {
   "cell_type": "code",
   "execution_count": null,
   "id": "eab9b3b0",
   "metadata": {},
   "outputs": [],
   "source": [
    "# TRY 1) 파이썬 sort 함수 사용\n",
    "# --- import sys + pypy3 : 메모리 초과\n",
    "\n",
    "import sys\n",
    "\n",
    "N = int(sys.stdin.readline())\n",
    "lst = [int(sys.stdin.readline()) for _ in range(N)]\n",
    "\n",
    "lst.sort()\n",
    "\n",
    "for i in lst:\n",
    "    print(i)"
   ]
  },
  {
   "cell_type": "markdown",
   "id": "383a57a2",
   "metadata": {},
   "source": [
    "## SOL"
   ]
  },
  {
   "cell_type": "code",
   "execution_count": 14,
   "id": "501ae6f0",
   "metadata": {
    "ExecuteTime": {
     "end_time": "2022-05-04T03:04:56.020355Z",
     "start_time": "2022-05-04T03:04:49.430320Z"
    }
   },
   "outputs": [
    {
     "name": "stdout",
     "output_type": "stream",
     "text": [
      "5\n",
      "1\n",
      "3\n",
      "3\n",
      "2\n",
      "4\n",
      "1\n",
      "2\n",
      "3\n",
      "3\n",
      "4\n"
     ]
    }
   ],
   "source": [
    "# SOL 1) 공간복잡도 줄이는 게 포인트\n",
    "# --- import sys : 9320 ms\n",
    "# --- import sys + pypy3 : 메모리 초과\n",
    "\n",
    "import sys\n",
    "\n",
    "N = int(sys.stdin.readline())\n",
    "lst = [0] * 10001\n",
    "\n",
    "for i in range(N):\n",
    "    lst[int(sys.stdin.readline())] += 1\n",
    "    \n",
    "for i in range(10001):\n",
    "    if lst[i] != 0:\n",
    "        for _ in range(lst[i]):\n",
    "            print(i)"
   ]
  },
  {
   "cell_type": "code",
   "execution_count": null,
   "id": "ca617f1f",
   "metadata": {},
   "outputs": [],
   "source": [
    "# SOL 2) \n",
    "# --- import sys : 7364 ms\n",
    "# --- import sys + pypy3 : 3324 ms\n",
    "\n",
    "from sys import stdin, stdout\n",
    "\n",
    "N = int(stdin.readline())\n",
    "lst = [0] * 10001\n",
    "\n",
    "for _ in range(N):\n",
    "    lst[int(stdin.readline())] += 1\n",
    "\n",
    "for idx, val in enumerate(lst):\n",
    "    if val == 0:\n",
    "        continue\n",
    "    for _ in range(val):\n",
    "        stdout.write(f\"{idx}\\n\")"
   ]
  },
  {
   "cell_type": "code",
   "execution_count": 25,
   "id": "084a8c94",
   "metadata": {
    "ExecuteTime": {
     "end_time": "2022-05-04T03:21:13.100757Z",
     "start_time": "2022-05-04T03:21:13.097438Z"
    }
   },
   "outputs": [
    {
     "name": "stdout",
     "output_type": "stream",
     "text": [
      "aaabbb"
     ]
    },
    {
     "data": {
      "text/plain": [
       "3"
      ]
     },
     "execution_count": 25,
     "metadata": {},
     "output_type": "execute_result"
    }
   ],
   "source": [
    "# stdout.write()에 관해..\n",
    "\n",
    "import sys\n",
    "sys.stdout.write('aaa')\n",
    "sys.stdout.write('bbb')"
   ]
  },
  {
   "cell_type": "markdown",
   "id": "2f0ec808",
   "metadata": {},
   "source": [
    "# [2108 통계학](https://www.acmicpc.net/problem/2108)\n",
    "- `문제` 수를 처리하는 것은 통계학에서 상당히 중요한 일이다. 통계학에서 N개의 수를 대표하는 기본 통계값에는 다음과 같은 것들이 있다. 단, N은 홀수라고 가정하자. N개의 수가 주어졌을 때, 네 가지 기본 통계값을 구하는 프로그램을 작성하시오.\n",
    "    - 산술평균 : N개의 수들의 합을 N으로 나눈 값\n",
    "    - 중앙값 : N개의 수들을 증가하는 순서로 나열했을 경우 그 중앙에 위치하는 값\n",
    "    - 최빈값 : N개의 수들 중 가장 많이 나타나는 값\n",
    "    - 범위 : N개의 수들 중 최댓값과 최솟값의 차이\n",
    "    \n",
    "    \n",
    "- `입력` 첫째 줄에 수의 개수 N(1 ≤ N ≤ 500,000)이 주어진다. 단, N은 홀수이다. 그 다음 N개의 줄에는 정수들이 주어진다. 입력되는 정수의 절댓값은 4,000을 넘지 않는다.\n",
    "    - ex)\n",
    "        - 5 `\\n` 1 `\\n` 3 `\\n` 8 `\\n` -2 `\\n` 2\n",
    "        - 1 `\\n` 4000\n",
    "        - 5 `\\n` -1 `\\n` -2 `\\n` -3 `\\n` -1 `\\n` -2\n",
    "    \n",
    "    \n",
    "- `출력` 첫째 줄에는 산술평균을 출력한다. 소수점 이하 첫째 자리에서 반올림한 값을 출력한다. 둘째 줄에는 중앙값을 출력한다. 셋째 줄에는 최빈값을 출력한다. 여러 개 있을 때에는 최빈값 중 두 번째로 작은 값을 출력한다. 넷째 줄에는 범위를 출력한다.\n",
    "    - ex) \n",
    "        - 2 `\\n` 2 `\\n` 1 `\\n` 10\n",
    "        - 4000 `\\n` 4000 `\\n` 4000 `\\n` 0\n",
    "        - -2 `\\n` -2 `\\n` -1 `\\n` 2"
   ]
  },
  {
   "cell_type": "markdown",
   "id": "b2b18318",
   "metadata": {},
   "source": [
    "## TRY"
   ]
  },
  {
   "cell_type": "code",
   "execution_count": 65,
   "id": "f344ad08",
   "metadata": {
    "ExecuteTime": {
     "end_time": "2022-05-04T05:19:49.735197Z",
     "start_time": "2022-05-04T05:19:43.701238Z"
    }
   },
   "outputs": [
    {
     "name": "stdout",
     "output_type": "stream",
     "text": [
      "5\n",
      "1\n",
      "3\n",
      "8\n",
      "-2\n",
      "2\n",
      "100003\n",
      "3\n",
      "1\n",
      "499998\n"
     ]
    }
   ],
   "source": [
    "# TRY 1) 배열에 음수가 들어가는 걸 고려 안 함..\n",
    "\n",
    "# 정렬된 배열 생성\n",
    "N = int(input())\n",
    "lst = [0] * 500001\n",
    "\n",
    "for _ in range(N):\n",
    "    lst[int(input())] += 1\n",
    "\n",
    "sorted_lst = []\n",
    "for i in range(len(lst)):\n",
    "    if lst[i] != 0:\n",
    "        for _ in range(lst[i]):\n",
    "            sorted_lst.append(i)\n",
    "\n",
    "# 1. 산술평균\n",
    "print(round(sum(sorted_lst)/len(sorted_lst)))\n",
    "\n",
    "# 2. 중앙값\n",
    "print(sorted_lst[len(sorted_lst)//2])\n",
    "\n",
    "# 3. 최빈값 \n",
    "mode = [0] * 500001\n",
    "for i in sorted_lst:\n",
    "    mode[i] += 1\n",
    "\n",
    "max_cnt = max(mode)\n",
    "mode_lst = []\n",
    "for idx, val in enumerate(mode):\n",
    "    if val == max_cnt:\n",
    "        mode_lst.append(mode.index(val))\n",
    "if len(mode_lst) >= 2:\n",
    "    print(mode_lst[-2])\n",
    "else:\n",
    "    print(mode_lst[0])\n",
    "    \n",
    "# 4. 범위\n",
    "print(max(sorted_lst)-min(sorted_lst))"
   ]
  },
  {
   "cell_type": "code",
   "execution_count": 104,
   "id": "02537583",
   "metadata": {
    "ExecuteTime": {
     "end_time": "2022-05-04T05:47:43.525735Z",
     "start_time": "2022-05-04T05:47:40.157702Z"
    }
   },
   "outputs": [
    {
     "name": "stdout",
     "output_type": "stream",
     "text": [
      "3\n",
      "0\n",
      "0\n",
      "-1\n",
      "0\n",
      "0\n",
      "0\n",
      "1\n"
     ]
    }
   ],
   "source": [
    "# TRY 2) 시간 초과\n",
    "# 1) 배열에 음수 들어가는 경우 고려 - 퀵 정렬 이용, mode 구하는 코드 수정 \n",
    "# 2) 입력이 1개인 경우 고려\n",
    "\n",
    "import sys\n",
    "\n",
    "# 정렬된 배열 생성\n",
    "N = int(sys.stdin.readline())\n",
    "lst = [int(sys.stdin.readline()) for _ in range(N)]\n",
    "\n",
    "if len(lst) == 1:\n",
    "    print(lst[0])\n",
    "    print(lst[0])\n",
    "    print(lst[0])\n",
    "    print(0)\n",
    "\n",
    "else:\n",
    "    def quicksort(array, start, end):\n",
    "        if end - start <= 0:\n",
    "            return\n",
    "        pivot_idx = end\n",
    "        pivot = array[pivot_idx]\n",
    "        left = start\n",
    "        right = end - 1\n",
    "\n",
    "        while True:\n",
    "            while array[left] < pivot:\n",
    "                left += 1\n",
    "            while array[right] > pivot:\n",
    "                right -= 1\n",
    "            if left >= right:\n",
    "                break\n",
    "            else:\n",
    "                array[left], array[right] = array[right], array[left]\n",
    "                left += 1\n",
    "\n",
    "        array[left], array[pivot_idx] = array[pivot_idx], array[left]\n",
    "        pivot_idx = left\n",
    "\n",
    "        quicksort(array, start, pivot_idx-1)\n",
    "        quicksort(array, pivot_idx+1, end)\n",
    "\n",
    "        return array\n",
    "\n",
    "    sorted_lst = quicksort(lst, 0, len(lst)-1)\n",
    "\n",
    "    # 1. 산술평균\n",
    "    print(round(sum(sorted_lst)/len(sorted_lst)))\n",
    "\n",
    "    # 2. 중앙값\n",
    "    print(sorted_lst[len(sorted_lst)//2])\n",
    "\n",
    "    # 3. 최빈값    \n",
    "    mode_dic = {}\n",
    "    for i in set(sorted_lst):\n",
    "        mode_dic[i] = sorted_lst.count(i)\n",
    "\n",
    "    mode_cnt = [] # 빈도 수만 저장 / 이후 index로 매칭할 예정\n",
    "    for i in mode_dic.items():\n",
    "        mode_cnt.append(i[1])\n",
    "\n",
    "    max_mode = max(mode_cnt)\n",
    "    mode_idx = []\n",
    "    for idx, val in enumerate(mode_cnt):\n",
    "        if max_mode == val:\n",
    "            mode_idx.append(idx)\n",
    "    \n",
    "    if len(mode_idx) == 1:\n",
    "        second_idx = mode_idx[0]\n",
    "    else:\n",
    "        second_idx = mode_idx[1]\n",
    "    print(list(mode_dic)[second_idx])\n",
    "\n",
    "    # 4. 범위\n",
    "    print(max(sorted_lst)-min(sorted_lst))"
   ]
  },
  {
   "cell_type": "markdown",
   "id": "d3a1c982",
   "metadata": {},
   "source": [
    "## SOL"
   ]
  },
  {
   "cell_type": "code",
   "execution_count": 111,
   "id": "c220fe8a",
   "metadata": {
    "ExecuteTime": {
     "end_time": "2022-05-04T05:57:06.370895Z",
     "start_time": "2022-05-04T05:57:03.840683Z"
    }
   },
   "outputs": [
    {
     "name": "stdout",
     "output_type": "stream",
     "text": [
      "3\n",
      "0\n",
      "0\n",
      "-1\n",
      "0\n",
      "0\n",
      "0\n",
      "1\n"
     ]
    }
   ],
   "source": [
    "# SOL 1)  \n",
    "# --- import sys : 528 ms / 56100 KB\n",
    "# --- import sys + pypy3 : 320 ms / 128268 KB\n",
    "\n",
    "# 1) 배열에 음수 들어가는 경우 고려 - sorted 이용, mode 구하는 코드 수정 \n",
    "# 2) 입력이 1개인 경우 고려\n",
    "# 3) .count 대신 Counter 라이브러리 이용\n",
    "\n",
    "import sys\n",
    "\n",
    "# 정렬된 배열 생성\n",
    "N = int(sys.stdin.readline())\n",
    "lst = [int(sys.stdin.readline()) for _ in range(N)]\n",
    "\n",
    "if len(lst) == 1:\n",
    "    print(lst[0])\n",
    "    print(lst[0])\n",
    "    print(lst[0])\n",
    "    print(0)\n",
    "\n",
    "else:\n",
    "    sorted_lst = sorted(lst)\n",
    "\n",
    "    # 1. 산술평균\n",
    "    print(round(sum(sorted_lst)/len(sorted_lst)))\n",
    "\n",
    "    # 2. 중앙값\n",
    "    print(sorted_lst[len(sorted_lst)//2])\n",
    "\n",
    "    # 3. 최빈값    \n",
    "    from collections import Counter\n",
    "    mode_dic = Counter(sorted_lst)\n",
    "\n",
    "    mode_cnt = [] # 빈도 수만 저장 / 이후 index로 매칭할 예정\n",
    "    for i in mode_dic.values():\n",
    "        mode_cnt.append(i)\n",
    "\n",
    "    max_mode = max(mode_cnt)\n",
    "    mode_idx = [] # 최대 빈도를 가진 수의 index들만 저장 \n",
    "    for idx, val in enumerate(mode_cnt):\n",
    "        if max_mode == val:\n",
    "            mode_idx.append(idx)\n",
    "    \n",
    "    if len(mode_idx) == 1:\n",
    "        second_idx = mode_idx[0]\n",
    "    else:\n",
    "        second_idx = mode_idx[1]\n",
    "    print(list(mode_dic)[second_idx])\n",
    "\n",
    "    # 4. 범위\n",
    "    print(max(sorted_lst)-min(sorted_lst))"
   ]
  },
  {
   "cell_type": "markdown",
   "id": "fb0ce0a9",
   "metadata": {},
   "source": [
    "# [1427 소트인사이드](https://www.acmicpc.net/problem/1427)\n",
    "- `문제` 배열을 정렬하는 것은 쉽다. 수가 주어지면, 그 수의 각 자리수를 내림차순으로 정렬해보자.\n",
    "\n",
    "\n",
    "- `입력` 첫째 줄에 정렬하려고 하는 수 N이 주어진다. N은 1,000,000,000보다 작거나 같은 자연수이다.\n",
    "    - ex) 2143 / 999998999 / 61423 / 500613009\n",
    "\n",
    "\n",
    "- `출력` 첫째 줄에 자리수를 내림차순으로 정렬한 수를 출력한다.\n",
    "    - ex) 4321 / 999999998 / 64321 / 965310000"
   ]
  },
  {
   "cell_type": "code",
   "execution_count": 129,
   "id": "73af72a7",
   "metadata": {
    "ExecuteTime": {
     "end_time": "2022-05-04T06:23:34.004318Z",
     "start_time": "2022-05-04T06:23:33.402772Z"
    }
   },
   "outputs": [
    {
     "name": "stdout",
     "output_type": "stream",
     "text": [
      "500613009\n",
      "965310000\n"
     ]
    }
   ],
   "source": [
    "# SOL 1)\n",
    "# --- input() : 68 ms\n",
    "# --- input() + pypy3 : 120 ms\n",
    "# --- import sys : 런타임 에러\n",
    "# --- import sys + pypy3 : 런타임 에러\n",
    "\n",
    "lst = reversed(sorted(list(map(int, input()))))\n",
    "print(''.join(list(map(str,lst))))"
   ]
  },
  {
   "cell_type": "markdown",
   "id": "f8aa0f0e",
   "metadata": {},
   "source": [
    "# [11650 좌표 정렬하기](https://www.acmicpc.net/problem/11650)\n",
    "- `문제` 2차원 평면 위의 점 N개가 주어진다. 좌표를 x좌표가 증가하는 순으로, x좌표가 같으면 y좌표가 증가하는 순서로 정렬한 다음 출력하는 프로그램을 작성하시오.\n",
    "\n",
    "\n",
    "- `입력` 첫째 줄에 점의 개수 N (1 ≤ N ≤ 100,000)이 주어진다. 둘째 줄부터 N개의 줄에는 i번점의 위치 xi와 yi가 주어진다. (-100,000 ≤ xi, yi ≤ 100,000) 좌표는 항상 정수이고, 위치가 같은 두 점은 없다.\n",
    "    - ex) 5 `\\n` 3 4 `\\n` 1 1 `\\n` 1 -1 `\\n` 2 2 `\\n` 3 3\n",
    "\n",
    "\n",
    "- `출력` 첫째 줄부터 N개의 줄에 점을 정렬한 결과를 출력한다.\n",
    "    - ex) 1 -1 `\\n` 1 1 `\\n` 2 2 `\\n` 3 3 `\\n` 3 4"
   ]
  },
  {
   "cell_type": "code",
   "execution_count": 7,
   "id": "7f44c4f6",
   "metadata": {
    "ExecuteTime": {
     "end_time": "2022-05-06T01:41:24.741627Z",
     "start_time": "2022-05-06T01:41:14.597370Z"
    }
   },
   "outputs": [
    {
     "name": "stdout",
     "output_type": "stream",
     "text": [
      "5\n",
      "3 4\n",
      "1 -1\n",
      "1 1\n",
      "2 2\n",
      "3 3\n",
      "1 -1\n",
      "1 1\n",
      "2 2\n",
      "3 3\n",
      "3 4\n"
     ]
    }
   ],
   "source": [
    "# SOL 1) 이중 리스트를 만드는 게 비효율적인 듯하다\n",
    "# --- input() : 4384 ms\n",
    "# --- input() + pypy3 : 592 ms\n",
    "# --- import sys : 404 ms\n",
    "# --- import sys + pypy3 : 468 ms\n",
    "\n",
    "import sys\n",
    "input = sys.stdin.readline\n",
    "\n",
    "N = int(input())\n",
    "lst = []\n",
    "\n",
    "for _ in range(N):\n",
    "    lst.append(list(map(int, input().split())))\n",
    "    \n",
    "for i in sorted(lst):\n",
    "    print(i[0], i[1])"
   ]
  },
  {
   "cell_type": "code",
   "execution_count": 4,
   "id": "a16ec5dd",
   "metadata": {
    "ExecuteTime": {
     "end_time": "2022-05-06T01:48:38.300637Z",
     "start_time": "2022-05-06T01:48:27.428214Z"
    }
   },
   "outputs": [
    {
     "name": "stdout",
     "output_type": "stream",
     "text": [
      "3\n",
      "-1 1\n",
      "100 2\n",
      "3 5\n",
      "-1 1\n",
      "3 5\n",
      "100 2\n"
     ]
    }
   ],
   "source": [
    "# SOL 2)\n",
    "# --- input() : 4908 ms\n",
    "# --- input() + pypy3 : 504 ms\n",
    "# --- import sys : 336 ms \n",
    "# --- import sys + pypy3 : 452 ms\n",
    "\n",
    "import sys\n",
    "input = sys.stdin.readline\n",
    "\n",
    "N = int(input())\n",
    "lst = []\n",
    "\n",
    "for _ in range(N):\n",
    "    x, y = map(int, input().split())\n",
    "    lst.append((x, y))\n",
    "\n",
    "lst.sort()\n",
    "\n",
    "for i in lst:\n",
    "    print(i[0], i[1])"
   ]
  },
  {
   "cell_type": "markdown",
   "id": "488c5770",
   "metadata": {},
   "source": [
    "# [11651 좌표 정렬하기 2](https://www.acmicpc.net/problem/11651)\n",
    "- `문제` 2차원 평면 위의 점 N개가 주어진다. 좌표를 y좌표가 증가하는 순으로, y좌표가 같으면 x좌표가 증가하는 순서로 정렬한 다음 출력하는 프로그램을 작성하시오.\n",
    "\n",
    "\n",
    "- `입력` 첫째 줄에 점의 개수 N (1 ≤ N ≤ 100,000)이 주어진다. 둘째 줄부터 N개의 줄에는 i번점의 위치 xi와 yi가 주어진다. (-100,000 ≤ xi, yi ≤ 100,000) 좌표는 항상 정수이고, 위치가 같은 두 점은 없다.\n",
    "    - ex) 5 `\\n` 0 4 `\\n` 1 2 `\\n` 1 -1 `\\n` 2 2 `\\n` 3 3\n",
    "\n",
    "\n",
    "- `출력` 첫째 줄부터 N개의 줄에 점을 정렬한 결과를 출력한다.\n",
    "    - ex) 1 -1 `\\n` 1 2 `\\n` 2 2 `\\n` 3 3 `\\n` 0 4"
   ]
  },
  {
   "cell_type": "code",
   "execution_count": 2,
   "id": "23e64849",
   "metadata": {
    "ExecuteTime": {
     "end_time": "2022-05-06T02:05:04.336743Z",
     "start_time": "2022-05-06T02:04:47.453378Z"
    }
   },
   "outputs": [
    {
     "name": "stdout",
     "output_type": "stream",
     "text": [
      "5\n",
      "0 4\n",
      "1 2\n",
      "1 -1\n",
      "2 2\n",
      "3 3\n",
      "1 -1\n",
      "1 2\n",
      "2 2\n",
      "3 3\n",
      "0 4\n"
     ]
    }
   ],
   "source": [
    "# SOL 1)\n",
    "# --- input() : 4976 ms\n",
    "# --- input() + pypy3 : 488 ms\n",
    "# --- import sys : 344 ms\n",
    "# --- import sys + pypy3 : 444 ms\n",
    "\n",
    "import sys\n",
    "input = sys.stdin.readline\n",
    "\n",
    "N = int(input())\n",
    "lst = []\n",
    "\n",
    "for _ in range(N):\n",
    "    x, y = map(int, input().split())\n",
    "    lst.append((y, x))\n",
    "\n",
    "lst.sort()\n",
    "\n",
    "for i in lst:\n",
    "    print(i[1], i[0])"
   ]
  },
  {
   "cell_type": "markdown",
   "id": "32cba397",
   "metadata": {},
   "source": [
    "# [1181 단어 정렬](https://www.acmicpc.net/problem/1181)\n",
    "- `문제` 알파벳 소문자로 이루어진 N개의 단어가 들어오면 아래와 같은 조건에 따라 정렬하는 프로그램을 작성하시오. 1. 길이가 짧은 것부터 2. 길이가 같으면 사전 순으로\n",
    "\n",
    "\n",
    "- `입력` 첫째 줄에 단어의 개수 N이 주어진다. (1 ≤ N ≤ 20,000) 둘째 줄부터 N개의 줄에 걸쳐 알파벳 소문자로 이루어진 단어가 한 줄에 하나씩 주어진다. 주어지는 문자열의 길이는 50을 넘지 않는다.\n",
    "    - ex) 13 `\\n` but `\\n` i `\\n` wont `\\n` hesitate `\\n` no `\\n` more `\\n` no `\\n` more `\\n` it `\\n` cannot `\\n` wait `\\n` im `\\n` yours\n",
    "\n",
    "\n",
    "- `출력` 조건에 따라 정렬하여 단어들을 출력한다. 단, 같은 단어가 여러 번 입력된 경우에는 한 번씩만 출력한다.\n",
    "    - ex) i `\\n` im `\\n` it `\\n` no `\\n` but `\\n` more `\\n` wait `\\n` wont `\\n` yours `\\n` cannot `\\n` hesitate"
   ]
  },
  {
   "cell_type": "code",
   "execution_count": 1,
   "id": "76ca0b51",
   "metadata": {
    "ExecuteTime": {
     "end_time": "2022-05-06T04:48:06.768741Z",
     "start_time": "2022-05-06T04:47:46.098548Z"
    }
   },
   "outputs": [
    {
     "name": "stdout",
     "output_type": "stream",
     "text": [
      "5\n",
      "i\n",
      "i\n",
      "love\n",
      "you\n",
      "he\n",
      "i\n",
      "he\n",
      "you\n",
      "love\n"
     ]
    }
   ],
   "source": [
    "# SOL 1) sorted 튜플 정렬 이용\n",
    "# --- input() : 880 ms\n",
    "# --- input() + pypy3 : 244 ms\n",
    "# --- import sys : 116 ms\n",
    "# --- import sys + pypy3 : 200 ms\n",
    "\n",
    "import sys\n",
    "input = sys.stdin.readline\n",
    "\n",
    "N = int(input())\n",
    "lst = []\n",
    "for _ in range(N):\n",
    "    S = input().strip()\n",
    "    lst.append((len(S), S))\n",
    "\n",
    "for i in sorted(list(set(lst))):\n",
    "    print(i[1])"
   ]
  },
  {
   "cell_type": "markdown",
   "id": "540f928b",
   "metadata": {},
   "source": [
    "# [10814 나이순 정렬](https://www.acmicpc.net/problem/10814)\n",
    "- `문제` 온라인 저지에 가입한 사람들의 나이와 이름이 가입한 순서대로 주어진다. 이때, 회원들을 나이가 증가하는 순으로, 나이가 같으면 먼저 가입한 사람이 앞에 오는 순서로 정렬하는 프로그램을 작성하시오.\n",
    "\n",
    "\n",
    "- `입력` 첫째 줄에 온라인 저지 회원의 수 N이 주어진다. (1 ≤ N ≤ 100,000) 둘째 줄부터 N개의 줄에는 각 회원의 나이와 이름이 공백으로 구분되어 주어진다. 나이는 1보다 크거나 같으며, 200보다 작거나 같은 정수이고, 이름은 알파벳 대소문자로 이루어져 있고, 길이가 100보다 작거나 같은 문자열이다. 입력은 가입한 순서로 주어진다.\n",
    "    - ex) 3 `\\n` 21 Junkyu `\\n` 21 Dohyun `\\n` 20 Sunyoung\n",
    "    \n",
    "    \n",
    "- `출력` 첫째 줄부터 총 N개의 줄에 걸쳐 온라인 저지 회원을 나이 순, 나이가 같으면 가입한 순으로 한 줄에 한 명씩 나이와 이름을 공백으로 구분해 출력한다.\n",
    "    - ex) 20 Sunyoung `\\n` 21 Junkyu `\\n` 21 Dohyun"
   ]
  },
  {
   "cell_type": "code",
   "execution_count": null,
   "id": "03bcc019",
   "metadata": {},
   "outputs": [],
   "source": []
  },
  {
   "cell_type": "markdown",
   "id": "d5348f66",
   "metadata": {},
   "source": [
    "# [18870 좌표 압축](https://www.acmicpc.net/problem/18870)\n",
    "- `문제` 수직선 위에 N개의 좌표 X1, X2, ..., XN이 있다. 이 좌표에 좌표 압축을 적용하려고 한다. Xi를 좌표 압축한 결과 X'i의 값은 Xi > Xj를 만족하는 서로 다른 좌표의 개수와 같아야 한다. X1, X2, ..., XN에 좌표 압축을 적용한 결과 X'1, X'2, ..., X'N를 출력해보자.\n",
    "\n",
    "\n",
    "- `입력` 첫째 줄에 N이 주어진다. 둘째 줄에는 공백 한 칸으로 구분된 X1, X2, ..., XN이 주어진다.\n",
    "    - ex) \n",
    "        - 5 `\\n` 2 4 -10 4 -9\n",
    "        - 6 `\\n` 1000 999 1000 999 1000 999\n",
    "\n",
    "\n",
    "- `출력` 첫째 줄에 X'1, X'2, ..., X'N을 공백 한 칸으로 구분해서 출력한다.\n",
    "    - ex)\n",
    "        - 2 3 0 3 1\n",
    "        - 1 0 1 0 1 0\n",
    "    \n",
    "\n",
    "- `제한` \n",
    "    - 1 ≤ N ≤ 1,000,000\n",
    "    - -10^9 ≤ Xi ≤ 10^9"
   ]
  },
  {
   "cell_type": "code",
   "execution_count": null,
   "id": "c8b4c58f",
   "metadata": {},
   "outputs": [],
   "source": []
  }
 ],
 "metadata": {
  "kernelspec": {
   "display_name": "Python 3 (ipykernel)",
   "language": "python",
   "name": "python3"
  },
  "language_info": {
   "codemirror_mode": {
    "name": "ipython",
    "version": 3
   },
   "file_extension": ".py",
   "mimetype": "text/x-python",
   "name": "python",
   "nbconvert_exporter": "python",
   "pygments_lexer": "ipython3",
   "version": "3.9.7"
  },
  "toc": {
   "base_numbering": 1,
   "nav_menu": {},
   "number_sections": true,
   "sideBar": true,
   "skip_h1_title": false,
   "title_cell": "Table of Contents",
   "title_sidebar": "Contents",
   "toc_cell": false,
   "toc_position": {},
   "toc_section_display": true,
   "toc_window_display": false
  }
 },
 "nbformat": 4,
 "nbformat_minor": 5
}
