{
 "cells": [
  {
   "cell_type": "markdown",
   "metadata": {},
   "source": [
    "# 10818 최소, 최대\n",
    "- `문제` N개의 정수가 주어진다. 이때, 최솟값과 최댓값을 구하는 프로그램을 작성하시오.\n",
    "- `입력` 첫째 줄에 정수의 개수 N (1 ≤ N ≤ 1,000,000)이 주어진다. 둘째 줄에는 N개의 정수를 공백으로 구분해서 주어진다. 모든 정수는 -1,000,000보다 크거나 같고, 1,000,000보다 작거나 같은 정수이다.\n",
    "    - ex) 5 `\\n` 20 10 35 30 7\n",
    "- `출력` 첫째 줄에 주어진 정수 N개의 최솟값과 최댓값을 공백으로 구분해 출력한다.\n",
    "    - ex) 7 35"
   ]
  },
  {
   "cell_type": "code",
   "execution_count": 16,
   "metadata": {},
   "outputs": [
    {
     "name": "stdout",
     "output_type": "stream",
     "text": [
      "5\n",
      "20 10 35 30 7\n",
      "7 35\n"
     ]
    }
   ],
   "source": [
    "# SOL 1)\n",
    "\n",
    "N = int(input())\n",
    "Nlist = list(map(int,input().split()))\n",
    "print(min(Nlist), max(Nlist))"
   ]
  },
  {
   "cell_type": "markdown",
   "metadata": {},
   "source": [
    "# 2562 최댓값\n",
    "- `문제` 9개의 서로 다른 자연수가 주어질 때, 이들 중 최댓값을 찾고 그 최댓값이 몇 번째 수인지를 구하는 프로그램을 작성하시오. 예를 들어, 서로 다른 9개의 자연수 3, 29, 38, 12, 57, 74, 40, 85, 61이 주어지면, 이들 중 최댓값은 85이고, 이 값은 8번째 수이다.\n",
    "- `입력` 첫째 줄부터 아홉 번째 줄까지 한 줄에 하나의 자연수가 주어진다. 주어지는 자연수는 100 보다 작다.\n",
    "    - ex) 3 `\\n` 29 `\\n` 38 `\\n` 12 `\\n` 57 `\\n` 74 `\\n` 40 `\\n` 85 `\\n` 61\n",
    "- `출력` 첫째 줄에 최댓값을 출력하고, 둘째 줄에 최댓값이 몇 번째 수인지를 출력한다.\n",
    "    - ex) 85 `\\n` 8"
   ]
  },
  {
   "cell_type": "code",
   "execution_count": 27,
   "metadata": {},
   "outputs": [
    {
     "name": "stdout",
     "output_type": "stream",
     "text": [
      "3\n",
      "29\n",
      "38\n",
      "12\n",
      "57\n",
      "74\n",
      "40\n",
      "85\n",
      "61\n",
      "85 8\n"
     ]
    }
   ],
   "source": [
    "# SOL 1)\n",
    "\n",
    "nlist = []\n",
    "for i in range(9):\n",
    "    N = int(input())\n",
    "    nlist.append(N)\n",
    "\n",
    "print(max(nlist),nlist.index(max(nlist))+1)"
   ]
  },
  {
   "cell_type": "markdown",
   "metadata": {},
   "source": [
    "# 2577 숫자의 개수\n",
    "- `문제` 세 개의 자연수 A, B, C가 주어질 때 A × B × C를 계산한 결과에 0부터 9까지 각각의 숫자가 몇 번씩 쓰였는지를 구하는 프로그램을 작성하시오. 예를 들어 A = 150, B = 266, C = 427 이라면 A × B × C = 150 × 266 × 427 = 17037300 이 되고, 계산한 결과 17037300 에는 0이 3번, 1이 1번, 3이 2번, 7이 2번 쓰였다.\n",
    "- `입력` 첫째 줄에 A, 둘째 줄에 B, 셋째 줄에 C가 주어진다. A, B, C는 모두 100보다 크거나 같고, 1,000보다 작은 자연수이다.\n",
    "    - ex) 150 `\\n` 266 `\\n` 427\n",
    "- `출력` 첫째 줄에는 A × B × C의 결과에 0 이 몇 번 쓰였는지 출력한다. 마찬가지로 둘째 줄부터 열 번째 줄까지 A × B × C의 결과에 1부터 9까지의 숫자가 각각 몇 번 쓰였는지 차례로 한 줄에 하나씩 출력한다.\n",
    "    - ex) 3 `\\n` 1 `\\n` 0 `\\n` 2 `\\n` 0 `\\n` 0 `\\n` 0 `\\n`2 `\\n` 0 `\\n` 0 "
   ]
  },
  {
   "cell_type": "code",
   "execution_count": 38,
   "metadata": {},
   "outputs": [
    {
     "name": "stdout",
     "output_type": "stream",
     "text": [
      "150\n",
      "266\n",
      "427\n",
      "3\n",
      "1\n",
      "0\n",
      "2\n",
      "0\n",
      "0\n",
      "0\n",
      "2\n",
      "0\n",
      "0\n"
     ]
    }
   ],
   "source": [
    "# SOL 1) list.count()\n",
    "\n",
    "ABC_list = []\n",
    "for i in range(3):\n",
    "    ABC_list.append(int(input()))\n",
    "\n",
    "A, B, C = ABC_list[0], ABC_list[1], ABC_list[2]\n",
    "mul = A * B * C\n",
    "\n",
    "num_list = ['0','1','2','3','4','5','6','7','8','9']\n",
    "for i in num_list:\n",
    "    print(list(str(mul)).count(i))"
   ]
  },
  {
   "cell_type": "code",
   "execution_count": 40,
   "metadata": {},
   "outputs": [
    {
     "name": "stdout",
     "output_type": "stream",
     "text": [
      "150\n",
      "266\n",
      "427\n",
      "3\n",
      "1\n",
      "0\n",
      "2\n",
      "0\n",
      "0\n",
      "0\n",
      "2\n",
      "0\n",
      "0\n"
     ]
    }
   ],
   "source": [
    "# SOL 2) str.count()\n",
    "\n",
    "ABC = str(int(input())*int(input())*int(input()))\n",
    "for i in range(10):\n",
    "    print(ABC.count(str(i)))"
   ]
  },
  {
   "cell_type": "markdown",
   "metadata": {},
   "source": [
    "# 3052 나머지\n",
    "- `문제` 두 자연수 A와 B가 있을 때, A%B는 A를 B로 나눈 나머지 이다. 예를 들어, 7, 14, 27, 38을 3으로 나눈 나머지는 1, 2, 0, 2이다. 수 10개를 입력받은 뒤, 이를 42로 나눈 나머지를 구한다. 그 다음 서로 다른 값이 몇 개 있는지 출력하는 프로그램을 작성하시오.\n",
    "- `입력` 첫째 줄부터 열번째 줄 까지 숫자가 한 줄에 하나씩 주어진다. 이 숫자는 1,000보다 작거나 같고, 음이 아닌 정수이다.\n",
    "    - ex) 1 `\\n` 2 `\\n` 3 `\\n` 4 `\\n` 5 `\\n` 6 `\\n` 7 `\\n` 8 `\\n` 9 `\\n` 10\n",
    "- `출력` 첫째 줄에, 42로 나누었을 때, 서로 다른 나머지가 몇 개 있는지 출력한다.\n",
    "    - ex) 10"
   ]
  },
  {
   "cell_type": "code",
   "execution_count": 49,
   "metadata": {},
   "outputs": [
    {
     "name": "stdout",
     "output_type": "stream",
     "text": [
      "1\n",
      "2\n",
      "3\n",
      "4\n",
      "5\n",
      "6\n",
      "7\n",
      "8\n",
      "9\n",
      "10\n",
      "10\n"
     ]
    }
   ],
   "source": [
    "# SOL 1)\n",
    "\n",
    "lst = []\n",
    "for i in range(10):\n",
    "    N = int(input())%42\n",
    "    lst.append(N)\n",
    "\n",
    "print(len(set(lst)))"
   ]
  },
  {
   "cell_type": "markdown",
   "metadata": {},
   "source": [
    "# 1546 평균\n",
    "- `문제` 세준이는 기말고사를 망쳤다. 세준이는 점수를 조작해서 집에 가져가기로 했다. 일단 세준이는 자기 점수 중에 최댓값을 골랐다. 이 값을 M이라고 한다. 그리고 나서 모든 점수를 점수/M x 100으로 고쳤다. 예를 들어, 세준이의 최고점이 70이고, 수학점수가 50이었으면 수학점수는 50/70*100이 되어 71.43점이 된다. 세준이의 성적을 위의 방법대로 새로 계산했을 때, 새로운 평균을 구하는 프로그램을 작성하시오.\n",
    "- `입력` 첫째 줄에 시험 본 과목의 개수 N이 주어진다. 이 값은 1000보다 작거나 같다. 둘째 줄에 세준이의 현재 성적이 주어진다. 이 값은 100보다 작거나 같은 음이 아닌 정수이고, 적어도 하나의 값은 0보다 크다.\n",
    "    - ex) 3 `\\n` 40 80 60\n",
    "- `출력` 첫째 줄에 새로운 평균을 출력한다. 실제 정답과 출력값의 절대오차 또는 상대오차가 10-2 이하이면 정답이다.\n",
    "    - ex) 75.0"
   ]
  },
  {
   "cell_type": "code",
   "execution_count": 56,
   "metadata": {},
   "outputs": [
    {
     "name": "stdout",
     "output_type": "stream",
     "text": [
      "3\n",
      "40 80 60\n",
      "75.0\n"
     ]
    }
   ],
   "source": [
    "# SOL 1)\n",
    "\n",
    "N = int(input())\n",
    "score_list = list(map(int,input().split()))\n",
    "M = max(score_list)\n",
    "\n",
    "new_score = []\n",
    "for i in score_list:\n",
    "    new_score.append(i/M*100)\n",
    "print(sum(new_score)/N)"
   ]
  },
  {
   "cell_type": "markdown",
   "metadata": {},
   "source": [
    "# 8958 OX퀴즈\n",
    "- `문제` \"OOXXOXXOOO\"와 같은 OX퀴즈의 결과가 있다. O는 문제를 맞은 것이고, X는 문제를 틀린 것이다. 문제를 맞은 경우 그 문제의 점수는 그 문제까지 연속된 O의 개수가 된다. 예를 들어, 10번 문제의 점수는 3이 된다. \"OOXXOXXOOO\"의 점수는 1+2+0+0+1+0+0+1+2+3 = 10점이다. OX퀴즈의 결과가 주어졌을 때, 점수를 구하는 프로그램을 작성하시오.\n",
    "- `입력` 첫째 줄에 테스트 케이스의 개수가 주어진다. 각 테스트 케이스는 한 줄로 이루어져 있고, 길이가 0보다 크고 80보다 작은 문자열이 주어진다. 문자열은 O와 X만으로 이루어져 있다.\n",
    "    - ex) 5 `\\n` OOXXOXXOOO `\\n` OOXXOOXXOO `\\n` OXOXOXOXOXOXOX `\\n` OOOOOOOOOO `\\n` OOOOXOOOOXOOOOX\n",
    "- `출력` 각 테스트 케이스마다 점수를 출력한다.\n",
    "    - ex) 10 `\\n` 9 `\\n` 7 `\\n` 55 `\\n` 30"
   ]
  },
  {
   "cell_type": "code",
   "execution_count": 64,
   "metadata": {},
   "outputs": [
    {
     "name": "stdout",
     "output_type": "stream",
     "text": [
      "5\n",
      "OOXXOXXOOO\n",
      "10\n",
      "OOXXOOXXOO\n",
      "9\n",
      "OXOXOXOXOXOXOX\n",
      "7\n",
      "OOOOOOOOOO\n",
      "55\n",
      "OOOOXOOOOXOOOOX\n",
      "30\n"
     ]
    }
   ],
   "source": [
    "# SOL 1)\n",
    "\n",
    "T = int(input())\n",
    "\n",
    "for i in range(T):\n",
    "    score = 0\n",
    "    sum_score = 0\n",
    "    OX = input()\n",
    "    for j in OX:\n",
    "        if j == 'O':\n",
    "            score += 1\n",
    "        else:\n",
    "            score = 0\n",
    "        sum_score += score\n",
    "    print(sum_score)"
   ]
  },
  {
   "cell_type": "markdown",
   "metadata": {},
   "source": [
    "# 4344 평균은 넘겠지\n",
    "- `문제` 대학생 새내기들의 90%는 자신이 반에서 평균은 넘는다고 생각한다. 당신은 그들에게 슬픈 진실을 알려줘야 한다.\n",
    "- `입력` 첫째 줄에는 테스트 케이스의 개수 C가 주어진다. 둘째 줄부터 각 테스트 케이스마다 학생의 수 N(1 ≤ N ≤ 1000, N은 정수)이 첫 수로 주어지고, 이어서 N명의 점수가 주어진다. 점수는 0보다 크거나 같고, 100보다 작거나 같은 정수이다.\n",
    "    - ex) 5 `\\n` 5 50 50 70 80 100 `\\n` 7 100 95 90 80 70 60 50 `\\n` 3 70 90 80 `\\n` 3 70 90 81 `\\n` 9 100 99 98 97 96 95 94 93 91\n",
    "- `출력` 각 케이스마다 한 줄씩 평균을 넘는 학생들의 비율을 반올림하여 소수점 셋째 자리까지 출력한다.\n",
    "    - ex) 40.000% `\\n` 57.143% `\\n` 33.333% `\\n` 66.667% `\\n` 55.556%"
   ]
  },
  {
   "cell_type": "code",
   "execution_count": 2,
   "metadata": {
    "ExecuteTime": {
     "end_time": "2022-04-22T02:35:59.216625Z",
     "start_time": "2022-04-22T02:35:33.766714Z"
    }
   },
   "outputs": [
    {
     "name": "stdout",
     "output_type": "stream",
     "text": [
      "2\n",
      "5 50 50 70 80 100\n",
      "40.000%\n",
      "7 100 95 90 80 70 60 50\n",
      "57.143%\n"
     ]
    }
   ],
   "source": [
    "# SOL 1)\n",
    "\n",
    "C = int(input())\n",
    "\n",
    "for i in range(C):\n",
    "    data = list(map(int,input().split()))\n",
    "    mean = sum(data[1:])/len(data[1:])\n",
    "    high = [x for x in data[1:] if x>mean]\n",
    "    print(f'{(len(high)/len(data[1:])*100):.3f}%')"
   ]
  }
 ],
 "metadata": {
  "kernelspec": {
   "display_name": "Python 3 (ipykernel)",
   "language": "python",
   "name": "python3"
  },
  "language_info": {
   "codemirror_mode": {
    "name": "ipython",
    "version": 3
   },
   "file_extension": ".py",
   "mimetype": "text/x-python",
   "name": "python",
   "nbconvert_exporter": "python",
   "pygments_lexer": "ipython3",
   "version": "3.9.7"
  },
  "toc": {
   "base_numbering": 1,
   "nav_menu": {},
   "number_sections": true,
   "sideBar": true,
   "skip_h1_title": false,
   "title_cell": "Table of Contents",
   "title_sidebar": "Contents",
   "toc_cell": false,
   "toc_position": {
    "height": "calc(100% - 180px)",
    "left": "10px",
    "top": "150px",
    "width": "171px"
   },
   "toc_section_display": true,
   "toc_window_display": false
  },
  "varInspector": {
   "cols": {
    "lenName": 16,
    "lenType": 16,
    "lenVar": 40
   },
   "kernels_config": {
    "python": {
     "delete_cmd_postfix": "",
     "delete_cmd_prefix": "del ",
     "library": "var_list.py",
     "varRefreshCmd": "print(var_dic_list())"
    },
    "r": {
     "delete_cmd_postfix": ") ",
     "delete_cmd_prefix": "rm(",
     "library": "var_list.r",
     "varRefreshCmd": "cat(var_dic_list()) "
    }
   },
   "types_to_exclude": [
    "module",
    "function",
    "builtin_function_or_method",
    "instance",
    "_Feature"
   ],
   "window_display": false
  }
 },
 "nbformat": 4,
 "nbformat_minor": 4
}
