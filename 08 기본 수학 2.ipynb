{
 "cells": [
  {
   "cell_type": "markdown",
   "id": "98367aff",
   "metadata": {},
   "source": [
    "# 1978 소수 찾기\n",
    "- `문제` 주어진 수 N개 중에서 소수가 몇 개인지 찾아서 출력하는 프로그램을 작성하시오.\n",
    "\n",
    "\n",
    "- `입력` 첫 줄에 수의 개수 N이 주어진다. N은 100이하이다. 다음으로 N개의 수가 주어지는데 수는 1,000 이하의 자연수이다.\n",
    "    - ex) 4 `\\n` 1 3 5 7 \n",
    "\n",
    "\n",
    "- `출력` 주어진 수들 중 소수의 개수를 출력한다.\n",
    "    - ex) 3"
   ]
  },
  {
   "cell_type": "code",
   "execution_count": 1,
   "id": "e9038201",
   "metadata": {
    "ExecuteTime": {
     "end_time": "2022-04-18T09:26:00.869957Z",
     "start_time": "2022-04-18T09:25:55.391105Z"
    }
   },
   "outputs": [
    {
     "name": "stdout",
     "output_type": "stream",
     "text": [
      "4\n",
      "1 3 5 7\n",
      "3\n"
     ]
    }
   ],
   "source": [
    "# SOL 1) \n",
    "\n",
    "N = int(input())\n",
    "num_list = list(map(int, input().split()))\n",
    "prime_list = [] # 소수만 담는 리스트\n",
    "\n",
    "for num in num_list:\n",
    "    num_temp = [] \n",
    "    for i in range(1, num+1): \n",
    "        \n",
    "        # i로 나누어 떨어지는 숫자면 num_temp에 append\n",
    "        if num % i == 0:\n",
    "            num_temp.append(num)\n",
    "    \n",
    "    # 나누어 떨어지는 숫자가 1, 자기 자신뿐이면 prime_list에 append\n",
    "    if len(num_temp) == 2:\n",
    "        prime_list.append(num)\n",
    "\n",
    "print(len(prime_list))"
   ]
  },
  {
   "cell_type": "markdown",
   "id": "c481d74f",
   "metadata": {},
   "source": [
    "# 2581 소수\n",
    "- `문제` 자연수 M과 N이 주어질 때 M이상 N이하의 자연수 중 소수인 것을 모두 골라 이들 소수의 합과 최솟값을 찾는 프로그램을 작성하시오. 예를 들어 M=60, N=100인 경우 60이상 100이하의 자연수 중 소수는 61, 67, 71, 73, 79, 83, 89, 97 총 8개가 있으므로, 이들 소수의 합은 620이고, 최솟값은 61이 된다.\n",
    "\n",
    "\n",
    "- `입력` 입력의 첫째 줄에 M이, 둘째 줄에 N이 주어진다. M과 N은 10,000이하의 자연수이며, M은 N보다 작거나 같다.\n",
    "    - ex) 60 `\\n` 100 / 64 `\\n` 65\n",
    "\n",
    "\n",
    "- `출력` M이상 N이하의 자연수 중 소수인 것을 모두 찾아 첫째 줄에 그 합을, 둘째 줄에 그 중 최솟값을 출력한다. 단, M이상 N이하의 자연수 중 소수가 없을 경우는 첫째 줄에 -1을 출력한다.\n",
    "    - ex) 620 `\\n` 61 / -1"
   ]
  },
  {
   "cell_type": "code",
   "execution_count": 17,
   "id": "99cfea11",
   "metadata": {
    "ExecuteTime": {
     "end_time": "2022-04-20T01:27:27.114068Z",
     "start_time": "2022-04-20T01:27:25.418762Z"
    }
   },
   "outputs": [
    {
     "name": "stdout",
     "output_type": "stream",
     "text": [
      "64\n",
      "65\n",
      "-1\n"
     ]
    }
   ],
   "source": [
    "# SOL 1) \n",
    "\n",
    "low = int(input())\n",
    "high = int(input())\n",
    "num_list = list(range(low, high+1))\n",
    "prime_list = []\n",
    "\n",
    "for num in num_list:\n",
    "    \n",
    "    # 조건) num이 자연수여야 함 (어차피 1은 소수가 아니므로 등호 제외)\n",
    "    if num > 1:\n",
    "        \n",
    "        num_temp = [1]\n",
    "        num_temp.append(num)\n",
    "\n",
    "        # 2 ~ (num-1)로 나누었을 때 한 번이라도 나누어 떨어지는 경우가 있으면 소수 아님 \n",
    "        for i in range(2, num):\n",
    "\n",
    "            # i로 나누어 떨어지는 숫자면 break (소수의 조건 위배)\n",
    "            if num % i == 0:\n",
    "                num_temp.append(num)\n",
    "                break\n",
    "\n",
    "        # 나누어 떨어지는 숫자가 1, 자기 자신뿐이므로 prime_list에 append\n",
    "        if len(num_temp) == 2:\n",
    "            prime_list.append(num)\n",
    "\n",
    "if len(prime_list) != 0:    \n",
    "    print(sum(prime_list))\n",
    "    print(min(prime_list))\n",
    "else:\n",
    "    print(-1)"
   ]
  },
  {
   "cell_type": "markdown",
   "id": "20045f56",
   "metadata": {},
   "source": [
    "# 11653\t소인수분해\n",
    "- `문제` 정수 N이 주어졌을 때, 소인수분해하는 프로그램을 작성하시오.\n",
    "\n",
    "\n",
    "- `입력` 첫째 줄에 정수 N (1 ≤ N ≤ 10,000,000)이 주어진다.\n",
    "    - ex) 72 / 3 / 6 / 2 / 9991\n",
    "\n",
    "\n",
    "- `출력` N의 소인수분해 결과를 한 줄에 하나씩 오름차순으로 출력한다. N이 1인 경우 아무것도 출력하지 않는다.\n",
    "    - ex) \n",
    "        - 2 `\\n` 2 `\\n` 2 `\\n` 3 `\\n` 3\n",
    "        - 3\n",
    "        - 2 `\\n` 3 \n",
    "        - 2\n",
    "        - 97 `\\n` 103"
   ]
  },
  {
   "cell_type": "markdown",
   "id": "e410adc5",
   "metadata": {},
   "source": [
    "## TRY"
   ]
  },
  {
   "cell_type": "code",
   "execution_count": 55,
   "id": "7f5bde80",
   "metadata": {
    "ExecuteTime": {
     "end_time": "2022-04-20T02:33:59.181319Z",
     "start_time": "2022-04-20T02:33:57.624365Z"
    }
   },
   "outputs": [
    {
     "name": "stdout",
     "output_type": "stream",
     "text": [
      "9991\n",
      "97\n",
      "103\n"
     ]
    }
   ],
   "source": [
    "# TRY 1) 시간 초과...\n",
    "\n",
    "# N 이하의 소수 리스트 생성\n",
    "N = int(input())\n",
    "\n",
    "# 조건) N이 1인 경우 아무것도 출력하지 않음 \n",
    "if N == 1:\n",
    "    print()\n",
    "    \n",
    "else:\n",
    "    prime_list = []\n",
    "\n",
    "    for num in range(2, N+1):\n",
    "            num_temp = [1]\n",
    "            num_temp.append(num)\n",
    "\n",
    "            # 2 ~ (num-1)로 나누었을 때 한 번이라도 나누어 떨어지는 경우가 있으면 소수 아님 \n",
    "            for i in range(2, num):\n",
    "\n",
    "                # i로 나누어 떨어지는 숫자면 break (소수의 조건 위배)\n",
    "                if num % i == 0:\n",
    "                    num_temp.append(num)\n",
    "                    break\n",
    "\n",
    "            # 나누어 떨어지는 숫자가 1, 자기 자신뿐이므로 prime_list에 append\n",
    "            if len(num_temp) == 2:\n",
    "                prime_list.append(num)\n",
    "\n",
    "    for j in prime_list:\n",
    "        while (N % j == 0):\n",
    "            N = (N // j)\n",
    "            print(j)"
   ]
  },
  {
   "cell_type": "code",
   "execution_count": 57,
   "id": "d631a3bf",
   "metadata": {
    "ExecuteTime": {
     "end_time": "2022-04-20T02:43:44.072071Z",
     "start_time": "2022-04-20T02:43:42.690404Z"
    }
   },
   "outputs": [
    {
     "name": "stdout",
     "output_type": "stream",
     "text": [
      "9991\n",
      "97\n",
      "103\n"
     ]
    }
   ],
   "source": [
    "# TRY 2) num의 제곱근 방식 시도 -> 시간 초과...\n",
    "\n",
    "# N 이하의 소수 리스트 생성\n",
    "N = int(input())\n",
    "\n",
    "# 조건) N이 1인 경우 아무것도 출력하지 않음 \n",
    "if N == 1:\n",
    "    print()\n",
    "    \n",
    "else:\n",
    "    prime_list = []\n",
    "\n",
    "    for num in range(2, N+1):\n",
    "            num_temp = [1]\n",
    "            num_temp.append(num)\n",
    "\n",
    "            # 본래 아이디어는 2 ~ num-1 사이의 모든 수로 나눠보면서 확인하려고 했음 but 시간 초과!\n",
    "            # 2 ~ num의 제곱근으로 나누었을 때 한 번이라도 나누어 떨어지는 경우가 있으면 소수 아님\n",
    "            # A : 2 ~ floor(num의 제곱근) / B : ceil(num의 제곱근) ~ num-1\n",
    "            # num을 B에 있는 수들로 나눠보는 작업의 목적이 num을 A에 있는 수들로 나눠봄으로써 이미 달성됨 \n",
    "    \n",
    "            for i in range(2, int(num**0.5)): # int() = floor와 같음\n",
    "\n",
    "                # i로 나누어 떨어지는 숫자면 break (소수의 조건 위배)\n",
    "                if num % i == 0:\n",
    "                    num_temp.append(num)\n",
    "                    break\n",
    "\n",
    "            # 나누어 떨어지는 숫자가 1, 자기 자신뿐이므로 prime_list에 append\n",
    "            if len(num_temp) == 2:\n",
    "                prime_list.append(num)\n",
    "\n",
    "    for j in prime_list:\n",
    "        while (N % j == 0):\n",
    "            N = (N // j)\n",
    "            print(j)"
   ]
  },
  {
   "cell_type": "markdown",
   "id": "8e435c97",
   "metadata": {},
   "source": [
    "## SOLUTION"
   ]
  },
  {
   "cell_type": "code",
   "execution_count": 43,
   "id": "7ac37c4f",
   "metadata": {
    "ExecuteTime": {
     "end_time": "2022-04-20T02:01:36.690586Z",
     "start_time": "2022-04-20T02:01:35.032134Z"
    },
    "scrolled": true
   },
   "outputs": [
    {
     "name": "stdout",
     "output_type": "stream",
     "text": [
      "9991\n",
      "97\n",
      "103\n"
     ]
    }
   ],
   "source": [
    "# SOL 1) 굳이 먼저 소수 리스트를 만들어 줄 필요 없음 / 시간 오래 걸림 (1088 ms)\n",
    "\n",
    "N = int(input())\n",
    "\n",
    "# 조건) N이 1인 경우 아무것도 출력하지 않음 -> 시작 범위를 2로 잡아줌으로써 충족\n",
    "for i in range(2, N+1):\n",
    "    while (N % i == 0): # 2부터 나누면서 2로 더 이상 나누어 떨어지지 않으면 3, 4, 5, ... 시도\n",
    "        N = (N // i)\n",
    "        print(i)"
   ]
  },
  {
   "cell_type": "code",
   "execution_count": 73,
   "id": "47e20440",
   "metadata": {
    "ExecuteTime": {
     "end_time": "2022-04-20T04:24:55.273155Z",
     "start_time": "2022-04-20T04:24:54.041112Z"
    }
   },
   "outputs": [
    {
     "name": "stdout",
     "output_type": "stream",
     "text": [
      "9991\n",
      "97\n",
      "103\n"
     ]
    }
   ],
   "source": [
    "# SOL 2) num의 제곱근 방식 최적화 (72 ms)\n",
    "\n",
    "N = int(input())\n",
    "prime_temp = 2\n",
    "end_num = int(N**0.5)\n",
    "\n",
    "# 본래 아이디어는 2 ~ num-1 사이의 모든 수로 나눠보면서 확인하려고 했음 but 시간 초과!\n",
    "# 2 ~ num의 제곱근으로 나누었을 때 한 번이라도 나누어 떨어지는 경우가 있으면 소수 아님\n",
    "# A : 2 ~ floor(num의 제곱근) / B : ceil(num의 제곱근) ~ num-1\n",
    "# num을 B에 있는 수들로 나눠보는 작업의 목적이 num을 A에 있는 수들로 나눠봄으로써 이미 달성됨 \n",
    "\n",
    "while prime_temp <= end_num:\n",
    "    \n",
    "    # 가장 작은 소수인 2로 나누면서 더 이상 나누어 떨어지지 않을 때까지 수행\n",
    "    if N % prime_temp == 0:\n",
    "        N //= prime_temp\n",
    "        print(prime_temp)\n",
    "    \n",
    "    # 2로 더 이상 나누어 떨어지지 않으면 3, 4, ..., N의 제곱근으로 나누어 볼 것임 \n",
    "    else:\n",
    "        prime_temp += 1\n",
    "\n",
    "# 단, end_num을 초과한 prime_temp이 N에 나누어 떨어질 경우 \n",
    "# 해당 prime_temp은 앞서 N //= prime_temp을 통해 갱신된 최종 N값과 같음 (이 값은 소수) \n",
    "# 따라서 소인수로서 출력해 주어야 함\n",
    "if N > 1: # 조건) N이 1인 경우 아무것도 출력하지 않음\n",
    "    print(N)"
   ]
  },
  {
   "cell_type": "markdown",
   "id": "e61238d7",
   "metadata": {},
   "source": [
    "# 1929 소수 구하기\n",
    "- `문제` M이상 N이하의 소수를 모두 출력하는 프로그램을 작성하시오.\n",
    "\n",
    "\n",
    "- `입력` 첫째 줄에 자연수 M과 N이 빈 칸을 사이에 두고 주어진다. (1 ≤ M ≤ N ≤ 1,000,000) M이상 N이하의 소수가 하나 이상 있는 입력만 주어진다.\n",
    "    - ex) 3 16\n",
    "\n",
    "\n",
    "- `출력` 한 줄에 하나씩, 증가하는 순서대로 소수를 출력한다.\n",
    "    - ex) 3 `\\n` 5 `\\n` 7 `\\n` 11 `\\n` 13"
   ]
  },
  {
   "cell_type": "code",
   "execution_count": 82,
   "id": "27ddb433",
   "metadata": {
    "ExecuteTime": {
     "end_time": "2022-04-20T04:40:21.057527Z",
     "start_time": "2022-04-20T04:40:18.887399Z"
    }
   },
   "outputs": [
    {
     "name": "stdout",
     "output_type": "stream",
     "text": [
      "3 16\n",
      "3\n",
      "5\n",
      "7\n",
      "11\n",
      "13\n"
     ]
    }
   ],
   "source": [
    "# SOL 1) num 제곱근 방식 / 리스트 이용 (6760 ms)\n",
    "\n",
    "low, high = map(int, input().split())\n",
    "num_list = list(range(low, high+1))\n",
    "prime_list = []\n",
    "\n",
    "for num in num_list:\n",
    "        num_temp = [1]\n",
    "        \n",
    "        # num이 1인 경우 num_temp = [1, 1]이 되어서 소수로 인식함\n",
    "        if num != 1:\n",
    "            num_temp.append(num)\n",
    "\n",
    "        # 2 ~ (num**0.5)로 나누었을 때 한 번이라도 나누어 떨어지는 경우가 있으면 소수 아님 \n",
    "        for i in range(2, int(num**0.5)+1):\n",
    "\n",
    "            # i로 나누어 떨어지는 숫자면 break (소수의 조건 위배)\n",
    "            if num % i == 0:\n",
    "                num_temp.append(num)\n",
    "                break\n",
    "\n",
    "        # 나누어 떨어지는 숫자가 1, 자기 자신뿐이므로 prime_list에 append\n",
    "        if len(num_temp) == 2:\n",
    "            print(num)"
   ]
  },
  {
   "cell_type": "code",
   "execution_count": 83,
   "id": "ebc9222b",
   "metadata": {
    "ExecuteTime": {
     "end_time": "2022-04-20T04:50:29.498269Z",
     "start_time": "2022-04-20T04:50:27.065433Z"
    }
   },
   "outputs": [
    {
     "name": "stdout",
     "output_type": "stream",
     "text": [
      "3 16\n",
      "3\n",
      "5\n",
      "7\n",
      "11\n",
      "13\n"
     ]
    }
   ],
   "source": [
    "# SOL 2) num 제곱근 방식 / 리스트 이용 X / 함수 정의 (3652 ms)\n",
    "\n",
    "def is_prime(N):\n",
    "    \n",
    "    # 1은 소수가 아님\n",
    "    if N == 1:\n",
    "        return False\n",
    "    \n",
    "    # 2 ~ N-1 사이에서 N의 약수가 존재하면 N은 소수가 아님 \n",
    "    for i in range(2, int(N**0.5)+1):\n",
    "        if N % i == 0:\n",
    "            return False\n",
    "    return True\n",
    "\n",
    "low, high = map(int, input().split())\n",
    "\n",
    "for num in range(low, high+1):\n",
    "    if is_prime(num):\n",
    "        print(num)"
   ]
  },
  {
   "cell_type": "markdown",
   "id": "aa7d96ac",
   "metadata": {},
   "source": [
    "# 4948 베르트랑 공준\n",
    "- `문제` 베르트랑 공준은 임의의 자연수 n에 대하여, n보다 크고, 2n보다 작거나 같은 소수는 적어도 하나 존재한다는 내용을 담고 있다. 이 명제는 조제프 베르트랑이 1845년에 추측했고, 파프누티 체비쇼프가 1850년에 증명했다. 예를 들어, 10보다 크고, 20보다 작거나 같은 소수는 4개가 있다. (11, 13, 17, 19) 또, 14보다 크고, 28보다 작거나 같은 소수는 3개가 있다. (17,19, 23) 자연수 n이 주어졌을 때, n보다 크고, 2n보다 작거나 같은 소수의 개수를 구하는 프로그램을 작성하시오. \n",
    "\n",
    "\n",
    "- `입력` 입력은 여러 개의 테스트 케이스로 이루어져 있다. 각 케이스는 n을 포함하는 한 줄로 이루어져 있다. 입력의 마지막에는 0이 주어진다.\n",
    "    - ex) 1 `\\n` 10 `\\n` 13 `\\n` 100 `\\n` 1000 `\\n` 10000 `\\n` 100000 `\\n` 0\n",
    "\n",
    "\n",
    "- `출력` 각 테스트 케이스에 대해서, n보다 크고, 2n보다 작거나 같은 소수의 개수를 출력한다.\n",
    "    - ex) 1 `\\n` 4 `\\n` 3 `\\n` 21 `\\n` 135 `\\n` 1033 `\\n` 8392"
   ]
  },
  {
   "attachments": {
    "image.png": {
     "image/png": "[encoded data removed]"
    }
   },
   "cell_type": "markdown",
   "id": "3dc14298",
   "metadata": {},
   "source": [
    "## 에라토스테네스의 체\n",
    "- 에라토스테네스의 체 : 범위에서 합성수를 지우는 방식으로 소수를 찾는 방법\n",
    "1. 1은 제거\n",
    "2. 지워지지 않은 수 중 제일 작은 2를 소수로 채택하고, 나머지 2의 배수를 모두 지운다.\n",
    "3. 지워지지 않은 수 중 제일 작은 3을 소수로 채택하고, 나머지 3의 배수를 모두 지운다.\n",
    "4. 지워지지 않은 수 중 제일 작은 5를 소수로 채택하고, 나머지 5의 배수를 모두 지운다. \n",
    "5. (반복)\n",
    "![image.png](attachment:image.png)"
   ]
  },
  {
   "cell_type": "code",
   "execution_count": 117,
   "id": "8ea03fd5",
   "metadata": {
    "ExecuteTime": {
     "end_time": "2022-04-20T06:24:27.897980Z",
     "start_time": "2022-04-20T06:24:27.893027Z"
    }
   },
   "outputs": [
    {
     "data": {
      "text/plain": [
       "[2, 3, 5, 7]"
      ]
     },
     "execution_count": 117,
     "metadata": {},
     "output_type": "execute_result"
    }
   ],
   "source": [
    "# 에라토스테네스의 체를 이용한 소수 리스트 구하기\n",
    "\n",
    "def prime_list(n):\n",
    "    sieve = [False] * 2 + [True] * (n-1)\n",
    "    primes = []\n",
    "    \n",
    "    for i in range(2, n+1):\n",
    "        if sieve[i]:\n",
    "            primes.append(i)\n",
    "            for j in range(2*i, n+1, i):\n",
    "                sieve[j] = False\n",
    "    return primes\n",
    "\n",
    "prime_list(7)"
   ]
  },
  {
   "cell_type": "markdown",
   "id": "df13c906",
   "metadata": {},
   "source": [
    "## TRY"
   ]
  },
  {
   "cell_type": "code",
   "execution_count": 135,
   "id": "6d3a2bee",
   "metadata": {
    "ExecuteTime": {
     "end_time": "2022-04-20T07:34:30.361520Z",
     "start_time": "2022-04-20T07:34:17.945173Z"
    }
   },
   "outputs": [
    {
     "name": "stdout",
     "output_type": "stream",
     "text": [
      "1\n",
      "1\n",
      "10\n",
      "4\n",
      "13\n",
      "3\n",
      "100\n",
      "21\n",
      "1000\n",
      "135\n",
      "10000\n",
      "1033\n",
      "100000\n",
      "8392\n",
      "0\n"
     ]
    }
   ],
   "source": [
    "# TRY 1) 에라토스테네스의 체 이용 / 매번 소수 리스트를 생성하는 방식 -> 시간 초과...\n",
    "\n",
    "# N이 소수인지 판별하는 함수\n",
    "def is_prime(N): \n",
    "    if N == 1:\n",
    "        return False\n",
    "    for i in range(2, int(N**0.5)+1):\n",
    "        if N % i == 0:\n",
    "            return False\n",
    "    return True\n",
    "\n",
    "# n보다 크고 2n보다 작거나 같은 소수의 개수 출력하는 함수\n",
    "def count_twice_prime(n):\n",
    "    sieve = [False] * (n+1) + [True] * n\n",
    "    primes = []\n",
    "    \n",
    "    for i in range(n+1, 2*n+1): # 4 ~ 6\n",
    "        \n",
    "        # 체에 있는 index i가 소수가 아니면 False로 바꾸기\n",
    "        if is_prime(i)==False:\n",
    "            sieve[i] = False\n",
    "        \n",
    "        else:\n",
    "            if sieve[i]:\n",
    "                primes.append(i)\n",
    "                for j in range(2*i, 2*n+1, i):\n",
    "                    sieve[j] = False\n",
    "    return len(primes)\n",
    "\n",
    "while True:\n",
    "    n = int(input())\n",
    "    if (n <= 0) or (n > 123456):\n",
    "        break\n",
    "    print(count_twice_prime(n))"
   ]
  },
  {
   "cell_type": "code",
   "execution_count": 173,
   "id": "c8148c2f",
   "metadata": {
    "ExecuteTime": {
     "end_time": "2022-04-20T08:30:19.646191Z",
     "start_time": "2022-04-20T08:29:57.918517Z"
    }
   },
   "outputs": [
    {
     "name": "stdout",
     "output_type": "stream",
     "text": [
      "1\n",
      "1\n",
      "10\n",
      "4\n",
      "13\n",
      "3\n",
      "100\n",
      "21\n",
      "1000\n",
      "135\n",
      "10000\n",
      "1033\n",
      "100000\n",
      "8392\n",
      "0\n"
     ]
    }
   ],
   "source": [
    "# TRY 2) 에라토스테네스의 체를 이용 / 소수 리스트 만드는 과정 1번으로 간결화!\n",
    "# N의 범위를 지정해 주었으므로 이 범위 내의 모든 소수 리스트를 1번만 구하고\n",
    "# 특정 범위 내의 소수는 완성된 소수 리스트 내에서 가져오면 됨\n",
    "# -> 시간 초과... 왜 WHY...\n",
    "\n",
    "# 소수 리스트 생성 함수\n",
    "def prime_list(n):\n",
    "    sieve = [False] * 2 + [True] * (n-1)\n",
    "    primes = []\n",
    "    \n",
    "    for i in range(2, n+1):\n",
    "        if sieve[i]:\n",
    "            primes.append(i)\n",
    "            for j in range(2*i, n+1, i):\n",
    "                sieve[j] = False\n",
    "    return primes\n",
    "\n",
    "while True:\n",
    "    N = int(input())\n",
    "    if N == 0:\n",
    "        break\n",
    "    \n",
    "    if N == 1:\n",
    "        print(1)\n",
    "    \n",
    "    else:\n",
    "        all_list = prime_list(123456*2)\n",
    "\n",
    "        if N not in all_list:\n",
    "            all_list.append(N)\n",
    "\n",
    "        if 2*N not in all_list:\n",
    "            all_list.append(2*N)\n",
    "\n",
    "        all_list = sorted(all_list)\n",
    "\n",
    "        N_index = all_list.index(N)\n",
    "        index_2N = all_list.index(2*N)\n",
    "\n",
    "        temp_list = all_list[N_index+1:index_2N]\n",
    "\n",
    "        print(len(temp_list))"
   ]
  },
  {
   "cell_type": "markdown",
   "id": "1d4d651f",
   "metadata": {},
   "source": [
    "## SOLUTION"
   ]
  },
  {
   "cell_type": "code",
   "execution_count": 179,
   "id": "e8925618",
   "metadata": {
    "ExecuteTime": {
     "end_time": "2022-04-20T08:44:41.485512Z",
     "start_time": "2022-04-20T08:44:18.445469Z"
    }
   },
   "outputs": [
    {
     "name": "stdout",
     "output_type": "stream",
     "text": [
      "1\n",
      "1\n",
      "10\n",
      "4\n",
      "13\n",
      "3\n",
      "100\n",
      "21\n",
      "1000\n",
      "135\n",
      "10000\n",
      "1033\n",
      "100000\n",
      "8392\n",
      "0\n"
     ]
    }
   ],
   "source": [
    "# SOL 1) while문에서 리스트 사용 X (1636 ms)\n",
    "\n",
    "all_list = []\n",
    "\n",
    "# 조건) 1 ≤ n ≤ 123,456\n",
    "# 문제에서 요구하는 것이 n 초과 2n 이하의 소수의 개수이므로\n",
    "# 전체 소수 리스트를 구할 때의 끝 범위가 123,456 * 2 여야 함\n",
    "\n",
    "for num in range(2, 123456 * 2):\n",
    "    error = 0\n",
    "    for i in range(2, int(num**0.5)+1):\n",
    "        if num % i == 0:\n",
    "            error += 1\n",
    "            break\n",
    "    if error == 0:\n",
    "        all_list.append(num)\n",
    "\n",
    "while True:\n",
    "    n = int(input())\n",
    "    cnt = 0\n",
    "    \n",
    "    if n == 0:\n",
    "        break\n",
    "    \n",
    "    for prime in all_list:\n",
    "        if n < prime <= 2*n:\n",
    "            cnt += 1\n",
    "    print(cnt)"
   ]
  },
  {
   "cell_type": "code",
   "execution_count": 182,
   "id": "7821213c",
   "metadata": {
    "ExecuteTime": {
     "end_time": "2022-04-20T09:01:11.620312Z",
     "start_time": "2022-04-20T09:00:54.165480Z"
    }
   },
   "outputs": [
    {
     "name": "stdout",
     "output_type": "stream",
     "text": [
      "1\n",
      "1\n",
      "10\n",
      "4\n",
      "13\n",
      "3\n",
      "100\n",
      "21\n",
      "1000\n",
      "135\n",
      "10000\n",
      "1033\n",
      "100000\n",
      "8392\n",
      "0\n"
     ]
    }
   ],
   "source": [
    "# SOL 2) 소수 리스트 생성 함수 -> 에라토스테네스 방식으로 변경 (792 ms)\n",
    "\n",
    "# 소수 리스트 생성 함수\n",
    "def prime_list(n):\n",
    "    sieve = [False] * 2 + [True] * (n-1)\n",
    "    primes = []\n",
    "    \n",
    "    for i in range(2, n+1):\n",
    "        if sieve[i]:\n",
    "            primes.append(i)\n",
    "            for j in range(2*i, n+1, i):\n",
    "                sieve[j] = False\n",
    "    return primes\n",
    "\n",
    "all_list = prime_list(123456*2)\n",
    "\n",
    "while True:\n",
    "    n = int(input())\n",
    "    cnt = 0\n",
    "    \n",
    "    if n == 0:\n",
    "        break\n",
    "    \n",
    "    for prime in all_list:\n",
    "        if n < prime <= 2*n:\n",
    "            cnt += 1\n",
    "    print(cnt)"
   ]
  },
  {
   "cell_type": "code",
   "execution_count": 12,
   "id": "2346298b",
   "metadata": {
    "ExecuteTime": {
     "end_time": "2022-04-21T01:33:57.729397Z",
     "start_time": "2022-04-21T01:33:44.769272Z"
    }
   },
   "outputs": [
    {
     "name": "stdout",
     "output_type": "stream",
     "text": [
      "1\n",
      "1\n",
      "10\n",
      "4\n",
      "100\n",
      "21\n",
      "1000\n",
      "135\n",
      "10000\n",
      "1033\n",
      "100000\n",
      "8392\n",
      "0\n",
      "time elapsed : 213ms\n"
     ]
    }
   ],
   "source": [
    "# SOL 3) (548 ms)\n",
    "\n",
    "sieve = [True for i in range(2*123456+1)]\n",
    "\n",
    "for i in range(2, int((len(sieve))**0.5)):\n",
    "    for j in range(i+i, len(sieve), i):\n",
    "        sieve[j] = False\n",
    "\n",
    "while True:\n",
    "    n = int(input())\n",
    "    cnt = 0\n",
    "    \n",
    "    if n == 0:\n",
    "        break\n",
    "    \n",
    "    for num in sieve[n+1 : 2*n+1]:\n",
    "        if num == True:\n",
    "            cnt += 1\n",
    "    print(cnt)"
   ]
  },
  {
   "cell_type": "markdown",
   "id": "727c7c7d",
   "metadata": {},
   "source": [
    "# 9020 골드바흐의 추측\n",
    "- `문제` 1보다 큰 자연수 중에서  1과 자기 자신을 제외한 약수가 없는 자연수를 소수라고 한다. 예를 들어, 5는 1과 5를 제외한 약수가 없기 때문에 소수이다. 하지만, 6은 6 = 2 × 3 이기 때문에 소수가 아니다. 골드바흐의 추측은 유명한 정수론의 미해결 문제로, 2보다 큰 모든 짝수는 두 소수의 합으로 나타낼 수 있다는 것이다. 이러한 수를 골드바흐 수라고 한다. 또, 짝수를 두 소수의 합으로 나타내는 표현을 그 수의 골드바흐 파티션이라고 한다. 예를 들면, 4 = 2 + 2, 6 = 3 + 3, 8 = 3 + 5, 10 = 5 + 5, 12 = 5 + 7, 14 = 3 + 11, 14 = 7 + 7이다. 10000보다 작거나 같은 모든 짝수 n에 대한 골드바흐 파티션은 존재한다. 2보다 큰 짝수 n이 주어졌을 때, n의 골드바흐 파티션을 출력하는 프로그램을 작성하시오. 만약 가능한 n의 골드바흐 파티션이 여러 가지인 경우에는 두 소수의 차이가 가장 작은 것을 출력한다.\n",
    "\n",
    "\n",
    "- `입력` 첫째 줄에 테스트 케이스의 개수 T가 주어진다. 각 테스트 케이스는 한 줄로 이루어져 있고 짝수 n이 주어진다.\n",
    "    - ex) 3 `\\n` 8 `\\n` 10 `\\n` 16\n",
    "    \n",
    "    \n",
    "- `출력` 각 테스트 케이스에 대해서 주어진 n의 골드바흐 파티션을 출력한다. 출력하는 소수는 작은 것부터 먼저 출력하며, 공백으로 구분한다.\n",
    "    - ex) 3 5 `\\n` 5 5 `\\n` 5 11"
   ]
  },
  {
   "cell_type": "markdown",
   "id": "1c8e5d57",
   "metadata": {},
   "source": [
    "## METHOD"
   ]
  },
  {
   "cell_type": "code",
   "execution_count": null,
   "id": "e90ec54e",
   "metadata": {},
   "outputs": [],
   "source": [
    "''' ⭐️ 소수 리스트 생성 함수 '''\n",
    "\n",
    "# ver1.\n",
    "def prime_list(n):\n",
    "    sieve = [False] * 2 + [True] * (n-1)\n",
    "    primes = []\n",
    "    \n",
    "    for i in range(2, n+1):\n",
    "        if sieve[i]:\n",
    "            primes.append(i)\n",
    "            for j in range(2*i, n+1, i):\n",
    "                sieve[j] = False\n",
    "    return primes\n",
    "\n",
    "# ver2.\n",
    "def prime_list2(n):\n",
    "    sieve = [False] * 2 + [True for i in range(n-1)]\n",
    "    prime_list = []\n",
    "    for i in range(2, int(len(sieve)**0.5)):\n",
    "        for j in range(2*i, len(sieve), i):\n",
    "            sieve[j] = False\n",
    "\n",
    "    for k, q in enumerate(sieve):\n",
    "        if q == True:\n",
    "            prime_list.append(k)\n",
    "    return prime_list\n",
    "\n",
    "# ver3.\n",
    "def prime_list3(n):\n",
    "    sieve = [False] * 2 + [True for i in range(n-1)]\n",
    "    for i in range(2, int(len(sieve)**0.5)):\n",
    "        for j in range(2*i, len(sieve), i):\n",
    "            sieve[j] = False\n",
    "    \n",
    "    sieve = [i for i in range(2, n+1) if sieve[i] == True]\n",
    "    return sieve"
   ]
  },
  {
   "cell_type": "markdown",
   "id": "f3b2f428",
   "metadata": {},
   "source": [
    "## TRY"
   ]
  },
  {
   "cell_type": "code",
   "execution_count": 62,
   "id": "facf259c",
   "metadata": {
    "ExecuteTime": {
     "end_time": "2022-04-21T05:16:54.497656Z",
     "start_time": "2022-04-21T05:16:52.282446Z"
    }
   },
   "outputs": [
    {
     "name": "stdout",
     "output_type": "stream",
     "text": [
      "1\n",
      "9990\n",
      "4987 5003\n"
     ]
    }
   ],
   "source": [
    "# TRY 1) 시간 초과... \n",
    "\n",
    "# 1. 소수 리스트 생성 함수 1\n",
    "# 조건) 4 ≤ n ≤ 10,000\n",
    "def prime_list(n):\n",
    "    sieve = [False] * 2 + [True] * (n-1)\n",
    "    primes = []\n",
    "    \n",
    "    for i in range(2, n+1):\n",
    "        if sieve[i]:\n",
    "            primes.append(i)\n",
    "            for j in range(2*i, n+1, i):\n",
    "                sieve[j] = False\n",
    "    return primes\n",
    "\n",
    "primes = prime_list(10000)\n",
    "\n",
    "T = int(input())\n",
    "for _ in range(T):\n",
    "    \n",
    "    N = int(input())\n",
    "    \n",
    "    # 2. N보다 작은 소수 리스트 생성 (= prime_temp)\n",
    "    prime_temp = []\n",
    "    for k in primes:\n",
    "        if k < N:\n",
    "            prime_temp.append(k)\n",
    "        else:\n",
    "            break\n",
    "    \n",
    "    # 3. prime_temp에서 N/2 이하에 속하는 수들에만 순회하면서 \n",
    "    # 해당 숫자와 N에서 해당 숫자를 뺀 값이 소수인지 확인\n",
    "    end = 0\n",
    "    for i in prime_temp:\n",
    "        if i <= N/2:\n",
    "            end = i\n",
    "    end_index = prime_temp.index(end)\n",
    "    \n",
    "    for c in prime_temp[:end_index+1]:\n",
    "        if (N-c) in prime_temp:\n",
    "            a, b = c, N-c\n",
    "    if a < b:\n",
    "        print(a, b)\n",
    "    else:\n",
    "        print(b, a)"
   ]
  },
  {
   "cell_type": "markdown",
   "id": "ff2d7bf5",
   "metadata": {},
   "source": [
    "## SOLUTION"
   ]
  },
  {
   "cell_type": "code",
   "execution_count": 1,
   "id": "f9e4f744",
   "metadata": {
    "ExecuteTime": {
     "end_time": "2022-04-21T05:29:09.563641Z",
     "start_time": "2022-04-21T05:29:00.556052Z"
    }
   },
   "outputs": [
    {
     "name": "stdout",
     "output_type": "stream",
     "text": [
      "2\n",
      "180\n",
      "83 97\n",
      "2040\n",
      "1019 1021\n"
     ]
    }
   ],
   "source": [
    "# SOL 1) 시간을 더 줄여보자.. (2004 ms)\n",
    "\n",
    "# 1. 소수 리스트 생성 함수 3\n",
    "def prime_list3(n):\n",
    "    sieve = [False] * 2 + [True for i in range(n-1)]\n",
    "    for i in range(2, int(len(sieve)**0.5)):\n",
    "        for j in range(2*i, len(sieve), i):\n",
    "            sieve[j] = False\n",
    "    \n",
    "    sieve = [i for i in range(2, n+1) if sieve[i] == True]\n",
    "\n",
    "    return sieve\n",
    "\n",
    "primes = prime_list3(10000)\n",
    "\n",
    "T = int(input())\n",
    "for _ in range(T):\n",
    "    \n",
    "    N = int(input())\n",
    "    \n",
    "    # 2. N보다 작은 소수 리스트 생성 (= prime_temp)\n",
    "    prime_temp = []\n",
    "    for k in primes:\n",
    "        if k < N:\n",
    "            prime_temp.append(k)\n",
    "\n",
    "    # 3. prime_temp에서 N/2 이하에 속하는 수들에 뒤에서부터 순회하면서 \n",
    "    # 해당 숫자와 N에서 해당 숫자를 뺀 값이 소수인지 확인\n",
    "    end = 0\n",
    "    for i in prime_temp:\n",
    "        if i <= N/2:\n",
    "            end = i\n",
    "    end_index = prime_temp.index(end)\n",
    "    \n",
    "    for i in range(end_index,-1,-1):\n",
    "        C = prime_temp[i]\n",
    "        if (N - C) in prime_temp:\n",
    "            if N-C < C:\n",
    "                print(N - C, C)\n",
    "                break\n",
    "            else:\n",
    "                print(C, N - C)\n",
    "                break"
   ]
  },
  {
   "cell_type": "code",
   "execution_count": 3,
   "id": "f526900b",
   "metadata": {
    "ExecuteTime": {
     "end_time": "2022-04-21T06:22:31.514805Z",
     "start_time": "2022-04-21T06:22:30.236286Z"
    }
   },
   "outputs": [
    {
     "name": "stdout",
     "output_type": "stream",
     "text": [
      "1\n",
      "14\n",
      "7 7\n"
     ]
    }
   ],
   "source": [
    "# SOL 2) 소수 여부 리스트 생성 (524 ms)\n",
    "\n",
    "primes = [0 for i in range(10001)]\n",
    "primes[1] = 1\n",
    "\n",
    "for i in range(2, 98):\n",
    "    for j in range(i * 2, 10001, i):\n",
    "        primes[j] = 1\n",
    "\n",
    "T = int(input())\n",
    "for i in range(T):\n",
    "    a = int(input())\n",
    "    b = a // 2\n",
    "    for j in range(b, 1, -1):\n",
    "        if (primes[a-j] == 0) and (primes[j] == 0):\n",
    "            print(j, a - j)\n",
    "            break"
   ]
  }
 ],
 "metadata": {
  "kernelspec": {
   "display_name": "Python 3 (ipykernel)",
   "language": "python",
   "name": "python3"
  },
  "language_info": {
   "codemirror_mode": {
    "name": "ipython",
    "version": 3
   },
   "file_extension": ".py",
   "mimetype": "text/x-python",
   "name": "python",
   "nbconvert_exporter": "python",
   "pygments_lexer": "ipython3",
   "version": "3.9.7"
  },
  "toc": {
   "base_numbering": 1,
   "nav_menu": {},
   "number_sections": true,
   "sideBar": true,
   "skip_h1_title": false,
   "title_cell": "Table of Contents",
   "title_sidebar": "Contents",
   "toc_cell": false,
   "toc_position": {},
   "toc_section_display": true,
   "toc_window_display": false
  }
 },
 "nbformat": 4,
 "nbformat_minor": 5
}
