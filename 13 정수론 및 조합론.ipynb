{
 "cells": [
  {
   "cell_type": "markdown",
   "id": "7f148468",
   "metadata": {},
   "source": [
    "# [5086 배수와 약수](https://www.acmicpc.net/problem/5086)\n",
    "- `문제` 4 × 3 = 12이다. 이 식을 통해 다음과 같은 사실을 알 수 있다. 3은 12의 약수이고, 12는 3의 배수이다. 4도 12의 약수이고, 12는 4의 배수이다. 두 수가 주어졌을 때, 다음 3가지 중 어떤 관계인지 구하는 프로그램을 작성하시오. \n",
    "    1. 첫 번째 숫자가 두 번째 숫자의 약수이다.\n",
    "    2. 첫 번째 숫자가 두 번째 숫자의 배수이다.\n",
    "    3. 첫 번째 숫자가 두 번째 숫자의 약수와 배수 모두 아니다.\n",
    "    \n",
    "\n",
    "- `입력` 입력은 여러 테스트 케이스로 이루어져 있다. 각 테스트 케이스는 10,000이 넘지않는 두 자연수로 이루어져 있다. 마지막 줄에는 0이 2개 주어진다. 두 수가 같은 경우는 없다.\n",
    "    - ex) 8 16 `\\n` 32 4 `\\n` 17 5 `\\n` 0 0\n",
    "\n",
    "\n",
    "- `출력` 각 테스트 케이스마다 첫 번째 숫자가 두 번째 숫자의 약수라면 factor를, 배수라면 multiple을, 둘 다 아니라면 neither를 출력한다.\n",
    "    - ex) factor `\\n` multiple `\\n` neither"
   ]
  },
  {
   "cell_type": "code",
   "execution_count": 5,
   "id": "94a34ee3",
   "metadata": {
    "ExecuteTime": {
     "end_time": "2022-05-10T01:57:38.128322Z",
     "start_time": "2022-05-10T01:57:27.376747Z"
    }
   },
   "outputs": [
    {
     "name": "stdout",
     "output_type": "stream",
     "text": [
      "8 16\n",
      "factor\n",
      "32 4\n",
      "multiple\n",
      "17 5\n",
      "neither\n",
      "0 0\n"
     ]
    }
   ],
   "source": [
    "# SOL 1)\n",
    "# --- import sys : 64 ms\n",
    "# --- import sys + pypy3 : 108 ms\n",
    "\n",
    "import sys\n",
    "input = sys.stdin.readline\n",
    "\n",
    "while True:\n",
    "    A, B = map(int, input().split())\n",
    "    if (A == 0) and (B == 0):\n",
    "        break\n",
    "    if (A < B) and (B % A == 0):\n",
    "        print('factor')\n",
    "    elif (A > B) and (A % B == 0):\n",
    "        print('multiple')\n",
    "    else:\n",
    "        print('neither')"
   ]
  },
  {
   "cell_type": "markdown",
   "id": "1bbb9641",
   "metadata": {},
   "source": [
    "# [1037 약수](https://www.acmicpc.net/problem/1037)\n",
    "- `문제` 양수 A가 N의 진짜 약수가 되려면, N이 A의 배수이고, A가 1과 N이 아니어야 한다. 어떤 수 N의 진짜 약수가 모두 주어질 때, N을 구하는 프로그램을 작성하시오.\n",
    "\n",
    "\n",
    "- `입력` 첫째 줄에 N의 진짜 약수의 개수가 주어진다. 이 개수는 50보다 작거나 같은 자연수이다. 둘째 줄에는 N의 진짜 약수가 주어진다. 1,000,000보다 작거나 같고, 2보다 크거나 같은 자연수이고, 중복되지 않는다.\n",
    "    - ex) 2 `\\n` 4 2\n",
    "    - ex) 1 `\\n` 2\n",
    "    - ex) 6 `\\n` 3 4 2 12 6 8\n",
    "    - ex) 14 `\\n` 14 26456 2 28 13228 3307 7 23149 8 6614 46298 56 4 92596\n",
    "\n",
    "\n",
    "- `출력` 첫째 줄에 N을 출력한다. N은 항상 32비트 부호있는 정수로 표현할 수 있다.\n",
    "    - ex) 8\n",
    "    - ex) 4\n",
    "    - ex) 24\n",
    "    - ex) 185192"
   ]
  },
  {
   "cell_type": "code",
   "execution_count": 11,
   "id": "9048f30f",
   "metadata": {
    "ExecuteTime": {
     "end_time": "2022-05-10T02:23:45.730597Z",
     "start_time": "2022-05-10T02:23:39.749380Z"
    }
   },
   "outputs": [
    {
     "name": "stdout",
     "output_type": "stream",
     "text": [
      "14\n",
      "14 26456 2 28 13228 3307 7 23149 8 6614 46298 56 4 92596\n",
      "185192\n"
     ]
    }
   ],
   "source": [
    "# SOL 1) \n",
    "# --- import sys : 68 ms\n",
    "# --- import sys + pypy3 : 120 ms\n",
    "\n",
    "import sys\n",
    "input = sys.stdin.readline\n",
    "\n",
    "N = int(input())\n",
    "N_lst = sorted(list(map(int, input().split())))\n",
    "\n",
    "if len(N_lst) == 1:\n",
    "    ori_num = N_lst[0]**2\n",
    "else:\n",
    "    ori_num = N_lst[0]*N_lst[-1]\n",
    "\n",
    "print(ori_num)"
   ]
  },
  {
   "cell_type": "code",
   "execution_count": 12,
   "id": "af94cd74",
   "metadata": {
    "ExecuteTime": {
     "end_time": "2022-05-10T02:28:57.110181Z",
     "start_time": "2022-05-10T02:28:50.008794Z"
    }
   },
   "outputs": [
    {
     "name": "stdout",
     "output_type": "stream",
     "text": [
      "14\n",
      "14 26456 2 28 13228 3307 7 23149 8 6614 46298 56 4 92596\n",
      "185192\n"
     ]
    }
   ],
   "source": [
    "# SOL 2)\n",
    "# --- import sys : 68 ms\n",
    "# --- import sys + pypy3 : 120 ms\n",
    "\n",
    "import sys\n",
    "input = sys.stdin.readline\n",
    "\n",
    "N = int(input())\n",
    "N_lst = list(map(int, input().split()))\n",
    "N_lst.sort()\n",
    "print(N_lst[0]*N_lst[-1])"
   ]
  },
  {
   "cell_type": "markdown",
   "id": "7609d64b",
   "metadata": {},
   "source": [
    "# [2609 최대공약수와 최소공배수](https://www.acmicpc.net/problem/2609)\n",
    "- `문제` 두 개의 자연수를 입력받아 최대 공약수와 최소 공배수를 출력하는 프로그램을 작성하시오.\n",
    "\n",
    "\n",
    "- `입력` 첫째 줄에는 두 개의 자연수가 주어진다. 이 둘은 10,000이하의 자연수이며 사이에 한 칸의 공백이 주어진다.\n",
    "    - ex) 24 18\n",
    "\n",
    "\n",
    "- `출력` 첫째 줄에는 입력으로 주어진 두 수의 최대공약수를, 둘째 줄에는 입력으로 주어진 두 수의 최소 공배수를 출력한다.\n",
    "    - ex) 6 `\\n` 72"
   ]
  },
  {
   "cell_type": "code",
   "execution_count": 1,
   "id": "821b9657",
   "metadata": {
    "ExecuteTime": {
     "end_time": "2022-05-10T02:52:38.321196Z",
     "start_time": "2022-05-10T02:52:34.903251Z"
    }
   },
   "outputs": [
    {
     "name": "stdout",
     "output_type": "stream",
     "text": [
      "24 18\n",
      "6\n",
      "72\n"
     ]
    }
   ],
   "source": [
    "# SOL 1)\n",
    "# --- import sys : 68 ms\n",
    "# --- import sys + pypy3 : 116 ms\n",
    "\n",
    "import sys\n",
    "input = sys.stdin.readline\n",
    "\n",
    "A, B = map(int, input().split())\n",
    "A_nums = list(range(1, A+1))\n",
    "B_nums = list(range(1, B+1))\n",
    "\n",
    "# 최대공약수 (greatest)\n",
    "A_prime = []\n",
    "for i in A_nums:\n",
    "    if A % i == 0:\n",
    "        A_prime.append(i)\n",
    "\n",
    "greatest = 0 \n",
    "for j in B_nums:\n",
    "    if (j in A_prime) and (B % j == 0):\n",
    "        greatest = j\n",
    "\n",
    "# 최소공배수 (least)\n",
    "least = A * B / greatest\n",
    "\n",
    "print(int(greatest))\n",
    "print(int(least))"
   ]
  },
  {
   "cell_type": "markdown",
   "id": "ba297dae",
   "metadata": {},
   "source": [
    "# [1934 최소공배수](https://www.acmicpc.net/problem/1934)\n",
    "- `문제` 두 자연수 A와 B에 대해서, A의 배수이면서 B의 배수인 자연수를 A와 B의 공배수라고 한다. 이런 공배수 중에서 가장 작은 수를 최소공배수라고 한다. 예를 들어, 6과 15의 공배수는 30, 60, 90등이 있으며, 최소 공배수는 30이다. 두 자연수 A와 B가 주어졌을 때, A와 B의 최소공배수를 구하는 프로그램을 작성하시오.\n",
    "\n",
    "\n",
    "- `입력` 첫째 줄에 테스트 케이스의 개수 T(1 ≤ T ≤ 1,000)가 주어진다. 둘째 줄부터 T개의 줄에 걸쳐서 A와 B가 주어진다. (1 ≤ A, B ≤ 45,000)\n",
    "    - ex) 3 `\\n` 1 45000 `\\n` 6 10 `\\n` 13 17\n",
    "\n",
    "\n",
    "- `출력` 첫째 줄부터 T개의 줄에 A와 B의 최소공배수를 입력받은 순서대로 한 줄에 하나씩 출력한다.\n",
    "    - ex) 45000 `\\n` 30 `\\n` 221"
   ]
  },
  {
   "cell_type": "code",
   "execution_count": 3,
   "id": "81e55484",
   "metadata": {
    "ExecuteTime": {
     "end_time": "2022-05-10T03:08:43.541067Z",
     "start_time": "2022-05-10T03:08:36.317250Z"
    }
   },
   "outputs": [
    {
     "name": "stdout",
     "output_type": "stream",
     "text": [
      "3\n",
      "1 45000\n",
      "6 10\n",
      "13 17\n",
      "45000\n",
      "30\n",
      "221\n"
     ]
    }
   ],
   "source": [
    "# SOL 1) \n",
    "# --- import sys : 시간 초과\n",
    "# --- import sys + pypy3 : 1744 ms\n",
    "\n",
    "import sys\n",
    "input = sys.stdin.readline\n",
    "\n",
    "T = int(input())\n",
    "\n",
    "least_lst = []\n",
    "for _ in range(T):\n",
    "    A, B = map(int, input().split())\n",
    "    A_nums = list(range(1, A+1))\n",
    "    B_nums = list(range(1, B+1))\n",
    "\n",
    "    # 최대공약수 (greatest)\n",
    "    A_prime = []\n",
    "    for i in A_nums:\n",
    "        if A % i == 0:\n",
    "            A_prime.append(i)\n",
    "\n",
    "    greatest = 0 \n",
    "    for j in B_nums:\n",
    "        if (j in A_prime) and (B % j == 0):\n",
    "            greatest = j\n",
    "    \n",
    "    # 최소공배수 (least)\n",
    "    least_lst.append(int(A * B / greatest))\n",
    "\n",
    "print(*least_lst, sep='\\n')"
   ]
  },
  {
   "cell_type": "code",
   "execution_count": 7,
   "id": "2e04a655",
   "metadata": {
    "ExecuteTime": {
     "end_time": "2022-05-10T04:35:56.082518Z",
     "start_time": "2022-05-10T04:35:48.037800Z"
    }
   },
   "outputs": [
    {
     "name": "stdout",
     "output_type": "stream",
     "text": [
      "3\n",
      "1 45000\n",
      "6 10\n",
      "13 17\n",
      "45000\n",
      "30\n",
      "221\n"
     ]
    }
   ],
   "source": [
    "# SOL 2) 유클리드 알고리즘 (자연수 2개의 최대공약수를 구하는 알고리즘)\n",
    "# --- import sys : 68 ms\n",
    "# --- import sys + pypy3 : 120 ms\n",
    "\n",
    "import sys\n",
    "input = sys.stdin.readline\n",
    "\n",
    "def GCD(a, b):\n",
    "    while b > 0:\n",
    "        a, b = b, a % b\n",
    "    return a\n",
    "\n",
    "T = int(input())\n",
    "LCM_lst = []\n",
    "\n",
    "for _ in range(T):\n",
    "    A, B = map(int, input().split())\n",
    "    LCM = (A * B) // GCD(A, B)\n",
    "    LCM_lst.append(LCM)\n",
    "\n",
    "print(*LCM_lst, sep='\\n')"
   ]
  },
  {
   "cell_type": "code",
   "execution_count": 9,
   "id": "ea73f570",
   "metadata": {
    "ExecuteTime": {
     "end_time": "2022-05-10T04:52:21.812998Z",
     "start_time": "2022-05-10T04:52:09.581780Z"
    }
   },
   "outputs": [
    {
     "name": "stdout",
     "output_type": "stream",
     "text": [
      "3\n",
      "1 45000\n",
      "6 10\n",
      "13 17\n",
      "45000\n",
      "30\n",
      "221\n"
     ]
    }
   ],
   "source": [
    "# SOL 3) 유클리드 알고리즘 - 재귀 함수로 표현\n",
    "# --- import sys : 72 ms\n",
    "# --- import sys + pypy3 : 132 ms\n",
    "\n",
    "import sys\n",
    "input = sys.stdin.readline\n",
    "\n",
    "def GCD(a, b):\n",
    "    if a % b == 0:\n",
    "        return b\n",
    "    else:\n",
    "        return GCD(b, a % b)\n",
    "\n",
    "T = int(input())\n",
    "LCM_lst = []\n",
    "\n",
    "for _ in range(T):\n",
    "    A, B = map(int, input().split())\n",
    "    LCM = (A * B) // GCD(A, B)\n",
    "    LCM_lst.append(LCM)\n",
    "\n",
    "print(*LCM_lst, sep='\\n')"
   ]
  },
  {
   "cell_type": "markdown",
   "id": "9703207b",
   "metadata": {},
   "source": [
    "# [2981 검문](https://www.acmicpc.net/problem/2981)\n",
    "- `문제` 트럭을 타고 이동하던 상근이는 경찰의 검문을 받게 되었다. 경찰은 상근이가 운반하던 화물을 하나하나 모두 확인할 것이기 때문에, 검문하는데 엄청나게 오랜 시간이 걸린다. 상근이는 시간을 때우기 위해서 수학 게임을 하기로 했다. 먼저 근처에 보이는 숫자 N개를 종이에 적는다. 그 다음, 종이에 적은 수를 M으로 나누었을 때, 나머지가 모두 같게 되는 M을 모두 찾으려고 한다. M은 1보다 커야 한다. N개의 수가 주어졌을 때, 가능한 M을 모두 찾는 프로그램을 작성하시오.\n",
    "\n",
    "\n",
    "- `입력` 첫째 줄에 종이에 적은 수의 개수 N이 주어진다. (2 ≤ N ≤ 100) 다음 줄부터 N개 줄에는 종이에 적은 수가 하나씩 주어진다. 이 수는 모두 1보다 크거나 같고, 1,000,000,000보다 작거나 같은 자연수이다. 같은 수가 두 번 이상 주어지지 않는다. 항상 M이 하나 이상 존재하는 경우만 입력으로 주어진다.\n",
    "    - ex) 3 `\\n` 6 `\\n` 34 `\\n` 38\n",
    "    - ex) 5 `\\n` 5 `\\n` 17 `\\n` 23 `\\n` 14 `\\n` 83\n",
    "\n",
    "\n",
    "- `출력` \n",
    "    - ex) 2 4\n",
    "    - ex) 3"
   ]
  },
  {
   "cell_type": "code",
   "execution_count": 19,
   "id": "ea60e41d",
   "metadata": {
    "ExecuteTime": {
     "end_time": "2022-05-10T05:13:43.443709Z",
     "start_time": "2022-05-10T05:13:37.691242Z"
    }
   },
   "outputs": [
    {
     "name": "stdout",
     "output_type": "stream",
     "text": [
      "5\n",
      "5\n",
      "17\n",
      "23\n",
      "14\n",
      "83\n",
      "3\n"
     ]
    }
   ],
   "source": [
    "# TRY 1) 시간 초과\n",
    "\n",
    "import sys\n",
    "input = sys.stdin.readline\n",
    "\n",
    "N = int(input())\n",
    "N_lst = [int(input()) for _ in range(N)]\n",
    "M_lst = []\n",
    "\n",
    "for i in range(2, min(N_lst)+1):\n",
    "    temp = []\n",
    "    for j in range(len(N_lst)):\n",
    "        temp.append((N_lst[j] % i))\n",
    "        \n",
    "    if temp.count(temp[0]) == len(temp):\n",
    "        M_lst.append(i)\n",
    "\n",
    "print(*M_lst)"
   ]
  },
  {
   "cell_type": "code",
   "execution_count": 24,
   "id": "29ade40b",
   "metadata": {
    "ExecuteTime": {
     "end_time": "2022-05-10T05:28:47.806296Z",
     "start_time": "2022-05-10T05:28:41.173563Z"
    }
   },
   "outputs": [
    {
     "name": "stdout",
     "output_type": "stream",
     "text": [
      "5\n",
      "5\n",
      "17\n",
      "23\n",
      "14\n",
      "83\n",
      "3\n"
     ]
    }
   ],
   "source": [
    "# TRY 2) 시간 초과\n",
    "\n",
    "import sys\n",
    "input = sys.stdin.readline\n",
    "\n",
    "N = int(input())\n",
    "N_lst = [int(input()) for _ in range(N)]\n",
    "M_lst = []\n",
    "\n",
    "for i in range(2, min(N_lst)+1):\n",
    "    temp = list(map(lambda x:x%i, N_lst))\n",
    "    \n",
    "    if temp.count(temp[0]) == len(temp):\n",
    "        M_lst.append(i)\n",
    "\n",
    "print(*M_lst)"
   ]
  },
  {
   "cell_type": "code",
   "execution_count": 14,
   "id": "088d9352",
   "metadata": {
    "ExecuteTime": {
     "end_time": "2022-05-10T06:19:24.244956Z",
     "start_time": "2022-05-10T06:19:10.774235Z"
    },
    "scrolled": true
   },
   "outputs": [
    {
     "name": "stdout",
     "output_type": "stream",
     "text": [
      "5\n",
      "5\n",
      "17\n",
      "23\n",
      "14\n",
      "83\n",
      "3\n"
     ]
    }
   ],
   "source": [
    "# SOL 1) \n",
    "# --- import sys : 68 ms\n",
    "# --- import sys + pypy3 : 112 ms\n",
    "\n",
    "import sys\n",
    "input = sys.stdin.readline\n",
    "\n",
    "N = int(input())\n",
    "N_lst = [int(input()) for _ in range(N)]\n",
    "\n",
    "# 최대공약수 구하는 함수\n",
    "def GCD(a, b):\n",
    "    while b > 0:\n",
    "        a, b = b, a % b\n",
    "    return a\n",
    "\n",
    "# N개의 수의 간격을 각각 구함\n",
    "diff_nums = []\n",
    "for i in range(len(N_lst)-1, 0, -1):\n",
    "    diff_nums.append(N_lst[i]-N_lst[i-1])\n",
    "\n",
    "# 위에서 구한 diff_nums에 대해 최대공약수를 구함\n",
    "gcd = diff_nums[0]\n",
    "for i in range(1, len(diff_nums)):\n",
    "    gcd = GCD(gcd, diff_nums[i])\n",
    "\n",
    "# 최대공약수에 대해 1을 제외한 소수를 구함 \n",
    "result = []\n",
    "for i in range(2, int(gcd**0.5)+1):\n",
    "    if gcd % i == 0:\n",
    "        result.append(i)\n",
    "        result.append(gcd // i)\n",
    "\n",
    "result.append(gcd)\n",
    "result = list(set(result))\n",
    "result.sort()\n",
    "print(*result)"
   ]
  },
  {
   "attachments": {
    "image.png": {
     "image/png": "[encoded data removed]"
    }
   },
   "cell_type": "markdown",
   "id": "69e2722c",
   "metadata": {},
   "source": [
    "# [3036 링](https://www.acmicpc.net/problem/3036)\n",
    "- `문제` 상근이는 창고에서 링 N개를 발견했다. 상근이는 각각의 링이 앞에 있는 링과 뒤에 있는 링과 접하도록 바닥에 내려놓았다.![image.png](attachment:image.png) 상근이는 첫 번째 링을 돌리기 시작했고, 나머지 링도 같이 돌아간다는 사실을 발견했다. 나머지 링은 첫 번째 링 보다 빠르게 돌아가기도 했고, 느리게 돌아가기도 했다. 이렇게 링을 돌리다 보니 첫 번째 링을 한 바퀴 돌리면, 나머지 링은 몇 바퀴 도는지 궁금해졌다. 링의 반지름이 주어진다. 이때, 첫 번째 링을 한 바퀴 돌리면, 나머지 링은 몇 바퀴 돌아가는지 구하는 프로그램을 작성하시오.\n",
    "\n",
    "\n",
    "- `입력` 첫째 줄에 링의 개수 N이 주어진다. (3 ≤ N ≤ 100) 다음 줄에는 링의 반지름이 상근이가 바닥에 놓은 순서대로 주어진다. 반지름은 1과 1000를 포함하는 사이의 자연수이다.\n",
    "    - ex) 3 `\\n` 8 4 2\n",
    "    - ex) 4 `\\n` 12 3 8 4\n",
    "    - ex) 4 `\\n` 300 1 1 300\n",
    "\n",
    "- `출력` 출력은 총 N-1줄을 해야 한다. 첫 번째 링을 제외한 각각의 링에 대해서, 첫 번째 링을 한 바퀴 돌리면 그 링은 몇 바퀴 도는지 기약 분수 형태 A/B로 출력한다.\n",
    "    - ex) 2/1 `\\n` 4/1\n",
    "    - ex) 4/1 `\\n` 3/2 `\\n` 3/1\n",
    "    - ex) 300/1 `\\n` 300/1 `\\n` 1/1"
   ]
  },
  {
   "cell_type": "code",
   "execution_count": 3,
   "id": "309571fd",
   "metadata": {
    "ExecuteTime": {
     "end_time": "2022-05-10T06:53:30.435703Z",
     "start_time": "2022-05-10T06:53:26.138794Z"
    }
   },
   "outputs": [
    {
     "name": "stdout",
     "output_type": "stream",
     "text": [
      "4\n",
      "300 1 1 300\n",
      "300/1\n",
      "300/1\n",
      "1/1\n"
     ]
    }
   ],
   "source": [
    "# SOL 1)\n",
    "# --- import sys : 68 ms\n",
    "# --- import sys + pypy3 : 108 ms\n",
    "\n",
    "import sys\n",
    "input = sys.stdin.readline\n",
    "\n",
    "N = int(input())\n",
    "N_lst = list(map(int, input().split()))\n",
    "\n",
    "def GCD(a, b):\n",
    "    while b > 0:\n",
    "        a, b = b, a % b\n",
    "    return a\n",
    "\n",
    "result = []\n",
    "for i in range(1, len(N_lst)):\n",
    "    first = N_lst[0]\n",
    "    temp = N_lst[i]\n",
    "    if first % temp == 0:\n",
    "        result.append(f'{int(first/temp)}/1')\n",
    "    else:\n",
    "        gcd = GCD(first, temp)\n",
    "        result.append(f'{int(first/gcd)}/{int(temp/gcd)}')\n",
    "print(*result, sep = '\\n')"
   ]
  },
  {
   "cell_type": "markdown",
   "id": "b092b20e",
   "metadata": {},
   "source": [
    "# [11050 이항 계수 1](https://www.acmicpc.net/problem/11050)\n",
    "- `문제` 자연수 N과 정수 K가 주어졌을 때 이항 계수 N Combination K를 구하는 프로그램을 작성하시오.\n",
    "\n",
    "\n",
    "- `입력` 첫째 줄에 N과 K가 주어진다. (1 ≤ N ≤ 10, 0 ≤ K ≤ N)\n",
    "    - ex) 5 2\n",
    "\n",
    "\n",
    "- `출력` N Combination K를 출력한다.\n",
    "    - ex) 10"
   ]
  },
  {
   "cell_type": "code",
   "execution_count": null,
   "id": "12f23fcf",
   "metadata": {},
   "outputs": [],
   "source": []
  },
  {
   "cell_type": "markdown",
   "id": "6016f7b6",
   "metadata": {},
   "source": [
    "# [11051 이항 계수 2](https://www.acmicpc.net/problem/11051)\n",
    "- `문제` 자연수 N과 정수 K가 주어졌을 때 이항 계수 N Combination K를 10,007로 나눈 나머지를 구하는 프로그램을 작성하시오.\n",
    "\n",
    "\n",
    "- `입력` 첫째 줄에 N과 K가 주어진다. (1 ≤ N ≤ 1,000, 0 ≤ K ≤ N)\n",
    "    - ex) 5 2\n",
    "\n",
    "\n",
    "- `출력` N Combination K를 10,007로 나눈 나머지를 출력한다.\n",
    "    - ex) 10"
   ]
  },
  {
   "cell_type": "code",
   "execution_count": null,
   "id": "668dbda9",
   "metadata": {},
   "outputs": [],
   "source": []
  },
  {
   "attachments": {
    "image.png": {
     "image/png": "[encoded data removed]"
    }
   },
   "cell_type": "markdown",
   "id": "acde0813",
   "metadata": {},
   "source": [
    "# [1010 다리 놓기](https://www.acmicpc.net/problem/1010)\n",
    "- `문제` 재원이는 한 도시의 시장이 되었다. 이 도시에는 도시를 동쪽과 서쪽으로 나누는 큰 일직선 모양의 강이 흐르고 있다. 하지만 재원이는 다리가 없어서 시민들이 강을 건너는데 큰 불편을 겪고 있음을 알고 다리를 짓기로 결심하였다. 강 주변에서 다리를 짓기에 적합한 곳을 사이트라고 한다. 재원이는 강 주변을 면밀히 조사해 본 결과 강의 서쪽에는 N개의 사이트가 있고 동쪽에는 M개의 사이트가 있다는 것을 알았다. (N ≤ M) 재원이는 서쪽의 사이트와 동쪽의 사이트를 다리로 연결하려고 한다. (이때 한 사이트에는 최대 한 개의 다리만 연결될 수 있다.) 재원이는 다리를 최대한 많이 지으려고 하기 때문에 서쪽의 사이트 개수만큼 (N개) 다리를 지으려고 한다. 다리끼리는 서로 겹쳐질 수 없다고 할 때 다리를 지을 수 있는 경우의 수를 구하는 프로그램을 작성하라.\n",
    "![image.png](attachment:image.png)\n",
    "\n",
    "- `입력` 입력의 첫 줄에는 테스트 케이스의 개수 T가 주어진다. 그 다음 줄부터 각각의 테스트케이스에 대해 강의 서쪽과 동쪽에 있는 사이트의 개수 정수 N, M (0 < N ≤ M < 30)이 주어진다.\n",
    "    - ex) 3 `\\n` 2 2 `\\n` 1 5 `\\n` 13 29\n",
    "\n",
    "\n",
    "- `출력` 각 테스트 케이스에 대해 주어진 조건하에 다리를 지을 수 있는 경우의 수를 출력한다.\n",
    "    - ex) 1 `\\n` 5 `\\n` 67863915"
   ]
  },
  {
   "cell_type": "code",
   "execution_count": null,
   "id": "6a2b6535",
   "metadata": {},
   "outputs": [],
   "source": []
  },
  {
   "cell_type": "markdown",
   "id": "0a8d14a2",
   "metadata": {},
   "source": [
    "# [9375 패션왕 신해빈](https://www.acmicpc.net/problem/9375)\n",
    "- `문제` 해빈이는 패션에 매우 민감해서 한번 입었던 옷들의 조합을 절대 다시 입지 않는다. 예를 들어 오늘 해빈이가 안경, 코트, 상의, 신발을 입었다면, 다음날은 바지를 추가로 입거나 안경대신 렌즈를 착용하거나 해야한다. 해빈이가 가진 의상들이 주어졌을때 과연 해빈이는 알몸이 아닌 상태로 며칠동안 밖에 돌아다닐 수 있을까?\n",
    "\n",
    "\n",
    "- `입력` 첫째 줄에 테스트 케이스가 주어진다. 테스트 케이스는 최대 100이다. 각 테스트 케이스의 첫째 줄에는 해빈이가 가진 의상의 수 n(0 ≤ n ≤ 30)이 주어진다. 다음 n개에는 해빈이가 가진 의상의 이름과 의상의 종류가 공백으로 구분되어 주어진다. 같은 종류의 의상은 하나만 입을 수 있다. 모든 문자열은 1이상 20이하의 알파벳 소문자로 이루어져있으며 같은 이름을 가진 의상은 존재하지 않는다.\n",
    "    - ex) 2 `\\n` 3 `\\n` hat headgear `\\n` sunglasses eyewear `\\n` turban headgear `\\n` 3 `\\n` mask face `\\n` sunglasses face `\\n` makeup face\n",
    "\n",
    "\n",
    "- `출력` 각 테스트 케이스에 대해 해빈이가 알몸이 아닌 상태로 의상을 입을 수 있는 경우를 출력하시오.\n",
    "    - ex) 5 `\\n` 3\n",
    "  \n",
    "  \n",
    "- `힌트` 첫 번째 테스트 케이스는 headgear에 해당하는 의상이 hat, turban이며 eyewear에 해당하는 의상이 sunglasses이므로   (hat), (turban), (sunglasses), (hat,sunglasses), (turban,sunglasses)로 총 5가지 이다."
   ]
  },
  {
   "cell_type": "code",
   "execution_count": null,
   "id": "b730d14e",
   "metadata": {},
   "outputs": [],
   "source": []
  },
  {
   "cell_type": "markdown",
   "id": "66892d58",
   "metadata": {},
   "source": [
    "# [1676 팩토리얼 0의 개수](https://www.acmicpc.net/problem/1676)\n",
    "- `문제` N!에서 뒤에서부터 처음 0이 아닌 숫자가 나올 때까지 0의 개수를 구하는 프로그램을 작성하시오.\n",
    "\n",
    "\n",
    "- `입력` 첫째 줄에 N이 주어진다. (0 ≤ N ≤ 500)\n",
    "    - ex) 10 / 3\n",
    "\n",
    "\n",
    "- `출력` 첫째 줄에 구한 0의 개수를 출력한다.\n",
    "    - ex) 2 / 0"
   ]
  },
  {
   "cell_type": "code",
   "execution_count": null,
   "id": "8d7ffc78",
   "metadata": {},
   "outputs": [],
   "source": []
  },
  {
   "cell_type": "markdown",
   "id": "d26f1f3a",
   "metadata": {},
   "source": [
    "# [2004 조합 0의 개수](https://www.acmicpc.net/problem/2004)\n",
    "- `문제` n Combination m의 끝자리 0의 개수를 출력하는 프로그램을 작성하시오.\n",
    "\n",
    "\n",
    "- `입력` 첫째 줄에 정수 n, m (0 <= m <= n <= 2,000,000,000, n != 0)이 들어온다.\n",
    "    - ex) 25 12\n",
    "\n",
    "\n",
    "- `출력` 첫째 줄에 n Combination m의 끝자리 0의 개수를 출력한다.\n",
    "    - ex) 2"
   ]
  },
  {
   "cell_type": "code",
   "execution_count": null,
   "id": "8105cf17",
   "metadata": {},
   "outputs": [],
   "source": []
  }
 ],
 "metadata": {
  "kernelspec": {
   "display_name": "Python 3 (ipykernel)",
   "language": "python",
   "name": "python3"
  },
  "language_info": {
   "codemirror_mode": {
    "name": "ipython",
    "version": 3
   },
   "file_extension": ".py",
   "mimetype": "text/x-python",
   "name": "python",
   "nbconvert_exporter": "python",
   "pygments_lexer": "ipython3",
   "version": "3.9.7"
  },
  "toc": {
   "base_numbering": 1,
   "nav_menu": {},
   "number_sections": true,
   "sideBar": true,
   "skip_h1_title": false,
   "title_cell": "Table of Contents",
   "title_sidebar": "Contents",
   "toc_cell": false,
   "toc_position": {},
   "toc_section_display": true,
   "toc_window_display": false
  }
 },
 "nbformat": 4,
 "nbformat_minor": 5
}
