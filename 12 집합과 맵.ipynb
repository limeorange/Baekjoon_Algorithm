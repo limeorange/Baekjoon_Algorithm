{
 "cells": [
  {
   "cell_type": "markdown",
   "id": "620e8aef",
   "metadata": {},
   "source": [
    "# [10815 숫자 카드](https://www.acmicpc.net/problem/10815)\n",
    "- `문제` 숫자 카드는 정수 하나가 적혀져 있는 카드이다. 상근이는 숫자 카드 N개를 가지고 있다. 정수 M개가 주어졌을 때, 이 수가 적혀있는 숫자 카드를 상근이가 가지고 있는지 아닌지를 구하는 프로그램을 작성하시오.\n",
    "\n",
    "\n",
    "- `입력` 첫째 줄에 상근이가 가지고 있는 숫자 카드의 개수 N(1 ≤ N ≤ 500,000)이 주어진다. 둘째 줄에는 숫자 카드에 적혀있는 정수가 주어진다. 숫자 카드에 적혀있는 수는 -10,000,000보다 크거나 같고, 10,000,000보다 작거나 같다. 두 숫자 카드에 같은 수가 적혀있는 경우는 없다. 셋째 줄에는 M(1 ≤ M ≤ 500,000)이 주어진다. 넷째 줄에는 상근이가 가지고 있는 숫자 카드인지 아닌지를 구해야 할 M개의 정수가 주어지며, 이 수는 공백으로 구분되어져 있다. 이 수도 -10,000,000보다 크거나 같고, 10,000,000보다 작거나 같다.\n",
    "    - ex) 5 `\\n` 6 3 2 10 -10 `\\n` 8 `\\n` 10 9 -5 2 3 4 5 -10\n",
    "\n",
    "\n",
    "- `출력` 첫째 줄에 입력으로 주어진 M개의 수에 대해서, 각 수가 적힌 숫자 카드를 상근이가 가지고 있으면 1을, 아니면 0을 공백으로 구분해 출력한다.\n",
    "    - ex) 1 0 0 1 1 0 0 1"
   ]
  },
  {
   "cell_type": "code",
   "execution_count": 2,
   "id": "bed49e34",
   "metadata": {
    "ExecuteTime": {
     "end_time": "2022-05-09T03:15:17.804839Z",
     "start_time": "2022-05-09T03:14:58.715079Z"
    }
   },
   "outputs": [
    {
     "name": "stdout",
     "output_type": "stream",
     "text": [
      "5\n",
      "6 3 2 10 -10\n",
      "8\n",
      "10 9 -5 2 3 4 5 -10\n",
      "1 0 0 1 1 0 0 1 "
     ]
    }
   ],
   "source": [
    "# TRY 1) 시간 초과\n",
    "\n",
    "import sys\n",
    "input = sys.stdin.readline\n",
    "\n",
    "N = int(input())\n",
    "base_card = list(map(int, input().split()))\n",
    "\n",
    "M = int(input())\n",
    "nums = list(map(int, input().split()))\n",
    "\n",
    "for i in nums:\n",
    "    if i in base_card:\n",
    "        print(1, end=' ')\n",
    "    else:\n",
    "        print(0, end=' ')"
   ]
  },
  {
   "cell_type": "code",
   "execution_count": 31,
   "id": "99cc2b86",
   "metadata": {
    "ExecuteTime": {
     "end_time": "2022-05-09T04:53:32.627598Z",
     "start_time": "2022-05-09T04:53:21.331420Z"
    }
   },
   "outputs": [
    {
     "name": "stdout",
     "output_type": "stream",
     "text": [
      "5\n",
      "6 3 2 10 -10\n",
      "8\n",
      "10 9 -5 2 3 4 5 -10\n",
      "1 0 0 1 1 0 0 1\n"
     ]
    }
   ],
   "source": [
    "# SOL 1) 사전 교집합, 차집합 이용\n",
    "# --- input() : 916 ms\n",
    "# --- input() + pypy3 : 748 ms\n",
    "# --- import sys : 912 ms\n",
    "# --- import sys + pypy3 : 760 ms\n",
    "\n",
    "N = int(input())\n",
    "base_card = set(list(map(int, input().split())))\n",
    "\n",
    "M = int(input())\n",
    "nums = list(map(int, input().split()))\n",
    "set_nums = set(nums)\n",
    "\n",
    "dic = {}\n",
    "for i in (base_card & set_nums):\n",
    "    dic[i] = 1\n",
    "for j in (set_nums - base_card):\n",
    "    dic[j] = 0\n",
    "\n",
    "result = list(map(lambda x:dic[x], nums))\n",
    "print(*result)"
   ]
  },
  {
   "cell_type": "code",
   "execution_count": 36,
   "id": "94d34ae6",
   "metadata": {
    "ExecuteTime": {
     "end_time": "2022-05-09T05:12:36.084722Z",
     "start_time": "2022-05-09T05:12:26.484075Z"
    }
   },
   "outputs": [
    {
     "name": "stdout",
     "output_type": "stream",
     "text": [
      "5\n",
      "6 3 2 10 -10\n",
      "8\n",
      "10 9 -5 2 3 4 5 -10\n",
      "1 0 0 1 1 0 0 1\n"
     ]
    }
   ],
   "source": [
    "# SOL 2) 교집합만 이용\n",
    "# --- input() : 564 ms\n",
    "# --- input() + pypy3 : 596 ms\n",
    "# --- import sys : 580 ms\n",
    "# --- import sys + pypy3 : 600 ms\n",
    "\n",
    "N = int(input())\n",
    "set_A = set(map(int, input().split()))\n",
    "\n",
    "M = int(input())\n",
    "B = list(map(int, input().split()))\n",
    "set_B = set(B)\n",
    "\n",
    "C = set_A & set_B\n",
    "print(' '.join('1' if m in C else '0' for m in B))"
   ]
  },
  {
   "cell_type": "code",
   "execution_count": 38,
   "id": "d6c99327",
   "metadata": {
    "ExecuteTime": {
     "end_time": "2022-05-09T05:20:30.858385Z",
     "start_time": "2022-05-09T05:20:14.657264Z"
    }
   },
   "outputs": [
    {
     "name": "stdout",
     "output_type": "stream",
     "text": [
      "5\n",
      "6 3 2 10 -10\n",
      "8\n",
      "10 9 -5 2 3 4 5 -10\n",
      "1 0 0 1 1 0 0 1\n"
     ]
    }
   ],
   "source": [
    "# SOL 3) Counter 함수 이용\n",
    "# --- input() : 460 ms\n",
    "# --- input() + pypy3 : 704 ms\n",
    "# --- import sys : 452 ms\n",
    "# --- import sys + pypy3 : 672 ms\n",
    "\n",
    "from collections import Counter\n",
    "import sys\n",
    "input = sys.stdin.readline\n",
    "\n",
    "N = int(input())\n",
    "A = input().split()\n",
    "\n",
    "M = int(input())\n",
    "B = input().split()\n",
    "\n",
    "C = Counter(A)\n",
    "print(' '.join('1' if m in C else '0' for m in B))"
   ]
  },
  {
   "cell_type": "markdown",
   "id": "1036d14c",
   "metadata": {},
   "source": [
    "# [14425 문자열 집합](https://www.acmicpc.net/problem/14425)\n",
    "- `문제` 총 N개의 문자열로 이루어진 집합 S가 주어진다. 입력으로 주어지는 M개의 문자열 중에서 집합 S에 포함되어 있는 것이 총 몇 개인지 구하는 프로그램을 작성하시오.\n",
    "\n",
    "\n",
    "- `입력` 첫째 줄에 문자열의 개수 N과 M (1 ≤ N ≤ 10,000, 1 ≤ M ≤ 10,000)이 주어진다. 다음 N개의 줄에는 집합 S에 포함되어 있는 문자열들이 주어진다. 다음 M개의 줄에는 검사해야 하는 문자열들이 주어진다. 입력으로 주어지는 문자열은 알파벳 소문자로만 이루어져 있으며, 길이는 500을 넘지 않는다. 집합 S에 같은 문자열이 여러 번 주어지는 경우는 없다.\n",
    "    - ex) 5 11 `\\n` baekjoononlinejudge `\\n` startlink `\\n` codeplus `\\n` sundaycoding `\\n` codingsh `\\n` baekjoon `\\n` codeplus `\\n` codeminus `\\n` startlink `\\n` starlink `\\n` sundaycoding `\\n` codingsh `\\n` codinghs `\\n` sondaycoding `\\n` startrink `\\n` icerink\n",
    "\n",
    "\n",
    "- `출력` 첫째 줄에 M개의 문자열 중에 총 몇 개가 집합 S에 포함되어 있는지 출력한다.\n",
    "    - ex) 4"
   ]
  },
  {
   "cell_type": "code",
   "execution_count": 1,
   "id": "57a30d29",
   "metadata": {
    "ExecuteTime": {
     "end_time": "2022-05-09T06:12:31.585376Z",
     "start_time": "2022-05-09T06:12:12.728098Z"
    }
   },
   "outputs": [
    {
     "name": "stdout",
     "output_type": "stream",
     "text": [
      "3 3\n",
      "baekjoononlinejudge\n",
      "startlink\n",
      "codeplus\n",
      "codeplus\n",
      "codeplus\n",
      "codepluss\n",
      "2\n"
     ]
    }
   ],
   "source": [
    "# TRY 1) 위 두 줄 붙으면 왜 error가 나는걸까?\n",
    "# -> temp = input()만 해주면 코드 정상적으로 작동함\n",
    "# 위 부분 수정 + N_lst => set 타입으로 변경해서 실행 (SOL 2)\n",
    "\n",
    "import sys\n",
    "input = sys.stdin.readline\n",
    "\n",
    "N, M = map(int, input().split())\n",
    "N_lst = [input() for _ in range(N)]\n",
    "\n",
    "cnt = 0\n",
    "for i in range(M):\n",
    "    temp = input().strip()\n",
    "    if temp in N_lst:\n",
    "        cnt += 1\n",
    "print(cnt)"
   ]
  },
  {
   "cell_type": "code",
   "execution_count": 46,
   "id": "cb9d9d72",
   "metadata": {
    "ExecuteTime": {
     "end_time": "2022-05-09T05:54:06.613397Z",
     "start_time": "2022-05-09T05:53:01.619548Z"
    }
   },
   "outputs": [
    {
     "name": "stdout",
     "output_type": "stream",
     "text": [
      "5 11\n",
      "baekjoononlinejudge\n",
      "startlink\n",
      "codeplus\n",
      "sundaycoding\n",
      "codingsh\n",
      "baekjoon\n",
      "codeplus\n",
      "codeminus\n",
      "startlink\n",
      "starlink\n",
      "sundaycoding\n",
      "codingsh\n",
      "codinghs\n",
      "sondaycoding\n",
      "startrink\n",
      "icerink\n",
      "4\n"
     ]
    }
   ],
   "source": [
    "# SOL 1) 위 문제(10815)와 방법 유사함\n",
    "# --- input() : 920 ms\n",
    "# --- input() + pypy3 : 352 ms\n",
    "# --- import sys : 168 ms\n",
    "# --- import sys + pypy3 : 304 ms\n",
    "\n",
    "from collections import Counter\n",
    "import sys\n",
    "input = sys.stdin.readline\n",
    "\n",
    "N, M = map(int, input().split())\n",
    "N_lst = [input() for _ in range(N)]\n",
    "M_lst = [input() for _ in range(M)]\n",
    "\n",
    "C = Counter(N_lst)\n",
    "cnt = 0\n",
    "for i in M_lst:\n",
    "    if i in C:\n",
    "        cnt += 1\n",
    "print(cnt)"
   ]
  },
  {
   "cell_type": "code",
   "execution_count": 2,
   "id": "f61caba0",
   "metadata": {
    "ExecuteTime": {
     "end_time": "2022-05-09T06:35:40.894376Z",
     "start_time": "2022-05-09T06:35:30.581846Z"
    }
   },
   "outputs": [
    {
     "name": "stdout",
     "output_type": "stream",
     "text": [
      "3 3\n",
      "abc\n",
      "aa\n",
      "bb\n",
      "aaa\n",
      "bb\n",
      "abc\n",
      "2\n"
     ]
    }
   ],
   "source": [
    "# SOL 2) list가 아닌 set에서 있는지 확인, input에서 strip() 적용 안 함\n",
    "# --- input() : 920 ms\n",
    "# --- input() + pypy3 : 320 ms\n",
    "# --- import sys : 144 ms\n",
    "# --- import sys + pypy3 : 268 ms\n",
    "\n",
    "import sys\n",
    "input = sys.stdin.readline\n",
    "\n",
    "N, M = map(int, input().split())\n",
    "N_set = set([input() for _ in range(N)])\n",
    "\n",
    "cnt = 0\n",
    "for _ in range(M):\n",
    "    temp = input()\n",
    "    if temp in N_set:\n",
    "        cnt += 1\n",
    "print(cnt)"
   ]
  },
  {
   "cell_type": "markdown",
   "id": "2fe10b1d",
   "metadata": {},
   "source": [
    "# [1620 나는야 포켓몬 마스터 이다솜](https://www.acmicpc.net/problem/1620)\n",
    "- `문제` 링크 참조\n",
    "\n",
    "\n",
    "- `입력` 첫째 줄에는 도감에 수록되어 있는 포켓몬의 개수 N이랑 내가 맞춰야 하는 문제의 개수 M이 주어져. N과 M은 1보다 크거나 같고, 100,000보다 작거나 같은 자연수인데, 자연수가 뭔지는 알지? 모르면 물어봐도 괜찮아. 나는 언제든지 질문에 답해줄 준비가 되어있어. 둘째 줄부터 N개의 줄에 포켓몬의 번호가 1번인 포켓몬부터 N번에 해당하는 포켓몬까지 한 줄에 하나씩 입력으로 들어와. 포켓몬의 이름은 모두 영어로만 이루어져있고, 또, 음... 첫 글자만 대문자이고, 나머지 문자는 소문자로만 이루어져 있어. 아참! 일부 포켓몬은 마지막 문자만 대문자일 수도 있어. 포켓몬 이름의 최대 길이는 20, 최소 길이는 2야. 그 다음 줄부터 총 M개의 줄에 내가 맞춰야하는 문제가 입력으로 들어와. 문제가 알파벳으로만 들어오면 포켓몬 번호를 말해야 하고, 숫자로만 들어오면, 포켓몬 번호에 해당하는 문자를 출력해야해. 입력으로 들어오는 숫자는 반드시 1보다 크거나 같고, N보다 작거나 같고, 입력으로 들어오는 문자는 반드시 도감에 있는 포켓몬의 이름만 주어져. 그럼 화이팅!!!\n",
    "    - ex) 26 5 `\\n` Bulbasaur `\\n` Ivysaur `\\n` Venusaur `\\n` Charmander `\\n` Charmeleon `\\n` Charizard `\\n` Squirtle `\\n` Wartortle `\\n` Blastoise `\\n` Caterpie `\\n` Metapod `\\n` Butterfree `\\n` Weedle `\\n` Kakuna `\\n` Beedrill `\\n` Pidgey `\\n` Pidgeotto `\\n` Pidgeot `\\n` Rattata `\\n` Raticate `\\n` Spearow `\\n` Fearow `\\n` Ekans `\\n` Arbok `\\n` Pikachu `\\n` Raichu `\\n` 25 `\\n` Raichu `\\n` 3 `\\n` Pidgey `\\n` Kakuna\n",
    "\n",
    "\n",
    "- `출력` 첫째 줄부터 차례대로 M개의 줄에 각각의 문제에 대한 답을 말해줬으면 좋겠어!!!. 입력으로 숫자가 들어왔다면 그 숫자에 해당하는 포켓몬의 이름을, 문자가 들어왔으면 그 포켓몬의 이름에 해당하는 번호를 출력하면 돼. 그럼 땡큐~ 이게 오박사님이 나에게 새로 주시려고 하는 도감이야. 너무 가지고 싶다ㅠㅜ. 꼭 만점을 받아줬으면 좋겠어!! 파이팅!!!\n",
    "    - ex) Pikachu `\\n` 26 `\\n` Venusaur `\\n` 16 `\\n` 14"
   ]
  },
  {
   "cell_type": "code",
   "execution_count": 2,
   "id": "fcde7c96",
   "metadata": {
    "ExecuteTime": {
     "end_time": "2022-05-09T07:35:40.523832Z",
     "start_time": "2022-05-09T07:35:37.068297Z"
    }
   },
   "outputs": [
    {
     "name": "stdout",
     "output_type": "stream",
     "text": [
      "3 3\n",
      "a\n",
      "b\n",
      "c\n",
      "a\n",
      "b\n",
      "3\n",
      "1\n",
      "2\n",
      "c\n"
     ]
    }
   ],
   "source": [
    "# SOL 1) for문으로 input() 받을 때 strip() 붙이기.. \n",
    "# --- input() : 7908 ms\n",
    "# --- input() + pypy3 : 408 ms\n",
    "# --- import sys : 276 ms\n",
    "# --- import sys + pypy3 : 336 ms\n",
    "\n",
    "import sys\n",
    "input = sys.stdin.readline\n",
    "\n",
    "N, M = map(int,input().split())\n",
    "\n",
    "dic_num = {}\n",
    "for i in range(1, N+1):\n",
    "    dic_num[i] = input().strip()\n",
    "\n",
    "dic_name = {}\n",
    "for idx, i in enumerate(dic_num.values()):\n",
    "    dic_name[i] = idx+1\n",
    "\n",
    "result = []\n",
    "for j in range(1, M+1):\n",
    "    temp = input().strip()\n",
    "    if temp in dic_name.keys():\n",
    "        result.append(dic_name[temp])\n",
    "    else:\n",
    "        result.append(dic_num[int(temp)])\n",
    "        \n",
    "print(*result, sep = '\\n')"
   ]
  },
  {
   "cell_type": "code",
   "execution_count": 5,
   "id": "7eb3b2b1",
   "metadata": {
    "ExecuteTime": {
     "end_time": "2022-05-09T07:43:22.313813Z",
     "start_time": "2022-05-09T07:43:18.161892Z"
    }
   },
   "outputs": [
    {
     "name": "stdout",
     "output_type": "stream",
     "text": [
      "3 3\n",
      "a\n",
      "b\n",
      "c\n",
      "a\n",
      "b\n",
      "3\n",
      "1\n",
      "2\n",
      "c\n"
     ]
    }
   ],
   "source": [
    "# SOL 2) 위에서 분리한 사전 하나로 통일 \n",
    "# --- input() : 시간 초과\n",
    "# --- input() + pypy3 : 460 ms\n",
    "# --- import sys : 288 ms\n",
    "# --- import sys + pypy3 : 360 ms\n",
    "\n",
    "import sys\n",
    "input = sys.stdin.readline\n",
    "\n",
    "N, M = map(int,input().split())\n",
    "\n",
    "dic = {}\n",
    "for i in range(1, N+1):\n",
    "    name = input().strip()\n",
    "    dic[str(i)] = name\n",
    "    dic[name] = str(i)\n",
    "\n",
    "lst = [input().strip() for _ in range(M)]\n",
    "print(*list(map(lambda x: dic[x], lst)), sep = '\\n')"
   ]
  },
  {
   "cell_type": "markdown",
   "id": "98da56bb",
   "metadata": {},
   "source": [
    "# [10816 숫자 카드 2](https://www.acmicpc.net/problem/10816)\n",
    "- `문제` 숫자 카드는 정수 하나가 적혀져 있는 카드이다. 상근이는 숫자 카드 N개를 가지고 있다. 정수 M개가 주어졌을 때, 이 수가 적혀있는 숫자 카드를 상근이가 몇 개 가지고 있는지 구하는 프로그램을 작성하시오.\n",
    "\n",
    "\n",
    "- `입력` 첫째 줄에 상근이가 가지고 있는 숫자 카드의 개수 N(1 ≤ N ≤ 500,000)이 주어진다. 둘째 줄에는 숫자 카드에 적혀있는 정수가 주어진다. 숫자 카드에 적혀있는 수는 -10,000,000보다 크거나 같고, 10,000,000보다 작거나 같다. 셋째 줄에는 M(1 ≤ M ≤ 500,000)이 주어진다. 넷째 줄에는 상근이가 몇 개 가지고 있는 숫자 카드인지 구해야 할 M개의 정수가 주어지며, 이 수는 공백으로 구분되어져 있다. 이 수도 -10,000,000보다 크거나 같고, 10,000,000보다 작거나 같다.\n",
    "    - ex) 10 `\\n` 6 3 2 10 10 10 -10 -10 7 3 `\\n` 8 `\\n` 10 9 -5 2 3 4 5 -10\n",
    "\n",
    "\n",
    "- `출력` 첫째 줄에 입력으로 주어진 M개의 수에 대해서, 각 수가 적힌 숫자 카드를 상근이가 몇 개 가지고 있는지를 공백으로 구분해 출력한다.\n",
    "    - ex) 3 0 0 1 2 0 0 2"
   ]
  },
  {
   "cell_type": "code",
   "execution_count": 12,
   "id": "46d0307b",
   "metadata": {
    "ExecuteTime": {
     "end_time": "2022-05-09T08:04:53.807510Z",
     "start_time": "2022-05-09T08:04:38.382754Z"
    }
   },
   "outputs": [
    {
     "name": "stdout",
     "output_type": "stream",
     "text": [
      "10\n",
      "6 3 2 10 10 10 -10 -10 7 3\n",
      "8\n",
      "10 9 -5 2 3 4 5 -10\n",
      "3 0 0 1 2 0 0 2\n"
     ]
    }
   ],
   "source": [
    "# SOL 1) Counter 함수 이용\n",
    "# --- input() : 756 ms\n",
    "# --- input() + pypy3 : 572 ms\n",
    "# --- import sys : 724 ms\n",
    "# --- import sys + pypy3 : 572 ms\n",
    "\n",
    "from collections import Counter\n",
    "import sys\n",
    "input = sys.stdin.readline\n",
    "\n",
    "N = int(input())\n",
    "N_lst = list(map(int, input().split()))\n",
    "M = int(input())\n",
    "M_lst = list(map(int, input().split()))\n",
    "\n",
    "N_dic = Counter(N_lst)\n",
    "print(' '.join(str(N_dic[i]) if i in N_dic.keys() else '0' for i in M_lst))"
   ]
  },
  {
   "cell_type": "markdown",
   "id": "1c89bf2e",
   "metadata": {},
   "source": [
    "# [1764 듣보잡](https://www.acmicpc.net/problem/1764)\n",
    "- `문제` 김진영이 듣도 못한 사람의 명단과, 보도 못한 사람의 명단이 주어질 때, 듣도 보도 못한 사람의 명단을 구하는 프로그램을 작성하시오.\n",
    "\n",
    "\n",
    "- `입력` 첫째 줄에 듣도 못한 사람의 수 N, 보도 못한 사람의 수 M이 주어진다. 이어서 둘째 줄부터 N개의 줄에 걸쳐 듣도 못한 사람의 이름과, N+2째 줄부터 보도 못한 사람의 이름이 순서대로 주어진다. 이름은 띄어쓰기 없이 알파벳 소문자로만 이루어지며, 그 길이는 20 이하이다. N, M은 500,000 이하의 자연수이다. 듣도 못한 사람의 명단에는 중복되는 이름이 없으며, 보도 못한 사람의 명단도 마찬가지이다.\n",
    "    - ex) 3 4 `\\n` ohhenrie `\\n` charlie `\\n` baesangwook `\\n` obama `\\n` baesangwook `\\n` ohhenrie `\\n` clinton\n",
    "\n",
    "\n",
    "- `출력` 듣보잡의 수와 그 명단을 사전순으로 출력한다.\n",
    "    - ex) 2 `\\n` baesangwook `\\n` ohhenrie"
   ]
  },
  {
   "cell_type": "code",
   "execution_count": 2,
   "id": "36d5cdf1",
   "metadata": {
    "ExecuteTime": {
     "end_time": "2022-05-09T08:44:06.299702Z",
     "start_time": "2022-05-09T08:43:40.203502Z"
    }
   },
   "outputs": [
    {
     "name": "stdout",
     "output_type": "stream",
     "text": [
      "3 4\n",
      "ohhenrie\n",
      "charlie\n",
      "baesangwook\n",
      "obama\n",
      "baesangwook\n",
      "ohhenrie\n",
      "clinton\n",
      "2\n",
      "baesangwook\n",
      "ohhenrie\n"
     ]
    }
   ],
   "source": [
    "# SOL 1) 사전순 출력 -> 사전 sort\n",
    "# --- import sys : 112 ms\n",
    "# --- import sys + pypy3 : 172 ms\n",
    "\n",
    "import sys\n",
    "input = sys.stdin.readline\n",
    "\n",
    "N, M = map(int, input().split())\n",
    "\n",
    "N_lst = [input().strip() for _ in range(N)]\n",
    "M_lst = [input().strip() for _ in range(M)]\n",
    "\n",
    "C= sorted(set(N_lst) & set(M_lst))\n",
    "\n",
    "print(len(C))\n",
    "print(*C, sep = '\\n')"
   ]
  },
  {
   "cell_type": "markdown",
   "id": "9765ab31",
   "metadata": {},
   "source": [
    "# [1269 대상 차집합](https://www.acmicpc.net/problem/1269)\n",
    "- `문제` 자연수를 원소로 갖는 공집합이 아닌 두 집합 A와 B가 있다. 이때, 두 집합의 대칭 차집합의 원소의 개수를 출력하는 프로그램을 작성하시오. 두 집합 A와 B가 있을 때, (A-B)와 (B-A)의 합집합을 A와 B의 대칭 차집합이라고 한다. 예를 들어, A = { 1, 2, 4 } 이고, B = { 2, 3, 4, 5, 6 } 라고 할 때,  A-B = { 1 } 이고, B-A = { 3, 5, 6 } 이므로, 대칭 차집합의 원소의 개수는 1 + 3 = 4개이다.\n",
    "\n",
    "\n",
    "- `입력` 첫째 줄에 집합 A의 원소의 개수와 집합 B의 원소의 개수가 빈 칸을 사이에 두고 주어진다. 둘째 줄에는 집합 A의 모든 원소가, 셋째 줄에는 집합 B의 모든 원소가 빈 칸을 사이에 두고 각각 주어진다. 각 집합의 원소의 개수는 200,000을 넘지 않으며, 모든 원소의 값은 100,000,000을 넘지 않는다.\n",
    "    - ex) 3 5 `\\n` 1 2 4 `\\n` 2 3 4 5 6\n",
    "\n",
    "\n",
    "- `출력` 첫째 줄에 대칭 차집합의 원소의 개수를 출력한다.\n",
    "    - ex) 4"
   ]
  },
  {
   "cell_type": "code",
   "execution_count": 1,
   "id": "ddab6a40",
   "metadata": {
    "ExecuteTime": {
     "end_time": "2022-05-09T09:10:05.594184Z",
     "start_time": "2022-05-09T09:09:54.513441Z"
    }
   },
   "outputs": [
    {
     "name": "stdout",
     "output_type": "stream",
     "text": [
      "3 5\n",
      "1 2 4\n",
      "2 3 4 5 6\n",
      "4\n"
     ]
    }
   ],
   "source": [
    "# SOL 1) A-B, B-A 구해서 더하기\n",
    "# --- import sys : 304 ms\n",
    "# --- import sys + pypy3 : 312 ms\n",
    "\n",
    "import sys\n",
    "input = sys.stdin.readline\n",
    "\n",
    "A, B = map(int, input().split())\n",
    "A_set = set(map(int, input().split()))\n",
    "B_set = set(map(int, input().split()))\n",
    "\n",
    "print(len(A_set-B_set)+len(B_set-A_set))"
   ]
  },
  {
   "cell_type": "code",
   "execution_count": 2,
   "id": "cf355109",
   "metadata": {
    "ExecuteTime": {
     "end_time": "2022-05-09T09:12:55.430602Z",
     "start_time": "2022-05-09T09:12:47.766044Z"
    }
   },
   "outputs": [
    {
     "name": "stdout",
     "output_type": "stream",
     "text": [
      "3 5\n",
      "1 2 4\n",
      "2 3 4 5 6\n",
      "4\n"
     ]
    }
   ],
   "source": [
    "# SOL 2) 교집합 구해서 빼기 \n",
    "# --- import sys : 240 ms\n",
    "# --- import sys + pypy3 : 260 ms\n",
    "\n",
    "import sys\n",
    "input = sys.stdin.readline\n",
    "\n",
    "A, B = map(int, input().split())\n",
    "A_set = set(map(int, input().split()))\n",
    "B_set = set(map(int, input().split()))\n",
    "\n",
    "print(A + B - 2 * len(A_set & B_set))"
   ]
  },
  {
   "cell_type": "markdown",
   "id": "d32e3c24",
   "metadata": {},
   "source": [
    "# [11478 서로 다른 부분 문자열의 개수](https://www.acmicpc.net/problem/11478)\n",
    "- `문제` 문자열 S가 주어졌을 때, S의 서로 다른 부분 문자열의 개수를 구하는 프로그램을 작성하시오. 부분 문자열은 S에서 연속된 일부분을 말하며, 길이가 1보다 크거나 같아야 한다. 예를 들어, ababc의 부분 문자열은 a, b, a, b, c, ab, ba, ab, bc, aba, bab, abc, abab, babc, ababc가 있고, 서로 다른것의 개수는 12개이다.\n",
    "\n",
    "\n",
    "- `입력` 첫째 줄에 문자열 S가 주어진다. S는 알파벳 소문자로만 이루어져 있고, 길이는 1,000 이하이다.\n",
    "    - ex) ababc\n",
    "\n",
    "\n",
    "- `출력` 첫째 줄에 S의 서로 다른 부분 문자열의 개수를 출력한다.\n",
    "    - ex) 12"
   ]
  },
  {
   "cell_type": "code",
   "execution_count": 14,
   "id": "5d71f06d",
   "metadata": {
    "ExecuteTime": {
     "end_time": "2022-05-09T09:44:14.655842Z",
     "start_time": "2022-05-09T09:44:14.652424Z"
    }
   },
   "outputs": [
    {
     "name": "stdout",
     "output_type": "stream",
     "text": [
      "12\n"
     ]
    }
   ],
   "source": [
    "# TRY 1) i, j 변수 세팅을 위한 note..\n",
    "\n",
    "a = 'ababc'\n",
    "\n",
    "# 0, 1, 2, 3, 4\n",
    "# 0:2 1:3 2:4 3:5\n",
    "# 0:3 1:4 2:5\n",
    "# 0:4 1:5\n",
    "# 0:5\n",
    "\n",
    "lst = []\n",
    "\n",
    "for i in range(len(a)): # 0, 1, 2, 3, 4\n",
    "    for j in range(len(a)-i): # 0, 1, 2, 3, 4 / 0, 1, 2, 3 / ... / 0\n",
    "        lst.append(a[j:j+(i+1)])\n",
    "\n",
    "print(len(set(lst)))"
   ]
  },
  {
   "cell_type": "code",
   "execution_count": 15,
   "id": "60b73f1b",
   "metadata": {
    "ExecuteTime": {
     "end_time": "2022-05-09T09:45:55.956013Z",
     "start_time": "2022-05-09T09:45:52.178611Z"
    }
   },
   "outputs": [
    {
     "name": "stdout",
     "output_type": "stream",
     "text": [
      "ababc\n",
      "12\n"
     ]
    }
   ],
   "source": [
    "# SOL 1) list 생성 후 set으로 중복 제거\n",
    "# --- import sys : 1468 ms\n",
    "# --- import sys + pypy3 : 616 ms\n",
    "\n",
    "import sys\n",
    "input = sys.stdin.readline\n",
    "\n",
    "S = input().strip()\n",
    "lst = []\n",
    "\n",
    "for i in range(len(S)): \n",
    "    for j in range(len(S)-i): \n",
    "        lst.append(S[j:j+(i+1)])\n",
    "\n",
    "print(len(set(lst)))"
   ]
  },
  {
   "cell_type": "code",
   "execution_count": 17,
   "id": "3d1f841e",
   "metadata": {
    "ExecuteTime": {
     "end_time": "2022-05-09T09:51:08.924965Z",
     "start_time": "2022-05-09T09:51:05.052617Z"
    }
   },
   "outputs": [
    {
     "name": "stdout",
     "output_type": "stream",
     "text": [
      "ababc\n",
      "12\n"
     ]
    }
   ],
   "source": [
    "# SOL 2) set만 생성해서 바로 집어넣기\n",
    "# --- import sys : 580 ms\n",
    "# --- import sys + pypy3 : 552 ms\n",
    "\n",
    "import sys\n",
    "input = sys.stdin.readline\n",
    "\n",
    "S = input().strip()\n",
    "C_set = set()\n",
    "\n",
    "for i in range(len(S)): \n",
    "    for j in range(len(S)-i): \n",
    "        C_set.add(S[j:j+(i+1)])\n",
    "\n",
    "print(len(C_set))"
   ]
  },
  {
   "cell_type": "code",
   "execution_count": 19,
   "id": "b576e7e6",
   "metadata": {
    "ExecuteTime": {
     "end_time": "2022-05-09T10:06:47.356131Z",
     "start_time": "2022-05-09T10:06:45.314657Z"
    }
   },
   "outputs": [
    {
     "name": "stdout",
     "output_type": "stream",
     "text": [
      "ababc\n",
      "12\n"
     ]
    }
   ],
   "source": [
    "# SOL 3) ploffer11 님의 美친 풀이..\n",
    "# --- input() : 92 ms\n",
    "# --- input() + pypy3 : 136 ms\n",
    "\n",
    "s = input()\n",
    "n = len(s)\n",
    "\n",
    "tmp = [0] * n \n",
    "lcp = [0] * n \n",
    "sa = [i for i in range(n)]\n",
    "r = [ord(i) for i in s]\n",
    "f = lambda m: r[m] if m < n else -1 \n",
    "\n",
    "L = 1\n",
    "while L <= n:\n",
    "    \n",
    "    sa.sort(key=lambda x: (f(x),f(x+L)))\n",
    "\n",
    "    tmp[sa[0]] = rnk = 0\n",
    "    for i in range(1, n):\n",
    "        if f(sa[i]) != f(sa[i-1]) or f(sa[i]+L) != f(sa[i-1]+L):\n",
    "            rnk += 1\n",
    "        tmp[sa[i]] = rnk \n",
    "\n",
    "    r = tmp[:]\n",
    "    L <<= 1\n",
    "\n",
    "for i in range(n):\n",
    "    r[sa[i]] = i \n",
    "\n",
    "L = 0\n",
    "for i in range(n):\n",
    "    if r[i]:\n",
    "        j = sa[r[i] - 1]\n",
    "\n",
    "        while i+L<n and j+L<n and s[i+L]==s[j+L]:\n",
    "            L += 1\n",
    "    \n",
    "        lcp[r[i]] = L\n",
    "        L -= bool(L)\n",
    "\n",
    "print(n*(n+1)//2 - sum(lcp))"
   ]
  }
 ],
 "metadata": {
  "kernelspec": {
   "display_name": "Python 3 (ipykernel)",
   "language": "python",
   "name": "python3"
  },
  "language_info": {
   "codemirror_mode": {
    "name": "ipython",
    "version": 3
   },
   "file_extension": ".py",
   "mimetype": "text/x-python",
   "name": "python",
   "nbconvert_exporter": "python",
   "pygments_lexer": "ipython3",
   "version": "3.9.7"
  },
  "toc": {
   "base_numbering": 1,
   "nav_menu": {},
   "number_sections": true,
   "sideBar": true,
   "skip_h1_title": false,
   "title_cell": "Table of Contents",
   "title_sidebar": "Contents",
   "toc_cell": false,
   "toc_position": {},
   "toc_section_display": true,
   "toc_window_display": true
  }
 },
 "nbformat": 4,
 "nbformat_minor": 5
}
