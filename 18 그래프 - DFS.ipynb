{
 "cells": [
  {
   "cell_type": "markdown",
   "id": "ed36ec78-d44b-4005-8050-6a7c40aea3e3",
   "metadata": {},
   "source": [
    "# [2667 단지번호붙이기](https://www.acmicpc.net/problem/2667)"
   ]
  },
  {
   "cell_type": "code",
   "execution_count": 5,
   "id": "2bf35aaa-bb35-4da5-b252-a890957a4c39",
   "metadata": {},
   "outputs": [
    {
     "name": "stdout",
     "output_type": "stream",
     "text": [
      "3\n",
      "7\n",
      "8\n",
      "9\n"
     ]
    }
   ],
   "source": [
    "# 241010 목 AM 2:45\n",
    "# DFS 풀이 => 재귀함수 활용\n",
    "\n",
    "'''\n",
    "1. 아이디어\n",
    "- 2중 for, 값 1 && 방문 X => DFS\n",
    "- DFS를 통해 찾은 값을 저장 후 정렬해서 출력\n",
    "\n",
    "2. 시간복잡도\n",
    "- DFS: O(V+E)\n",
    "- V, E: N^2, 4N^2\n",
    "- V+E: 5N^2 ~= N^2 ~= 625 => 가능!\n",
    "\n",
    "3. 자료구조\n",
    "- DFS는 stack or 재귀함수 이용 => 이 문제에서는 재귀함수로 풀 것임\n",
    "- 그래프 저장: int[][]\n",
    "- 방문 여부: bool[][]\n",
    "- 결과값: int[][]\n",
    "'''\n",
    "\n",
    "'''\n",
    "[입력 예제]\n",
    "N = 7\n",
    "arr = [[0,1,1,0,1,0,0], [0,1,1,0,1,0,1], [1,1,1,0,1,0,1],\n",
    "       [0,0,0,0,1,1,1], [0,1,0,0,0,0,0], [0,1,1,1,1,1,0],\n",
    "       [0,1,1,1,0,0,0]]\n",
    "[출력 예제]\n",
    "3\n",
    "7\n",
    "8\n",
    "9\n",
    "'''\n",
    "\n",
    "N = int(input())\n",
    "arr = [list(map(int, ' '.join(input()).split())) for _ in range(N)]\n",
    "\n",
    "v = [[0] * N for _ in range(N)]\n",
    "result = []\n",
    "cnt = 0\n",
    "\n",
    "def dfs(i, j):\n",
    "    global cnt\n",
    "    cnt += 1\n",
    "    for di, dj in ((-1, 0), (1, 0), (0, -1), (0, 1)):\n",
    "        ni, nj = i+di, j+dj\n",
    "        # 상하좌우 조건 검사 (범위내, 집 존재, 방문X)\n",
    "        if 0 <= ni < N and 0 <= nj < N and arr[ni][nj] == 1 and v[ni][nj] == 0:\n",
    "            v[ni][nj] = 1\n",
    "            dfs(ni, nj)\n",
    "\n",
    "# 전체 arr 순회\n",
    "for i in range(N):\n",
    "    for j in range(N):\n",
    "        # 집이 있고, 해당 집을 단지로 카운팅 안한 경우\n",
    "        if arr[i][j] == 1 and v[i][j] == 0:\n",
    "            v[i][j] = 1\n",
    "            cnt = 0\n",
    "            dfs(i, j)\n",
    "            result.append(cnt)\n",
    "\n",
    "result.sort()\n",
    "print(len(result))\n",
    "for r in result:\n",
    "    print(r)"
   ]
  },
  {
   "cell_type": "code",
   "execution_count": 15,
   "id": "11cd4de3-2007-4212-839c-2ade04846fac",
   "metadata": {},
   "outputs": [
    {
     "name": "stdout",
     "output_type": "stream",
     "text": [
      "3\n",
      "7\n",
      "8\n",
      "9\n"
     ]
    }
   ],
   "source": [
    "# 241010 목 AM 2:58\n",
    "# BFS 풀이 => queue 활용\n",
    "\n",
    "N = int(input())\n",
    "arr = [list(map(int, ' '.join(input()).split())) for _ in range(N)]\n",
    "v = [[0] * N for _ in range(N)]\n",
    "\n",
    "def bfs(i, j):\n",
    "    cnt = 1\n",
    "    # q 생성 및 초기 데이터 삽입\n",
    "    q = [(i, j)]\n",
    "    while q:\n",
    "        ci, cj = q.pop(0)\n",
    "        for di, dj in ((-1, 0), (1, 0), (0, -1), (0, 1)):\n",
    "            ni, nj = ci+di, cj+dj\n",
    "            # 상하좌우 조건 검사 (범위내, 집 존재, 방문X)\n",
    "            if 0 <= ni < N and 0 <= nj < N and arr[ni][nj] == 1 and v[ni][nj] == 0:\n",
    "                cnt += 1\n",
    "                v[ni][nj] = 1\n",
    "                q.append((ni, nj))\n",
    "    return cnt\n",
    "\n",
    "result = []\n",
    "\n",
    "# 전체 arr 순회\n",
    "for i in range(N):\n",
    "    for j in range(N):\n",
    "        # 집이 있고, 해당 집을 단지로 카운팅 안한 경우\n",
    "        if arr[i][j] == 1 and v[i][j] == 0:\n",
    "            v[i][j] = 1\n",
    "            result.append(bfs(i, j))\n",
    "\n",
    "result.sort()\n",
    "print(len(result))\n",
    "for r in result:\n",
    "    print(r)"
   ]
  }
 ],
 "metadata": {
  "kernelspec": {
   "display_name": "Python 3 (ipykernel)",
   "language": "python",
   "name": "python3"
  },
  "language_info": {
   "codemirror_mode": {
    "name": "ipython",
    "version": 3
   },
   "file_extension": ".py",
   "mimetype": "text/x-python",
   "name": "python",
   "nbconvert_exporter": "python",
   "pygments_lexer": "ipython3",
   "version": "3.12.6"
  }
 },
 "nbformat": 4,
 "nbformat_minor": 5
}
