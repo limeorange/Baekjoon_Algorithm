{
 "cells": [
  {
   "cell_type": "markdown",
   "id": "32f8a777",
   "metadata": {},
   "source": [
    "# [10872 팩토리얼](https://www.acmicpc.net/problem/10872)\n",
    "- `문제` 0보다 크거나 같은 정수 N이 주어진다. 이때, N!을 출력하는 프로그램을 작성하시오.\n",
    "\n",
    "\n",
    "- `입력` 첫째 줄에 정수 N(0 ≤ N ≤ 12)이 주어진다.\n",
    "    - ex) 10 / 0\n",
    "\n",
    "\n",
    "- `출력` 첫째 줄에 N!을 출력한다.\n",
    "    - ex) 3628800 / 1"
   ]
  },
  {
   "cell_type": "code",
   "execution_count": 5,
   "id": "a37f1241",
   "metadata": {
    "ExecuteTime": {
     "end_time": "2022-04-22T03:15:34.286955Z",
     "start_time": "2022-04-22T03:15:32.943981Z"
    }
   },
   "outputs": [
    {
     "name": "stdout",
     "output_type": "stream",
     "text": [
      "10\n",
      "3628800\n"
     ]
    }
   ],
   "source": [
    "# SOL 1) for문 이용 (68 ms)\n",
    "\n",
    "n = int(input())\n",
    "result = 1\n",
    "if n > 0:\n",
    "    for i in range(1, n+1):\n",
    "        result *= i\n",
    "print(result)"
   ]
  },
  {
   "cell_type": "code",
   "execution_count": 4,
   "id": "74bdf6cd",
   "metadata": {
    "ExecuteTime": {
     "end_time": "2022-04-22T03:13:59.373352Z",
     "start_time": "2022-04-22T03:13:55.491827Z"
    }
   },
   "outputs": [
    {
     "name": "stdout",
     "output_type": "stream",
     "text": [
      "10\n",
      "3628800\n"
     ]
    }
   ],
   "source": [
    "# SOL 2) while문 이용 (72 ms)\n",
    "\n",
    "n = int(input())\n",
    "result = 1\n",
    "while n > 0:\n",
    "    result *= n\n",
    "    n -= 1\n",
    "print(result)"
   ]
  },
  {
   "cell_type": "code",
   "execution_count": 3,
   "id": "a6d04e15",
   "metadata": {
    "ExecuteTime": {
     "end_time": "2022-04-22T03:12:27.377500Z",
     "start_time": "2022-04-22T03:12:25.843810Z"
    }
   },
   "outputs": [
    {
     "name": "stdout",
     "output_type": "stream",
     "text": [
      "10\n",
      "3628800\n"
     ]
    }
   ],
   "source": [
    "# SOL 3) 재귀 함수 이용 (68 ms)\n",
    "\n",
    "def factorial(n):\n",
    "    result = 1\n",
    "    if n > 0:\n",
    "        result = n * factorial(n-1)\n",
    "    return result\n",
    "\n",
    "n = int(input())\n",
    "print(factorial(n))"
   ]
  },
  {
   "cell_type": "markdown",
   "id": "caa0088c",
   "metadata": {},
   "source": [
    "# [10870 피보나치 수 5](https://www.acmicpc.net/problem/10870)\n",
    "- `문제` 피보나치 수는 0과 1로 시작한다. 0번째 피보나치 수는 0이고, 1번째 피보나치 수는 1이다. 그 다음 2번째 부터는 바로 앞 두 피보나치 수의 합이 된다. 이를 식으로 써보면 Fn = Fn-1 + Fn-2 (n ≥ 2)가 된다. n=17일때 까지 피보나치 수를 써보면 다음과 같다. 0, 1, 1, 2, 3, 5, 8, 13, 21, 34, 55, 89, 144, 233, 377, 610, 987, 1597 n이 주어졌을 때, n번째 피보나치 수를 구하는 프로그램을 작성하시오. \n",
    "\n",
    "\n",
    "- `입력` 첫째 줄에 n이 주어진다. n은 20보다 작거나 같은 자연수 또는 0이다.\n",
    "    - ex) 10\n",
    "\n",
    "\n",
    "- `출력` 첫째 줄에 n번째 피보나치 수를 출력한다.\n",
    "    - ex) 55"
   ]
  },
  {
   "cell_type": "code",
   "execution_count": 15,
   "id": "beec0bbd",
   "metadata": {
    "ExecuteTime": {
     "end_time": "2022-04-22T05:06:30.872449Z",
     "start_time": "2022-04-22T05:06:29.969410Z"
    }
   },
   "outputs": [
    {
     "name": "stdout",
     "output_type": "stream",
     "text": [
      "10\n",
      "55\n"
     ]
    }
   ],
   "source": [
    "# SOL 1) for문 이용 (68 ms)\n",
    "\n",
    "N = int(input())\n",
    "\n",
    "if N == 0:\n",
    "    print(0)\n",
    "\n",
    "else: \n",
    "    lst = [0, 1]\n",
    "    for i in range(N-1): \n",
    "        lst.append(lst[i]+lst[i+1]) \n",
    "    print(lst[-1])"
   ]
  },
  {
   "cell_type": "code",
   "execution_count": 28,
   "id": "98f2b36b",
   "metadata": {
    "ExecuteTime": {
     "end_time": "2022-04-22T05:17:29.400228Z",
     "start_time": "2022-04-22T05:17:28.015206Z"
    }
   },
   "outputs": [
    {
     "name": "stdout",
     "output_type": "stream",
     "text": [
      "17\n",
      "1597\n"
     ]
    }
   ],
   "source": [
    "# SOL 2) while문 이용 (68 ms)\n",
    "\n",
    "N = int(input())\n",
    "\n",
    "if N == 0:\n",
    "    print(0)\n",
    "\n",
    "else:\n",
    "    lst = [0, 1]\n",
    "    while len(lst) < N+1:\n",
    "        lst.append(sum(lst[-2:]))\n",
    "    print(lst[-1])"
   ]
  },
  {
   "cell_type": "code",
   "execution_count": 34,
   "id": "4ac25524",
   "metadata": {
    "ExecuteTime": {
     "end_time": "2022-04-22T06:15:16.355150Z",
     "start_time": "2022-04-22T06:15:13.953491Z"
    }
   },
   "outputs": [
    {
     "name": "stdout",
     "output_type": "stream",
     "text": [
      "10\n",
      "55\n"
     ]
    }
   ],
   "source": [
    "# SOL 3) 재귀 함수 이용 (68 ms)\n",
    "\n",
    "def fibonacci(n):\n",
    "    if n <= 1:\n",
    "        return n\n",
    "    return fibonacci(n-2) + fibonacci(n-1)\n",
    "\n",
    "n = int(input())\n",
    "print(fibonacci(n))"
   ]
  },
  {
   "cell_type": "markdown",
   "id": "d538e948",
   "metadata": {},
   "source": [
    "# [17478 재귀함수가 뭔가요?](https://www.acmicpc.net/problem/17478)\n",
    "- `문제` 평소에 질문을 잘 받아주기로 유명한 중앙대학교의 JH 교수님은 학생들로부터 재귀함수가 무엇인지에 대하여 많은 질문을 받아왔다. 매번 질문을 잘 받아주셨던 JH 교수님이지만 그는 중앙대학교가 자신과 맞는가에 대한 고민을 항상 해왔다. 중앙대학교와 자신의 길이 맞지 않다고 생각한 JH 교수님은 결국 중앙대학교를 떠나기로 결정하였다. 떠나기 전까지도 제자들을 생각하셨던 JH 교수님은 재귀함수가 무엇인지 물어보는 학생들을 위한 작은 선물로 자동 응답 챗봇을 준비하기로 했다. JH 교수님이 만들 챗봇의 응답을 출력하는 프로그램을 만들어보자.\n",
    "\n",
    "\n",
    "- `입력` 교수님이 출력을 원하는 재귀 횟수 N(1 ≤ N ≤ 50)이 주어진다.\n",
    "    - ex) 2\n",
    "\n",
    "\n",
    "- `출력` 출력 예시를 보고 재귀 횟수에 따른 챗봇의 응답을 출력한다.\n",
    "    - ex) 어느 한 컴퓨터공학과 학생이 유명한 교수님을 찾아가 물었다. `\\n` \"재귀함수가 뭔가요?\" `\\n` \"잘 들어보게. 옛날옛날 한 산 꼭대기에 이세상 모든 지식을 통달한 선인이 있었어. `\\n` 마을 사람들은 모두 그 선인에게 수많은 질문을 했고, 모두 지혜롭게 대답해 주었지. `\\n` 그의 답은 대부분 옳았다고 하네. 그런데 어느 날, 그 선인에게 한 선비가 찾아와서 물었어.\" `\\n` ____\"재귀함수가 뭔가요?\" `\\n` ____\"잘 들어보게. 옛날옛날 한 산 꼭대기에 이세상 모든 지식을 통달한 선인이 있었어. `\\n` ____마을 사람들은 모두 그 선인에게 수많은 질문을 했고, 모두 지혜롭게 대답해 주었지. `\\n` ____그의 답은 대부분 옳았다고 하네. 그런데 어느 날, 그 선인에게 한 선비가 찾아와서 물었어.\" `\\n` ________\"재귀함수가 뭔가요?\" `\\n` ________\"재귀함수는 자기 자신을 호출하는 함수라네\" `\\n` ________라고 답변하였지. `\\n` ____라고 답변하였지. `\\n` 라고 답변하였지."
   ]
  },
  {
   "cell_type": "code",
   "execution_count": 16,
   "id": "11ae3013",
   "metadata": {
    "ExecuteTime": {
     "end_time": "2022-05-02T09:38:53.722489Z",
     "start_time": "2022-05-02T09:38:52.768333Z"
    }
   },
   "outputs": [
    {
     "name": "stdout",
     "output_type": "stream",
     "text": [
      "2\n",
      "어느 한 컴퓨터공학과 학생이 유명한 교수님을 찾아가 물었다.\n",
      "\"재귀함수가 뭔가요?\"\n",
      "\"잘 들어보게. 옛날옛날 한 산 꼭대기에 이세상 모든 지식을 통달한 선인이 있었어.\n",
      "마을 사람들은 모두 그 선인에게 수많은 질문을 했고, 모두 지혜롭게 대답해 주었지.\n",
      "그의 답은 대부분 옳았다고 하네. 그런데 어느 날, 그 선인에게 한 선비가 찾아와서 물었어.\"\n",
      "____\"재귀함수가 뭔가요?\"\n",
      "____\"잘 들어보게. 옛날옛날 한 산 꼭대기에 이세상 모든 지식을 통달한 선인이 있었어.\n",
      "____마을 사람들은 모두 그 선인에게 수많은 질문을 했고, 모두 지혜롭게 대답해 주었지.\n",
      "____그의 답은 대부분 옳았다고 하네. 그런데 어느 날, 그 선인에게 한 선비가 찾아와서 물었어.\"\n",
      "________\"재귀함수가 뭔가요?\"\n",
      "________\"재귀함수는 자기 자신을 호출하는 함수라네\"\n",
      "________라고 답변하였지.\n",
      "____라고 답변하였지.\n",
      "라고 답변하였지.\n"
     ]
    }
   ],
   "source": [
    "# SOL 1) (72 ms)\n",
    "\n",
    "N = int(input())\n",
    "\n",
    "def recursive(N, i=0):\n",
    "    print('____' * i + '\"재귀함수가 뭔가요?\"')\n",
    "    if i == N:\n",
    "        print('____' * i + '\"재귀함수는 자기 자신을 호출하는 함수라네\"')\n",
    "    else:\n",
    "        print('____' * i + '\"잘 들어보게. 옛날옛날 한 산 꼭대기에 이세상 모든 지식을 통달한 선인이 있었어.')\n",
    "        print('____' * i + '마을 사람들은 모두 그 선인에게 수많은 질문을 했고, 모두 지혜롭게 대답해 주었지.')\n",
    "        print('____' * i + '그의 답은 대부분 옳았다고 하네. 그런데 어느 날, 그 선인에게 한 선비가 찾아와서 물었어.\"')\n",
    "        recursive(N, i+1)\n",
    "    print('____' * i + '라고 답변하였지.')\n",
    "\n",
    "print(\"어느 한 컴퓨터공학과 학생이 유명한 교수님을 찾아가 물었다.\") \n",
    "recursive(N)"
   ]
  },
  {
   "attachments": {
    "%E1%84%89%E1%85%B3%E1%84%8F%E1%85%B3%E1%84%85%E1%85%B5%E1%86%AB%E1%84%89%E1%85%A3%E1%86%BA%202022-04-22%20%E1%84%8B%E1%85%A9%E1%84%92%E1%85%AE%2012.01.25.png": {
     "image/png": "[encoded data removed]"
    }
   },
   "cell_type": "markdown",
   "id": "ad6d2d68",
   "metadata": {},
   "source": [
    "# [2447 별 찍기 - 10](https://www.acmicpc.net/problem/2447)\n",
    "- `문제` 재귀적인 패턴으로 별을 찍어 보자. N이 3의 거듭제곱(3, 9, 27, ...)이라고 할 때, 크기 N의 패턴은 N×N 정사각형 모양이다. 크기 3의 패턴은 가운데에 공백이 있고, 가운데를 제외한 모든 칸에 별이 하나씩 있는 패턴이다. N이 3보다 클 경우, 크기 N의 패턴은 공백으로 채워진 가운데의 (N/3)×(N/3) 정사각형을 크기 N/3의 패턴으로 둘러싼 형태이다. 예를 들어 크기 27의 패턴은 예제 출력 1과 같다.\n",
    "![%E1%84%89%E1%85%B3%E1%84%8F%E1%85%B3%E1%84%85%E1%85%B5%E1%86%AB%E1%84%89%E1%85%A3%E1%86%BA%202022-04-22%20%E1%84%8B%E1%85%A9%E1%84%92%E1%85%AE%2012.01.25.png](attachment:%E1%84%89%E1%85%B3%E1%84%8F%E1%85%B3%E1%84%85%E1%85%B5%E1%86%AB%E1%84%89%E1%85%A3%E1%86%BA%202022-04-22%20%E1%84%8B%E1%85%A9%E1%84%92%E1%85%AE%2012.01.25.png)\n",
    "\n",
    "\n",
    "- `입력` 첫째 줄에 N이 주어진다. N은 3의 거듭제곱이다. 즉 어떤 정수 k에 대해 N=3k이며, 이때 1 ≤ k < 8이다.\n",
    "    - ex) 27\n",
    "    \n",
    "    \n",
    "- `출력` 첫째 줄부터 N번째 줄까지 별을 출력한다.\n",
    "    - ex) [예제 출력 1 그림 참고](https://www.acmicpc.net/problem/2447)"
   ]
  },
  {
   "cell_type": "code",
   "execution_count": 14,
   "id": "4427ff04",
   "metadata": {
    "ExecuteTime": {
     "end_time": "2022-04-25T07:12:06.957202Z",
     "start_time": "2022-04-25T07:12:05.676670Z"
    }
   },
   "outputs": [
    {
     "name": "stdout",
     "output_type": "stream",
     "text": [
      "27\n",
      "***************************\n",
      "* ** ** ** ** ** ** ** ** *\n",
      "***************************\n",
      "***   ******   ******   ***\n",
      "* *   * ** *   * ** *   * *\n",
      "***   ******   ******   ***\n",
      "***************************\n",
      "* ** ** ** ** ** ** ** ** *\n",
      "***************************\n",
      "*********         *********\n",
      "* ** ** *         * ** ** *\n",
      "*********         *********\n",
      "***   ***         ***   ***\n",
      "* *   * *         * *   * *\n",
      "***   ***         ***   ***\n",
      "*********         *********\n",
      "* ** ** *         * ** ** *\n",
      "*********         *********\n",
      "***************************\n",
      "* ** ** ** ** ** ** ** ** *\n",
      "***************************\n",
      "***   ******   ******   ***\n",
      "* *   * ** *   * ** *   * *\n",
      "***   ******   ******   ***\n",
      "***************************\n",
      "* ** ** ** ** ** ** ** ** *\n",
      "***************************\n"
     ]
    }
   ],
   "source": [
    "# SOL 1) (108 ms)\n",
    "\n",
    "def stars(base):\n",
    "    matrix = []\n",
    "    for i in range(3 * len(base)):\n",
    "        if i // len(base) == 1: ## 3, 4, 5\n",
    "            matrix.append(base[i % len(base)] + \" \" * len(base) + base[i % len(base)])\n",
    "        else:\n",
    "            matrix.append(base[i % len(base)] * 3)\n",
    "    return matrix\n",
    "\n",
    "# stars 함수를 통해 star의 항목을 재귀적으로 늘려나가는 것이 포인트\n",
    "star = [\"***\", \"* *\", \"***\"] ## n = 9 -> 길이가 9인 리스트, n = 27 -> 길이가 27인 리스트\n",
    "n = int(input())\n",
    "k = 0\n",
    "\n",
    "# n을 3으로 나눈 값이 3이 될 때까지 나눈 횟수 = k\n",
    "while n != 3:\n",
    "    n = int(n / 3)\n",
    "    k += 1\n",
    "\n",
    "# n = 9부터 stars 함수 적용\n",
    "## n = 9 -> stars 1번 적용 / n = 27 -> stars 2번 적용\n",
    "for _ in range(k):\n",
    "    star = stars(star)\n",
    "\n",
    "for i in star:\n",
    "    print(i)"
   ]
  },
  {
   "attachments": {
    "%E1%84%89%E1%85%B3%E1%84%8F%E1%85%B3%E1%84%85%E1%85%B5%E1%86%AB%E1%84%89%E1%85%A3%E1%86%BA%202022-04-22%20%E1%84%8B%E1%85%A9%E1%84%92%E1%85%AE%2012.05.31.png": {
     "image/png": "[encoded data removed]"
    }
   },
   "cell_type": "markdown",
   "id": "ae7b77c6",
   "metadata": {},
   "source": [
    "# [11729 하노이 탑 이동 순서](https://www.acmicpc.net/problem/11729)\n",
    "- `문제` 세 개의 장대가 있고 첫 번째 장대에는 반경이 서로 다른 n개의 원판이 쌓여 있다. 각 원판은 반경이 큰 순서대로 쌓여있다. 이제 수도승들이 다음 규칙에 따라 첫 번째 장대에서 세 번째 장대로 옮기려 한다. 한 번에 한 개의 원판만을 다른 탑으로 옮길 수 있다. 쌓아 놓은 원판은 항상 위의 것이 아래의 것보다 작아야 한다. 이 작업을 수행하는데 필요한 이동 순서를 출력하는 프로그램을 작성하라. 단, 이동 횟수는 최소가 되어야 한다. 아래 그림은 원판이 5개인 경우의 예시이다.\n",
    "![%E1%84%89%E1%85%B3%E1%84%8F%E1%85%B3%E1%84%85%E1%85%B5%E1%86%AB%E1%84%89%E1%85%A3%E1%86%BA%202022-04-22%20%E1%84%8B%E1%85%A9%E1%84%92%E1%85%AE%2012.05.31.png](attachment:%E1%84%89%E1%85%B3%E1%84%8F%E1%85%B3%E1%84%85%E1%85%B5%E1%86%AB%E1%84%89%E1%85%A3%E1%86%BA%202022-04-22%20%E1%84%8B%E1%85%A9%E1%84%92%E1%85%AE%2012.05.31.png)\n",
    "\n",
    "\n",
    "- `입력` 첫째 줄에 첫 번째 장대에 쌓인 원판의 개수 N (1 ≤ N ≤ 20)이 주어진다.\n",
    "    - ex) 3\n",
    "    \n",
    "    \n",
    "- `출력` 첫째 줄에 옮긴 횟수 K를 출력한다. 두 번째 줄부터 수행 과정을 출력한다. 두 번째 줄부터 K개의 줄에 걸쳐 두 정수 A B를 빈칸을 사이에 두고 출력하는데, 이는 A번째 탑의 가장 위에 있는 원판을 B번째 탑의 가장 위로 옮긴다는 뜻이다.\n",
    "    - ex) 7 `\\n` 1 3 `\\n` 1 2 `\\n` 3 2 `\\n` 1 3 `\\n` 2 1 `\\n` 2 3 `\\n` 1 3"
   ]
  },
  {
   "cell_type": "code",
   "execution_count": 17,
   "id": "abf8effd",
   "metadata": {
    "ExecuteTime": {
     "end_time": "2022-04-26T02:07:49.854513Z",
     "start_time": "2022-04-26T02:07:48.734726Z"
    }
   },
   "outputs": [
    {
     "name": "stdout",
     "output_type": "stream",
     "text": [
      "4\n",
      "15\n",
      "1 2\n",
      "1 3\n",
      "2 3\n",
      "1 2\n",
      "3 1\n",
      "3 2\n",
      "1 2\n",
      "1 3\n",
      "2 3\n",
      "2 1\n",
      "3 1\n",
      "2 3\n",
      "1 2\n",
      "1 3\n",
      "2 3\n"
     ]
    }
   ],
   "source": [
    "# SOL 1) (1624 ms)\n",
    "\n",
    "def hanoi(n, a, b, c):\n",
    "    if n == 1:\n",
    "        move.append([a, c])\n",
    "    else:\n",
    "        hanoi(n-1, a, c, b)\n",
    "        move.append([a, c])\n",
    "        hanoi(n-1, b, a, c)\n",
    "\n",
    "move = []\n",
    "hanoi(int(input()), 1, 2, 3)\n",
    "\n",
    "print(len(move))\n",
    "print('\\n'.join([' '.join(str(i) for i in row) for row in move]))"
   ]
  },
  {
   "cell_type": "code",
   "execution_count": 1,
   "id": "74de341f",
   "metadata": {
    "ExecuteTime": {
     "end_time": "2022-04-26T02:10:15.634827Z",
     "start_time": "2022-04-26T02:10:12.929148Z"
    }
   },
   "outputs": [
    {
     "name": "stdout",
     "output_type": "stream",
     "text": [
      "4\n",
      "15\n",
      "1 2\n",
      "1 3\n",
      "2 3\n",
      "1 2\n",
      "3 1\n",
      "3 2\n",
      "1 2\n",
      "1 3\n",
      "2 3\n",
      "2 1\n",
      "3 1\n",
      "2 3\n",
      "1 2\n",
      "1 3\n",
      "2 3\n"
     ]
    }
   ],
   "source": [
    "# SOL 2) (80 ms)\n",
    "\n",
    "cache = {}\n",
    "\n",
    "def hanoi_top(start, end, n):\n",
    "    if n == 1:\n",
    "        return f'{start} {end}'\n",
    "    \n",
    "    if (start, end, n) in cache:\n",
    "        return cache[(start, end, n)]\n",
    "    \n",
    "    t = 6-start-end\n",
    "    \n",
    "    temp = [hanoi_top(start, t, n-1),\n",
    "            f'{start} {end}', hanoi_top(t, end, n-1)]\n",
    "    \n",
    "    cache[(start, end, n)] = '\\n'.join(temp)\n",
    "\n",
    "    return cache[(start, end, n)]\n",
    "\n",
    "n = int(input())\n",
    "\n",
    "print(2**n-1)\n",
    "print(hanoi_top(1, 3, n)) "
   ]
  }
 ],
 "metadata": {
  "kernelspec": {
   "display_name": "Python 3 (ipykernel)",
   "language": "python",
   "name": "python3"
  },
  "language_info": {
   "codemirror_mode": {
    "name": "ipython",
    "version": 3
   },
   "file_extension": ".py",
   "mimetype": "text/x-python",
   "name": "python",
   "nbconvert_exporter": "python",
   "pygments_lexer": "ipython3",
   "version": "3.9.7"
  },
  "toc": {
   "base_numbering": 1,
   "nav_menu": {},
   "number_sections": true,
   "sideBar": true,
   "skip_h1_title": false,
   "title_cell": "Table of Contents",
   "title_sidebar": "Contents",
   "toc_cell": false,
   "toc_position": {},
   "toc_section_display": true,
   "toc_window_display": false
  }
 },
 "nbformat": 4,
 "nbformat_minor": 5
}
